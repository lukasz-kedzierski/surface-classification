{
 "cells": [
  {
   "cell_type": "code",
   "id": "initial_id",
   "metadata": {
    "collapsed": true,
    "ExecuteTime": {
     "end_time": "2024-05-02T16:27:17.706373Z",
     "start_time": "2024-05-02T16:27:17.697395Z"
    }
   },
   "source": [
    "import json\n",
    "import matplotlib.pyplot as plt\n",
    "import numpy as np\n",
    "import pandas as pd\n",
    "\n",
    "from pathlib import Path"
   ],
   "outputs": [],
   "execution_count": 22
  },
  {
   "metadata": {
    "ExecuteTime": {
     "end_time": "2024-05-02T16:06:25.358981Z",
     "start_time": "2024-05-02T16:06:25.341029Z"
    }
   },
   "cell_type": "code",
   "source": [
    "HISTORY_DIR = Path('../results/')\n",
    "filename = '4W_imu_servo_2024-05-02-17-48-56.json'"
   ],
   "id": "dd8580ea3b5441e9",
   "outputs": [],
   "execution_count": 3
  },
  {
   "metadata": {
    "ExecuteTime": {
     "end_time": "2024-05-02T16:06:25.908396Z",
     "start_time": "2024-05-02T16:06:25.895915Z"
    }
   },
   "cell_type": "code",
   "source": [
    "with open(HISTORY_DIR / filename) as fp:\n",
    "    results = json.load(fp)"
   ],
   "id": "549ea67dcbc82bd",
   "outputs": [],
   "execution_count": 4
  },
  {
   "metadata": {
    "ExecuteTime": {
     "end_time": "2024-05-02T16:06:39.453383Z",
     "start_time": "2024-05-02T16:06:39.437426Z"
    }
   },
   "cell_type": "code",
   "source": "results.keys()",
   "id": "ed423b68b968b517",
   "outputs": [
    {
     "data": {
      "text/plain": [
       "dict_keys(['1', '2'])"
      ]
     },
     "execution_count": 6,
     "metadata": {},
     "output_type": "execute_result"
    }
   ],
   "execution_count": 6
  },
  {
   "metadata": {
    "ExecuteTime": {
     "end_time": "2024-05-02T16:08:00.971183Z",
     "start_time": "2024-05-02T16:08:00.948243Z"
    }
   },
   "cell_type": "code",
   "source": [
    "df = pd.DataFrame(results)\n",
    "df"
   ],
   "id": "1bb6458278e73708",
   "outputs": [
    {
     "data": {
      "text/plain": [
       "                                                            1  \\\n",
       "train_loss  [1.8756118501935686, 1.6059261049543108, 1.325...   \n",
       "val_loss    [2.2852203845977783, 2.450303792953491, 2.2253...   \n",
       "accuracy    [0.125, 0.125, 0.17857142857142858, 0.32142857...   \n",
       "\n",
       "                                                            2  \n",
       "train_loss  [1.995523452758789, 1.5346356800624303, 1.4524...  \n",
       "val_loss    [2.263157844543457, 2.312286376953125, 2.24205...  \n",
       "accuracy    [0.10714285714285714, 0.17857142857142858, 0.1...  "
      ],
      "text/html": [
       "<div>\n",
       "<style scoped>\n",
       "    .dataframe tbody tr th:only-of-type {\n",
       "        vertical-align: middle;\n",
       "    }\n",
       "\n",
       "    .dataframe tbody tr th {\n",
       "        vertical-align: top;\n",
       "    }\n",
       "\n",
       "    .dataframe thead th {\n",
       "        text-align: right;\n",
       "    }\n",
       "</style>\n",
       "<table border=\"1\" class=\"dataframe\">\n",
       "  <thead>\n",
       "    <tr style=\"text-align: right;\">\n",
       "      <th></th>\n",
       "      <th>1</th>\n",
       "      <th>2</th>\n",
       "    </tr>\n",
       "  </thead>\n",
       "  <tbody>\n",
       "    <tr>\n",
       "      <th>train_loss</th>\n",
       "      <td>[1.8756118501935686, 1.6059261049543108, 1.325...</td>\n",
       "      <td>[1.995523452758789, 1.5346356800624303, 1.4524...</td>\n",
       "    </tr>\n",
       "    <tr>\n",
       "      <th>val_loss</th>\n",
       "      <td>[2.2852203845977783, 2.450303792953491, 2.2253...</td>\n",
       "      <td>[2.263157844543457, 2.312286376953125, 2.24205...</td>\n",
       "    </tr>\n",
       "    <tr>\n",
       "      <th>accuracy</th>\n",
       "      <td>[0.125, 0.125, 0.17857142857142858, 0.32142857...</td>\n",
       "      <td>[0.10714285714285714, 0.17857142857142858, 0.1...</td>\n",
       "    </tr>\n",
       "  </tbody>\n",
       "</table>\n",
       "</div>"
      ]
     },
     "execution_count": 8,
     "metadata": {},
     "output_type": "execute_result"
    }
   ],
   "execution_count": 8
  },
  {
   "metadata": {
    "ExecuteTime": {
     "end_time": "2024-05-02T16:40:00.157166Z",
     "start_time": "2024-05-02T16:40:00.135823Z"
    }
   },
   "cell_type": "code",
   "source": [
    "res_array = np.array(df.loc['accuracy'].values.tolist()).T\n",
    "x = np.arange(1, res_array.shape[0] + 1)\n",
    "average_acc = res_array.mean(axis=1)\n",
    "std_dev_acc = res_array.std(axis=1)\n",
    "ci = 2 * std_dev_acc"
   ],
   "id": "83e23c991d12b703",
   "outputs": [],
   "execution_count": 29
  },
  {
   "metadata": {
    "ExecuteTime": {
     "end_time": "2024-05-02T16:43:46.642621Z",
     "start_time": "2024-05-02T16:43:46.237175Z"
    }
   },
   "cell_type": "code",
   "source": [
    "fig, ax = plt.subplots()\n",
    "ax.plot(x, average_acc)\n",
    "ax.fill_between(x, (average_acc - ci), (average_acc + ci), alpha=.1, label='4W')\n",
    "ax.set_ylim(0, 1)\n",
    "ax.set_xlabel('epoch')\n",
    "ax.set_ylabel('acc')\n",
    "plt.legend()"
   ],
   "id": "25563d941af93ddd",
   "outputs": [
    {
     "data": {
      "text/plain": [
       "<matplotlib.legend.Legend at 0x16807a231f0>"
      ]
     },
     "execution_count": 34,
     "metadata": {},
     "output_type": "execute_result"
    },
    {
     "data": {
      "text/plain": [
       "<Figure size 640x480 with 1 Axes>"
      ],
      "image/png": "[encoded data removed]"
     },
     "metadata": {},
     "output_type": "display_data"
    }
   ],
   "execution_count": 34
  },
  {
   "metadata": {},
   "cell_type": "code",
   "outputs": [],
   "execution_count": null,
   "source": "",
   "id": "96dbf2da9e7f41e5"
  }
 ],
 "metadata": {
  "kernelspec": {
   "display_name": "Python 3",
   "language": "python",
   "name": "python3"
  },
  "language_info": {
   "codemirror_mode": {
    "name": "ipython",
    "version": 2
   },
   "file_extension": ".py",
   "mimetype": "text/x-python",
   "name": "python",
   "nbconvert_exporter": "python",
   "pygments_lexer": "ipython2",
   "version": "2.7.6"
  }
 },
 "nbformat": 4,
 "nbformat_minor": 5
}
