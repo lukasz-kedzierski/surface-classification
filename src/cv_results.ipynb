{
 "cells": [
  {
   "cell_type": "code",
   "id": "initial_id",
   "metadata": {
    "collapsed": true,
    "ExecuteTime": {
     "end_time": "2024-06-07T19:54:29.866484Z",
     "start_time": "2024-06-07T19:54:29.841551Z"
    }
   },
   "source": [
    "import json\n",
    "import matplotlib.pyplot as plt\n",
    "import numpy as np\n",
    "import pandas as pd\n",
    "\n",
    "from cycler import cycler\n",
    "from pathlib import Path"
   ],
   "outputs": [],
   "execution_count": 1
  },
  {
   "metadata": {
    "ExecuteTime": {
     "end_time": "2024-06-07T20:08:47.425196Z",
     "start_time": "2024-06-07T20:08:47.408242Z"
    }
   },
   "cell_type": "code",
   "source": [
    "# matplotlib.rcParams.update(matplotlib.rcParamsDefault)\n",
    "\n",
    "nicer_green = '#159C48'\n",
    "nicer_blue = '#00A0FF'\n",
    "orange = '#FBBC04'\n",
    "\n",
    "plt.rcParams['figure.figsize'] = [5,4]\n",
    "plt.rcParams[\"axes.prop_cycle\"] = cycler('color', [nicer_blue, nicer_green, orange])\n",
    "plt.rcParams['lines.linewidth'] = 1.5"
   ],
   "id": "6d04d061a468d3b",
   "outputs": [],
   "execution_count": 36
  },
  {
   "metadata": {
    "ExecuteTime": {
     "end_time": "2024-06-07T20:30:16.368386Z",
     "start_time": "2024-06-07T20:30:16.361405Z"
    }
   },
   "cell_type": "code",
   "source": [
    "HISTORY_DIR = Path('../results/cv/')\n",
    "# filenames = (\n",
    "#     'cv_3_4W_6W_imu_2024-05-27-20-47-56',\n",
    "#     'cv_3_4W_6W_servo_2024-06-04-03-36-49',\n",
    "#     'cv_3_4W_6W_imu_servo_2024-05-27-17-42-11',\n",
    "# )\n",
    "\n",
    "# filenames =  (\n",
    "# 'cv_3_4W_imu_2024-05-27-22-17-37',\n",
    "# 'cv_3_4W_servo_2024-06-04-05-11-19',\n",
    "# 'cv_3_4W_imu_servo_2024-05-27-23-46-22',\n",
    "# )\n",
    "\n",
    "# filenames = (\n",
    "#     'cv_3_6W_imu_2024-05-28-10-03-25',\n",
    "#     'cv_3_6W_servo_2024-06-04-00-21-55',\n",
    "#     'cv_3_6W_imu_servo_2024-05-28-01-33-03'\n",
    "# )\n",
    "\n",
    "# filenames = (\n",
    "#     'cv_10_4W_imu_2024-05-12-16-12-19',\n",
    "#     'cv_10_4W_servo_2024-06-04-06-49-43',\n",
    "#     'cv_10_4W_imu_servo_2024-05-12-14-35-37',\n",
    "# )\n",
    "\n",
    "# filenames = (\n",
    "#     'cv_10_6W_imu_2024-05-12-20-11-19',\n",
    "#     'cv_10_6W_servo_2024-06-04-09-05-38',\n",
    "#     'cv_10_6W_imu_servo_2024-05-12-18-14-56',\n",
    "# )\n",
    "\n",
    "filenames = (\n",
    "    'cv_10_4W_6W_imu_2024-05-12-12-50-16',\n",
    "    'cv_10_4W_6W_servo_2024-06-04-12-19-43',\n",
    "    'cv_10_4W_6W_imu_servo_2024-05-12-06-19-23',\n",
    ")\n",
    "\n",
    "labels = ('IMU', 'POWER', 'IMU + POWER')\n",
    "\n",
    "t_95 = 2.228"
   ],
   "id": "dd8580ea3b5441e9",
   "outputs": [],
   "execution_count": 68
  },
  {
   "metadata": {
    "ExecuteTime": {
     "end_time": "2024-06-07T20:30:16.930526Z",
     "start_time": "2024-06-07T20:30:16.880018Z"
    }
   },
   "cell_type": "code",
   "source": [
    "results = {}\n",
    "for filename in filenames:\n",
    "    with open(HISTORY_DIR / (filename + '.json')) as fp:\n",
    "        results[filename] = json.load(fp)"
   ],
   "id": "549ea67dcbc82bd",
   "outputs": [],
   "execution_count": 69
  },
  {
   "metadata": {
    "ExecuteTime": {
     "end_time": "2024-06-07T20:30:27.555088Z",
     "start_time": "2024-06-07T20:30:27.161143Z"
    }
   },
   "cell_type": "code",
   "source": [
    "fig, ax = plt.subplots()\n",
    "for result, label in zip(results.values(), labels):\n",
    "    df = pd.DataFrame(result)\n",
    "    res_array = np.array(df.loc['accuracy'].values.tolist()).T\n",
    "    x = np.arange(1, res_array.shape[0] + 1)\n",
    "    average_acc = res_array.mean(axis=1)\n",
    "    std_dev_acc = res_array.std(axis=1)\n",
    "    ci = t_95 * std_dev_acc / np.sqrt(10)\n",
    "    ax.plot(x, average_acc)\n",
    "    ax.fill_between(x, (average_acc - ci), (average_acc + ci), alpha=.2, label=label)\n",
    "ax.set_xlim(1, 100)\n",
    "ax.set_ylim(0.4, 1)\n",
    "ax.set_xlabel('epoch')\n",
    "ax.set_ylabel('average accuracy')\n",
    "# ax.set_title('4W, 3 classes')\n",
    "plt.grid(which='major', axis='both', linewidth=1)\n",
    "plt.grid(which='minor', axis='both', linewidth=0.4)\n",
    "plt.minorticks_on()\n",
    "plt.legend(loc='lower right')\n",
    "# plt.show()\n",
    "plt.savefig(f'../results/cv/10_4w_6w_300dpi.png', dpi=300)\n",
    "plt.close()"
   ],
   "id": "25563d941af93ddd",
   "outputs": [],
   "execution_count": 70
  },
  {
   "metadata": {},
   "cell_type": "code",
   "outputs": [],
   "execution_count": null,
   "source": "",
   "id": "96dbf2da9e7f41e5"
  }
 ],
 "metadata": {
  "kernelspec": {
   "display_name": "Python 3",
   "language": "python",
   "name": "python3"
  },
  "language_info": {
   "codemirror_mode": {
    "name": "ipython",
    "version": 2
   },
   "file_extension": ".py",
   "mimetype": "text/x-python",
   "name": "python",
   "nbconvert_exporter": "python",
   "pygments_lexer": "ipython2",
   "version": "2.7.6"
  }
 },
 "nbformat": 4,
 "nbformat_minor": 5
}
