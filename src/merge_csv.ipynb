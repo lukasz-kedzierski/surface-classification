{
 "cells": [
  {
   "metadata": {},
   "cell_type": "markdown",
   "source": "### Imports",
   "id": "d67eaf34e7e111ce"
  },
  {
   "metadata": {
    "ExecuteTime": {
     "end_time": "2024-05-11T17:21:33.205938Z",
     "start_time": "2024-05-11T17:21:33.147501Z"
    }
   },
   "cell_type": "code",
   "source": [
    "import functools as ft\n",
    "import json\n",
    "import os\n",
    "import pandas as pd\n",
    "\n",
    "from pathlib import Path\n",
    "\n",
    "from utils import unpack_servo_data, unpack_ang_vel_data, calculate_mean_power"
   ],
   "id": "initial_id",
   "outputs": [],
   "execution_count": 1
  },
  {
   "metadata": {},
   "cell_type": "markdown",
   "source": "### Constants",
   "id": "8c7dfac2ef76dec4"
  },
  {
   "metadata": {
    "ExecuteTime": {
     "end_time": "2024-05-11T17:22:41.343559Z",
     "start_time": "2024-05-11T17:22:41.338571Z"
    }
   },
   "cell_type": "code",
   "source": [
    "TRAIN = True\n",
    "OLD = False\n",
    "TOPIC_FILES = ('imu-data.csv', 'Servo_data.csv', 'wheel_feedback.csv')\n",
    "# set containing velocity commands and odometry: ('cmd_vel.csv', 'imu-data.csv', 'odom.csv', 'Servo_data.csv', 'wheel_feedback.csv')"
   ],
   "id": "2843b3c8f0316e58",
   "outputs": [],
   "execution_count": 2
  },
  {
   "metadata": {},
   "cell_type": "markdown",
   "source": "### Train/Test specific variables",
   "id": "9c0c12dbac306945"
  },
  {
   "cell_type": "code",
   "source": [
    "if TRAIN:\n",
    "    main_dir = Path('../data/train_set/fixed/')\n",
    "    target_dir = Path('../data/train_set/csv')\n",
    "    bag_paths = [folder for folder in main_dir.rglob('**/') if any(subfolder in folder.__str__() for subfolder in ('T1\\\\', 'T2\\\\'))]\n",
    "else:\n",
    "    main_dir = Path('../data/test_set/bags/')\n",
    "    target_dir = Path('../data/test_set/csv/')\n",
    "    bag_paths = [folder for folder in main_dir.rglob('**/')][1:]\n",
    "    \n",
    "labels = {}"
   ],
   "metadata": {
    "collapsed": false,
    "ExecuteTime": {
     "end_time": "2024-05-11T17:22:49.250250Z",
     "start_time": "2024-05-11T17:22:48.860292Z"
    }
   },
   "id": "8e7ffca97cee5487",
   "outputs": [],
   "execution_count": 3
  },
  {
   "metadata": {},
   "cell_type": "markdown",
   "source": "### Bags loop",
   "id": "8d9a23f0b517dcfc"
  },
  {
   "cell_type": "code",
   "source": [
    "for bag_path in bag_paths:\n",
    "    # split path into chunks\n",
    "    subfolders = os.path.normpath(bag_path).split(os.sep)\n",
    "    key = subfolders[-1]\n",
    "\n",
    "    # set servo indexing flag\n",
    "    if TRAIN:\n",
    "        if subfolders[-5] == '4W':\n",
    "            OLD = True\n",
    "    \n",
    "    # get cmd_vel, imu_data, odom, and servo_data\n",
    "    bag_files = [bag_path.joinpath(bag_file) for bag_file in os.listdir(bag_path) if bag_file in TOPIC_FILES]\n",
    "\n",
    "    # read and merge tables\n",
    "    dataframes = [pd.read_csv(bag_file) for bag_file in bag_files]\n",
    "    dataframes[-2].rename(columns={\"values\": \"load\"})\n",
    "    dataframes[-1].rename(columns={\"values\": \"angular_velocity\"})\n",
    "    dataframe = ft.reduce(lambda left, right: pd.merge(left, right, how='outer', on='Time'), dataframes)\n",
    "\n",
    "    # clean resulting dataframe\n",
    "    dataframe = dataframe[dataframe.columns.drop(list(dataframe.filter(regex='header')))]\n",
    "    dataframe.columns = ['Time',\n",
    "                         # 'linear.x', 'linear.y', 'linear.z', 'angular.x', 'angular.y', 'angular.z',    # velocity commands\n",
    "                         'orientation.x', 'orientation.y', 'orientation.z', 'orientation.w',\n",
    "                         'orientation_covariance_0', 'orientation_covariance_1', 'orientation_covariance_2',\n",
    "                         'orientation_covariance_3', 'orientation_covariance_4', 'orientation_covariance_5',\n",
    "                         'orientation_covariance_6', 'orientation_covariance_7', 'orientation_covariance_8',\n",
    "                         'angular_velocity.x', 'angular_velocity.y', 'angular_velocity.z',\n",
    "                         'angular_velocity_covariance_0', 'angular_velocity_covariance_1', 'angular_velocity_covariance_2',\n",
    "                         'angular_velocity_covariance_3', 'angular_velocity_covariance_4', 'angular_velocity_covariance_5',\n",
    "                         'angular_velocity_covariance_6', 'angular_velocity_covariance_7', 'angular_velocity_covariance_8',\n",
    "                         'linear_acceleration.x', 'linear_acceleration.y', 'linear_acceleration.z',\n",
    "                         'linear_acceleration_covariance_0', 'linear_acceleration_covariance_1', 'linear_acceleration_covariance_2',\n",
    "                         'linear_acceleration_covariance_3', 'linear_acceleration_covariance_4', 'linear_acceleration_covariance_5',\n",
    "                         'linear_acceleration_covariance_6', 'linear_acceleration_covariance_7', 'linear_acceleration_covariance_8',\n",
    "                         # 'child_frame_id', 'pose.pose.position.x', 'pose.pose.position.y', 'pose.pose.position.z',\n",
    "                         # 'pose.pose.orientation.x', 'pose.pose.orientation.y', 'pose.pose.orientation.z', 'pose.pose.orientation.w', 'pose.covariance',\n",
    "                         # 'twist.twist.linear.x', 'twist.twist.linear.y', 'twist.twist.linear.z',\n",
    "                         # 'twist.twist.angular.x', 'twist.twist.angular.y', 'twist.twist.angular.z', 'twist.covariance',    # odometry\n",
    "                         'load', 'angular_velocity']\n",
    "    dataframe = dataframe[['Time',\n",
    "                           # 'linear.x', 'angular.z', # cmd_vel\n",
    "                           'linear_acceleration.x', 'linear_acceleration.y', 'linear_acceleration.z', 'angular_velocity.x', 'angular_velocity.y', 'angular_velocity.z', # imu\n",
    "                           # 'pose.pose.position.x', 'pose.pose.position.y', 'twist.twist.linear.x', 'twist.twist.angular.z', # odom\n",
    "                           'load', 'angular_velocity']] # servo\n",
    "\n",
    "    # trim first and last rows for more coherent data\n",
    "    clip_var = int(len(dataframe) * .1)\n",
    "    dataframe = dataframe.iloc[clip_var:-clip_var].reset_index(drop=True)\n",
    "\n",
    "    # fill missing values\n",
    "    dataframe.ffill(inplace=True)\n",
    "    dataframe.bfill(inplace=True)\n",
    "\n",
    "    # set initial timestep at 0\n",
    "    dataframe['Time'] -= dataframe['Time'].min()\n",
    "\n",
    "    # remove gravity from acceleration wrt z axis\n",
    "    dataframe['linear_acceleration.z'] -= dataframe['linear_acceleration.z'].mean()\n",
    "\n",
    "    # unpack load values\n",
    "    dataframe = unpack_servo_data(dataframe)\n",
    "    \n",
    "    # unpack angular velocity values\n",
    "    dataframe = unpack_ang_vel_data(dataframe)\n",
    "    \n",
    "    # calculate power values\n",
    "    load_cols = [col for col in dataframe.columns if 'Load' in col]\n",
    "    velocity_cols = [col for col in dataframe.columns if 'Vel' in col]\n",
    "    power = calculate_mean_power(dataframe[load_cols], dataframe[velocity_cols], OLD)\n",
    "    dataframe = pd.concat([dataframe, power], axis=1)\n",
    "\n",
    "    # write dataframe to csv\n",
    "    dataframe.to_csv(target_dir.joinpath(key + '.csv'))\n",
    "    \n",
    "    # gather labels\n",
    "    if TRAIN:\n",
    "        sample_dict = {'surface': subfolders[-6], 'kinematics': subfolders[-5], 'spacing': subfolders[-4], 'angle': subfolders[-3], 'trajectory': subfolders[-2]}\n",
    "        labels[key] = sample_dict\n",
    "\n",
    "# dump labels to json if gathered\n",
    "if labels:\n",
    "    with open('../data/train_set/labels.json', 'w') as fp:\n",
    "        json.dump(labels, fp)"
   ],
   "metadata": {
    "collapsed": false,
    "ExecuteTime": {
     "end_time": "2024-05-11T19:24:52.477876Z",
     "start_time": "2024-05-11T17:23:51.092026Z"
    }
   },
   "id": "e3cab1f50ed47354",
   "outputs": [],
   "execution_count": 4
  },
  {
   "metadata": {},
   "cell_type": "code",
   "outputs": [],
   "execution_count": null,
   "source": "",
   "id": "85474b96932eb43d"
  }
 ],
 "metadata": {
  "kernelspec": {
   "display_name": "Python 3",
   "language": "python",
   "name": "python3"
  },
  "language_info": {
   "codemirror_mode": {
    "name": "ipython",
    "version": 2
   },
   "file_extension": ".py",
   "mimetype": "text/x-python",
   "name": "python",
   "nbconvert_exporter": "python",
   "pygments_lexer": "ipython2",
   "version": "2.7.6"
  }
 },
 "nbformat": 4,
 "nbformat_minor": 5
}
