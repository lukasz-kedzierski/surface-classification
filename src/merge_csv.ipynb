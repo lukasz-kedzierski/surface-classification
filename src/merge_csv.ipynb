{
 "cells": [
  {
   "cell_type": "code",
   "id": "initial_id",
   "metadata": {
    "collapsed": true,
    "ExecuteTime": {
     "end_time": "2024-05-07T20:15:48.819521Z",
     "start_time": "2024-05-07T20:15:48.680892Z"
    }
   },
   "source": [
    "import functools as ft\n",
    "import json\n",
    "import os\n",
    "import pandas as pd\n",
    "import yaml\n",
    "\n",
    "from pathlib import Path"
   ],
   "outputs": [],
   "execution_count": 1
  },
  {
   "cell_type": "code",
   "source": [
    "main_dir = Path('../data/fixed/')\n",
    "target_dir = Path('../data/train_set/')"
   ],
   "metadata": {
    "collapsed": false,
    "ExecuteTime": {
     "end_time": "2024-05-07T20:15:48.835479Z",
     "start_time": "2024-05-07T20:15:48.822513Z"
    }
   },
   "id": "8e7ffca97cee5487",
   "outputs": [],
   "execution_count": 2
  },
  {
   "cell_type": "code",
   "source": [
    "# get all subfolders containing bags\n",
    "bag_paths = [folder for folder in main_dir.rglob('**/') if any(subfolder in folder.__str__() for subfolder in ('T1\\\\', 'T2\\\\'))]\n",
    "# bag_paths = [folder for folder in main_dir.rglob('**/')][1:]\n",
    "labels = {}\n",
    "\n",
    "for bag_path in bag_paths:\n",
    "    # split path into chunks\n",
    "    subfolders = os.path.normpath(bag_path).split(os.sep)\n",
    "    key = subfolders[-1]\n",
    "    \n",
    "    # get cmd_vel, imu_data, odom, and servo_data\n",
    "    bag_files = [bag_path.joinpath(bag_file) for bag_file in os.listdir(bag_path) if bag_file in ('cmd_vel.csv', 'imu-data.csv', 'odom.csv', 'Servo_data.csv')]\n",
    "\n",
    "    # read and merge tables\n",
    "    dataframes = [pd.read_csv(bag_file) for bag_file in bag_files]\n",
    "    dataframe = ft.reduce(lambda left, right: pd.merge(left, right, how='outer', on='Time'), dataframes)\n",
    "\n",
    "    # clean resulting dataframe\n",
    "    dataframe = dataframe[dataframe.columns.drop(list(dataframe.filter(regex='header')))]\n",
    "    dataframe.columns = ['Time', 'linear.x', 'linear.y', 'linear.z', 'angular.x', 'angular.y', 'angular.z',\n",
    "                         'orientation.x', 'orientation.y', 'orientation.z', 'orientation.w',\n",
    "                         'orientation_covariance_0', 'orientation_covariance_1', 'orientation_covariance_2',\n",
    "                         'orientation_covariance_3', 'orientation_covariance_4', 'orientation_covariance_5',\n",
    "                         'orientation_covariance_6', 'orientation_covariance_7', 'orientation_covariance_8',\n",
    "                         'angular_velocity.x', 'angular_velocity.y', 'angular_velocity.z',\n",
    "                         'angular_velocity_covariance_0', 'angular_velocity_covariance_1', 'angular_velocity_covariance_2',\n",
    "                         'angular_velocity_covariance_3', 'angular_velocity_covariance_4', 'angular_velocity_covariance_5',\n",
    "                         'angular_velocity_covariance_6', 'angular_velocity_covariance_7', 'angular_velocity_covariance_8',\n",
    "                         'linear_acceleration.x', 'linear_acceleration.y', 'linear_acceleration.z',\n",
    "                         'linear_acceleration_covariance_0', 'linear_acceleration_covariance_1', 'linear_acceleration_covariance_2',\n",
    "                         'linear_acceleration_covariance_3', 'linear_acceleration_covariance_4', 'linear_acceleration_covariance_5',\n",
    "                         'linear_acceleration_covariance_6', 'linear_acceleration_covariance_7', 'linear_acceleration_covariance_8',\n",
    "                         'child_frame_id', 'pose.pose.position.x', 'pose.pose.position.y', 'pose.pose.position.z',\n",
    "                         'pose.pose.orientation.x', 'pose.pose.orientation.y', 'pose.pose.orientation.z', 'pose.pose.orientation.w', 'pose.covariance',\n",
    "                         'twist.twist.linear.x', 'twist.twist.linear.y', 'twist.twist.linear.z',\n",
    "                         'twist.twist.angular.x', 'twist.twist.angular.y', 'twist.twist.angular.z', 'twist.covariance',\n",
    "                         'values']\n",
    "    dataframe = dataframe[['Time',\n",
    "                           'linear.x', 'angular.z', # cmd_vel\n",
    "                           'linear_acceleration.x', 'linear_acceleration.y', 'linear_acceleration.z', 'angular_velocity.x', 'angular_velocity.y', 'angular_velocity.z', # imu\n",
    "                           'pose.pose.position.x', 'pose.pose.position.y', 'twist.twist.linear.x', 'twist.twist.angular.z', # odom\n",
    "                           'values']] # servo\n",
    "\n",
    "    # trim first and last rows for more coherent data\n",
    "    clip_var = int(len(dataframe) * .1)\n",
    "    dataframe = dataframe.iloc[clip_var:-clip_var].reset_index(drop=True)\n",
    "\n",
    "    # fill missing values\n",
    "    dataframe.ffill(inplace=True)\n",
    "    dataframe.bfill(inplace=True)\n",
    "\n",
    "    # set initial timestep at 0\n",
    "    dataframe['Time'] -= dataframe['Time'].min()\n",
    "\n",
    "    # remove gravity from acceleration wrt z axis\n",
    "    dataframe['linear_acceleration.z'] -= dataframe['linear_acceleration.z'].mean()\n",
    "\n",
    "    # get power values scaled down by 1e3 factor\n",
    "    data = dataframe['values'].tolist()\n",
    "    data = [line.replace(', ', '];[') for line in data]\n",
    "    data = [line.replace('[', '') for line in data]\n",
    "    data = [line.replace(']', '') for line in data]\n",
    "    data = [line.split(sep=';') for line in data]\n",
    "    data = [[yaml.safe_load(line) for line in separate_lines] for separate_lines in data]\n",
    "    columns = ['Power_' + str(idx + 1) for idx in range(len(data[0]))]\n",
    "    power = pd.DataFrame([[abs(tuple(dictionary.values())[2]) / 10 for dictionary in line] for line in data], columns=columns)\n",
    "    if subfolders[4] == '4W':\n",
    "        columns_left = ['Power_' + str(idx + 1) for idx in range(len(data[0])) if idx in (0, 3)]\n",
    "        columns_right = ['Power_' + str(idx + 1) for idx in range(len(data[0])) if idx in (1, 2)]\n",
    "        power_left = pd.DataFrame([[abs(tuple(dictionary.values())[2]) / 10 for idx, dictionary in enumerate(line) if idx in (0, 3)] for line in data], columns=columns_left)\n",
    "        power_right = pd.DataFrame([[abs(tuple(dictionary.values())[2]) / 10 for idx, dictionary in enumerate(line) if idx in (1, 2)] for line in data], columns=columns_right)\n",
    "    else:\n",
    "        columns_left = ['Power_' + str(idx + 1) for idx in range(len(data[0])) if idx % 2 == 0]\n",
    "        columns_right = ['Power_' + str(idx + 1) for idx in range(len(data[0])) if idx % 2 != 0]\n",
    "        power_left = pd.DataFrame([[abs(tuple(dictionary.values())[2]) / 10 for idx, dictionary in enumerate(line) if idx % 2 == 0] for line in data], columns=columns_left)\n",
    "        power_right = pd.DataFrame([[abs(tuple(dictionary.values())[2]) / 10 for idx, dictionary in enumerate(line) if idx % 2 != 0] for line in data], columns=columns_right)\n",
    "    dataframe = pd.concat([dataframe, power], axis=1)\n",
    "    dataframe['mean_power'] = power.mean(axis=1)\n",
    "    dataframe['mean_power_left'] = power_left.mean(axis=1)\n",
    "    dataframe['mean_power_right'] = power_right.mean(axis=1)\n",
    "    dataframe.drop(columns=['values'], inplace=True)\n",
    "\n",
    "    # write dataframe to csv\n",
    "    dataframe.to_csv(target_dir.joinpath(key + '.csv'))\n",
    "    \n",
    "    # gather labels\n",
    "    sample_dict = {'surface': subfolders[3], 'kinematics': subfolders[4], 'spacing': subfolders[5], 'angle': subfolders[6], 'trajectory': subfolders[7]}\n",
    "    labels[key] = sample_dict\n",
    "\n",
    "# dump labels to json\n",
    "with open('../data/labels.json', 'w') as fp:\n",
    "    json.dump(labels, fp)"
   ],
   "metadata": {
    "collapsed": false,
    "ExecuteTime": {
     "end_time": "2024-05-07T20:15:50.044248Z",
     "start_time": "2024-05-07T20:15:49.230423Z"
    }
   },
   "id": "e3cab1f50ed47354",
   "outputs": [],
   "execution_count": 3
  },
  {
   "cell_type": "code",
   "outputs": [],
   "source": [],
   "metadata": {
    "collapsed": false
   },
   "id": "2a5c82f86341df41",
   "execution_count": null
  }
 ],
 "metadata": {
  "kernelspec": {
   "display_name": "Python 3",
   "language": "python",
   "name": "python3"
  },
  "language_info": {
   "codemirror_mode": {
    "name": "ipython",
    "version": 2
   },
   "file_extension": ".py",
   "mimetype": "text/x-python",
   "name": "python",
   "nbconvert_exporter": "python",
   "pygments_lexer": "ipython2",
   "version": "2.7.6"
  }
 },
 "nbformat": 4,
 "nbformat_minor": 5
}
