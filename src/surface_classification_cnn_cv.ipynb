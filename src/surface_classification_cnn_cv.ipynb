{
 "cells": [
  {
   "cell_type": "markdown",
   "source": [
    "\n",
    "### Imports"
   ],
   "metadata": {
    "collapsed": false
   },
   "id": "9afebad71082b978"
  },
  {
   "cell_type": "code",
   "outputs": [],
   "source": [
    "import json\n",
    "import matplotlib.pyplot as plt\n",
    "import pandas as pd\n",
    "\n",
    "from pathlib import Path\n",
    "from sklearn.metrics import classification_report, ConfusionMatrixDisplay\n",
    "from sklearn.metrics import accuracy_score\n",
    "from sklearn.model_selection import train_test_split, StratifiedShuffleSplit\n",
    "from sklearn.preprocessing import LabelEncoder, LabelBinarizer\n",
    "from tqdm import tqdm\n",
    "\n",
    "import torch\n",
    "import torch.nn as nn\n",
    "from torch.optim.lr_scheduler import ExponentialLR\n",
    "from torch.utils.data import DataLoader, Dataset\n",
    "from torchinfo import summary\n",
    "\n",
    "from utils import select_sequence"
   ],
   "metadata": {
    "collapsed": false,
    "ExecuteTime": {
     "end_time": "2024-04-11T19:43:19.489475Z",
     "start_time": "2024-04-11T19:43:15.523132Z"
    }
   },
   "id": "7bbbfa68a2c2ad9a",
   "execution_count": 1
  },
  {
   "cell_type": "markdown",
   "source": [
    "### Device"
   ],
   "metadata": {
    "collapsed": false
   },
   "id": "be243189c890a753"
  },
  {
   "cell_type": "code",
   "outputs": [
    {
     "data": {
      "text/plain": "'cuda:0'"
     },
     "execution_count": 2,
     "metadata": {},
     "output_type": "execute_result"
    }
   ],
   "source": [
    "device = \"cuda:0\" if torch.cuda.is_available() else \"cpu\"\n",
    "device"
   ],
   "metadata": {
    "collapsed": false,
    "ExecuteTime": {
     "end_time": "2024-04-11T19:43:19.536350Z",
     "start_time": "2024-04-11T19:43:19.491469Z"
    }
   },
   "id": "da0434b42f73b25a",
   "execution_count": 2
  },
  {
   "cell_type": "markdown",
   "source": [
    "### Constants"
   ],
   "metadata": {
    "collapsed": false
   },
   "id": "87b62f1e105bcc84"
  },
  {
   "cell_type": "code",
   "outputs": [],
   "source": [
    "BATCH_SIZE = 32\n",
    "INPUT_SIZE = 8\n",
    "NUM_EPOCHS = 10\n",
    "DATA_DIR = Path('../data/dataset/')\n",
    "LOOKBACK = 2.\n",
    "SAMPLING_FREQUENCY = 100.\n",
    "DATASET_FREQUENCY = 200.\n",
    "SUBSET = ['imu', 'servo']"
   ],
   "metadata": {
    "collapsed": false,
    "ExecuteTime": {
     "end_time": "2024-04-11T19:43:19.552306Z",
     "start_time": "2024-04-11T19:43:19.539342Z"
    }
   },
   "id": "66b5555a4fa10241",
   "execution_count": 3
  },
  {
   "cell_type": "markdown",
   "source": [
    "### Load and split data"
   ],
   "metadata": {
    "collapsed": false
   },
   "id": "5529717ff2812af0"
  },
  {
   "cell_type": "code",
   "outputs": [],
   "source": [
    "with open('../data/labels.json') as fp:\n",
    "    labels = json.load(fp)"
   ],
   "metadata": {
    "collapsed": false,
    "ExecuteTime": {
     "end_time": "2024-04-11T19:43:19.568265Z",
     "start_time": "2024-04-11T19:43:19.554302Z"
    }
   },
   "id": "503fce34bed6d813",
   "execution_count": 4
  },
  {
   "cell_type": "code",
   "outputs": [],
   "source": [
    "dataset = [(DATA_DIR.joinpath(key + '.csv'), values['surface']) for key, values in labels.items() if values['kinematics'] in ('4W', '6W') and values['spacing'] == 'R1' and 'T1' in values['trajectory']]"
   ],
   "metadata": {
    "collapsed": false,
    "ExecuteTime": {
     "end_time": "2024-04-11T19:43:28.863720Z",
     "start_time": "2024-04-11T19:43:28.852749Z"
    }
   },
   "id": "96bb38f00e195362",
   "execution_count": 5
  },
  {
   "cell_type": "code",
   "outputs": [],
   "source": [
    "X = pd.Series([run[0] for run in dataset], name='bag_name')\n",
    "y_primary = [run[1] for run in dataset]"
   ],
   "metadata": {
    "collapsed": false,
    "ExecuteTime": {
     "end_time": "2024-04-11T19:43:29.709602Z",
     "start_time": "2024-04-11T19:43:29.688658Z"
    }
   },
   "id": "ac562fc5c93cd196",
   "execution_count": 6
  },
  {
   "cell_type": "code",
   "outputs": [],
   "source": [
    "# y_secondary = ['slippery' if label in ('1_Panele', '5_Spienione_PCV', '6_Linoleum')\n",
    "#                else 'grippy' if label in ('3_Wykladzina_jasna', '8_Pusta_plyta', '9_podklady')\n",
    "#                else 'neutral' for label in y_primary]\n",
    "# y_secondary = ['slippery' if label in ('3_Wykladzina_jasna', '4_Trawa')\n",
    "#                else 'grippy' if label in ('5_Spienione_PCV', '8_Pusta_plyta', '9_podklady', '10_Mata_ukladana')\n",
    "#                else 'neutral' for label in y_primary] # Pawel set\n",
    "y_secondary = ['slippery' if label in ('3_Wykladzina_jasna', '4_Trawa')\n",
    "               else 'grippy' if label in ('2_Wykladzina_czarna', '5_Spienione_PCV', '9_podklady', '10_Mata_ukladana')\n",
    "               else 'neutral' for label in y_primary] # Clustering set"
   ],
   "metadata": {
    "collapsed": false,
    "ExecuteTime": {
     "end_time": "2024-04-11T19:43:41.833388Z",
     "start_time": "2024-04-11T19:43:41.827404Z"
    }
   },
   "id": "bce103ccb3fe0581",
   "execution_count": 7
  },
  {
   "cell_type": "code",
   "outputs": [],
   "source": [
    "le = LabelEncoder()\n",
    "le.fit(y_secondary)\n",
    "classes = le.classes_\n",
    "num_classes = len(classes)\n",
    "y = le.transform(y_secondary)\n",
    "y = y.reshape(-1, 1)"
   ],
   "metadata": {
    "collapsed": false,
    "ExecuteTime": {
     "end_time": "2024-04-11T19:43:42.754395Z",
     "start_time": "2024-04-11T19:43:42.741430Z"
    }
   },
   "id": "28cd1c677f86f806",
   "execution_count": 8
  },
  {
   "cell_type": "code",
   "outputs": [],
   "source": [
    "lb = LabelBinarizer()\n",
    "lb.fit(y)\n",
    "y = lb.transform(y)"
   ],
   "metadata": {
    "collapsed": false,
    "ExecuteTime": {
     "end_time": "2024-04-11T19:43:43.344487Z",
     "start_time": "2024-04-11T19:43:43.330522Z"
    }
   },
   "id": "12c19c5cb6813ca",
   "execution_count": 9
  },
  {
   "cell_type": "code",
   "outputs": [],
   "source": [
    "X_training, X_test, y_training, y_test = train_test_split(X, y, test_size=0.2, stratify=y)\n",
    "original_indexing = X_test.index\n",
    "X_training.reset_index(drop=True, inplace=True)\n",
    "X_test.reset_index(drop=True, inplace=True)"
   ],
   "metadata": {
    "collapsed": false,
    "ExecuteTime": {
     "end_time": "2024-04-11T19:43:43.748446Z",
     "start_time": "2024-04-11T19:43:43.727993Z"
    }
   },
   "id": "eed3b5f73250bcce",
   "execution_count": 10
  },
  {
   "cell_type": "markdown",
   "source": [
    "### Custom datasets"
   ],
   "metadata": {
    "collapsed": false
   },
   "id": "c59200394bfc51d7"
  },
  {
   "cell_type": "code",
   "outputs": [],
   "source": [
    "class SurfaceDataset(Dataset):\n",
    "    def __init__(self, samples, labels, sample_freq=20., data_freq=100., lookback=1., subset=None):\n",
    "        \"\"\"        \n",
    "        Args:\n",
    "            samples: array of time series, first dimension is time steps\n",
    "            labels: array of surface labels\n",
    "            sample_freq: lowest frequency of collected data\n",
    "            data_freq: highest frequency of collected data\n",
    "            lookback: size of window for prediction\n",
    "            subset: list containing data categories\n",
    "        \"\"\"\n",
    "\n",
    "        self.samples = samples\n",
    "        self.labels = labels\n",
    "        self.sampling_frequency = sample_freq\n",
    "        self.dataset_frequency = data_freq\n",
    "        self.lookback = int(lookback * self.sampling_frequency)\n",
    "        self.stride = int(self.dataset_frequency / self.sampling_frequency)\n",
    "        self.window_length = self.lookback * self.stride\n",
    "        if subset:\n",
    "            self.subset = set(subset)\n",
    "        else:\n",
    "            self.subset = ('cmd_vel', 'imu', 'odom', 'servo')\n",
    "        measurements = {\n",
    "            'cmd_vel': ['linear.x', 'angular.z'],\n",
    "            'imu': ['linear_acceleration.x', 'linear_acceleration.y', 'linear_acceleration.z', 'angular_velocity.x', 'angular_velocity.y', 'angular_velocity.z'],\n",
    "            'odom': ['pose.pose.position.x', 'pose.pose.position.y', 'twist.twist.linear.x', 'twist.twist.angular.z'],\n",
    "            # 'servo': ['mean_power'],\n",
    "            'servo': ['mean_power_left', 'mean_power_right'],\n",
    "        }\n",
    "        self.selected_columns = []\n",
    "        for measurement in self.subset:\n",
    "            self.selected_columns.extend(measurements[measurement])\n",
    "\n",
    "    def __len__(self):\n",
    "        return len(self.labels)\n",
    "\n",
    "    def __getitem__(self, idx):\n",
    "        \"\"\"\n",
    "        Retrieve a single, windowed time series from dataset\n",
    "        \"\"\"\n",
    "\n",
    "        sample = self.samples[idx]\n",
    "        run = pd.read_csv(sample, index_col=[0]).drop('Time', axis=1)\n",
    "        \n",
    "        X = select_sequence(run, self.selected_columns, self.window_length, self.stride)\n",
    "        y = self.labels[idx]\n",
    "        \n",
    "        return torch.tensor(X, dtype=torch.float), torch.tensor(y, dtype=torch.float)"
   ],
   "metadata": {
    "collapsed": false,
    "ExecuteTime": {
     "end_time": "2024-04-11T19:43:45.313785Z",
     "start_time": "2024-04-11T19:43:45.283865Z"
    }
   },
   "id": "18f462da904175a6",
   "execution_count": 13
  },
  {
   "metadata": {},
   "cell_type": "code",
   "outputs": [],
   "execution_count": null,
   "source": "test_dataloader = DataLoader(SurfaceDataset(X_test, y_test, sample_freq=SAMPLING_FREQUENCY, data_freq=DATASET_FREQUENCY, lookback=LOOKBACK, subset=SUBSET), batch_size=1)",
   "id": "689014da537b87e8"
  },
  {
   "cell_type": "markdown",
   "source": [
    "### Models"
   ],
   "metadata": {
    "collapsed": false
   },
   "id": "96daed4787b63f69"
  },
  {
   "cell_type": "code",
   "outputs": [],
   "source": [
    "class BasicBlock(nn.Module):\n",
    "    def __init__(self, inplanes, planes, stride):\n",
    "        super(BasicBlock, self).__init__()\n",
    "        self.conv = nn.Conv1d(inplanes, planes, kernel_size=3, stride=stride, padding=1)\n",
    "        self.bn = nn.BatchNorm1d(planes)\n",
    "\n",
    "    def forward(self, x):\n",
    "        out = self.conv(x)\n",
    "        out = self.bn(out)\n",
    "        return out\n",
    "    \n",
    "class Block(nn.Module):\n",
    "    def __init__(self, inplanes, planes):\n",
    "        super(Block, self).__init__()\n",
    "        self.mapping = nn.Conv1d(inplanes, planes, kernel_size=1, stride=2, padding=0)\n",
    "        self.bblock1 = BasicBlock(inplanes, planes, stride=2)\n",
    "        self.bblock2 = BasicBlock(planes, planes, stride=1)\n",
    "        self.relu = nn.ReLU(inplace=True)\n",
    "\n",
    "    def forward(self, x):\n",
    "        identity = self.mapping(x)\n",
    "\n",
    "        out = self.bblock1(x)\n",
    "        out = self.relu(out)\n",
    "\n",
    "        out = self.bblock2(out)\n",
    "\n",
    "        out += identity\n",
    "        out = self.relu(out)\n",
    "\n",
    "        return out\n",
    "    \n",
    "class CNNSurfaceClassifier(nn.Module):\n",
    "    def __init__(self, input_size=None, output_size=None):\n",
    "        super().__init__()\n",
    "        self.input_size = input_size\n",
    "        self.output_size = output_size\n",
    "                \n",
    "        self.conv_pre = nn.Sequential(\n",
    "            nn.Conv1d(self.input_size, 32, kernel_size=7, stride=2, padding=3),\n",
    "            nn.BatchNorm1d(32),\n",
    "            nn.ReLU(),\n",
    "            nn.MaxPool1d(kernel_size=3, stride=2, padding=1),\n",
    "        )\n",
    "        self.block1 = Block(32, 64)\n",
    "        self.block2 = Block(64, 128)\n",
    "        self.block3 = Block(128, 256)\n",
    "        self.block4 = Block(256, 512)\n",
    "        self.fc_post = nn.Sequential(\n",
    "            nn.AdaptiveAvgPool1d(1),\n",
    "            nn.Flatten(),\n",
    "            nn.Linear(512, 384),\n",
    "            nn.ReLU(),\n",
    "        )\n",
    "        self.classification = nn.Sequential(\n",
    "            nn.Linear(384, self.output_size),\n",
    "        )\n",
    "\n",
    "    def forward(self, x):\n",
    "        x = self.conv_pre(x)\n",
    "        x = self.block1(x)\n",
    "        x = self.block2(x)\n",
    "        x = self.block3(x)\n",
    "        x = self.block4(x)\n",
    "        x = self.fc_post(x)\n",
    "        return self.classification(x)"
   ],
   "metadata": {
    "collapsed": false,
    "ExecuteTime": {
     "end_time": "2024-04-11T19:43:45.942324Z",
     "start_time": "2024-04-11T19:43:45.770012Z"
    }
   },
   "id": "94fa64fc85b948aa",
   "execution_count": 14
  },
  {
   "metadata": {},
   "cell_type": "code",
   "outputs": [],
   "execution_count": null,
   "source": "cnn_model = CNNSurfaceClassifier(input_size=INPUT_SIZE, output_size=num_classes).to(device)",
   "id": "fd5f8e59ae42cc94"
  },
  {
   "cell_type": "code",
   "outputs": [
    {
     "data": {
      "text/plain": "=================================================================\nLayer (type:depth-idx)                   Param #\n=================================================================\nCNNSurfaceClassifier                     --\n├─Sequential: 1-1                        --\n│    └─Conv1d: 2-1                       1,824\n│    └─BatchNorm1d: 2-2                  64\n│    └─ReLU: 2-3                         --\n│    └─MaxPool1d: 2-4                    --\n├─Block: 1-2                             --\n│    └─Conv1d: 2-5                       2,112\n│    └─BasicBlock: 2-6                   --\n│    │    └─Conv1d: 3-1                  6,208\n│    │    └─BatchNorm1d: 3-2             128\n│    └─BasicBlock: 2-7                   --\n│    │    └─Conv1d: 3-3                  12,352\n│    │    └─BatchNorm1d: 3-4             128\n│    └─ReLU: 2-8                         --\n├─Block: 1-3                             --\n│    └─Conv1d: 2-9                       8,320\n│    └─BasicBlock: 2-10                  --\n│    │    └─Conv1d: 3-5                  24,704\n│    │    └─BatchNorm1d: 3-6             256\n│    └─BasicBlock: 2-11                  --\n│    │    └─Conv1d: 3-7                  49,280\n│    │    └─BatchNorm1d: 3-8             256\n│    └─ReLU: 2-12                        --\n├─Block: 1-4                             --\n│    └─Conv1d: 2-13                      33,024\n│    └─BasicBlock: 2-14                  --\n│    │    └─Conv1d: 3-9                  98,560\n│    │    └─BatchNorm1d: 3-10            512\n│    └─BasicBlock: 2-15                  --\n│    │    └─Conv1d: 3-11                 196,864\n│    │    └─BatchNorm1d: 3-12            512\n│    └─ReLU: 2-16                        --\n├─Block: 1-5                             --\n│    └─Conv1d: 2-17                      131,584\n│    └─BasicBlock: 2-18                  --\n│    │    └─Conv1d: 3-13                 393,728\n│    │    └─BatchNorm1d: 3-14            1,024\n│    └─BasicBlock: 2-19                  --\n│    │    └─Conv1d: 3-15                 786,944\n│    │    └─BatchNorm1d: 3-16            1,024\n│    └─ReLU: 2-20                        --\n├─Sequential: 1-6                        --\n│    └─AdaptiveAvgPool1d: 2-21           --\n│    └─Flatten: 2-22                     --\n│    └─Linear: 2-23                      196,992\n│    └─ReLU: 2-24                        --\n├─Sequential: 1-7                        --\n│    └─Linear: 2-25                      1,155\n=================================================================\nTotal params: 1,947,555\nTrainable params: 1,947,555\nNon-trainable params: 0\n================================================================="
     },
     "execution_count": 16,
     "metadata": {},
     "output_type": "execute_result"
    }
   ],
   "source": [
    "summary(cnn_model)"
   ],
   "metadata": {
    "collapsed": false,
    "ExecuteTime": {
     "end_time": "2024-04-11T19:43:46.288396Z",
     "start_time": "2024-04-11T19:43:46.264461Z"
    }
   },
   "id": "ba8c50a1e9708d52",
   "execution_count": 16
  },
  {
   "cell_type": "markdown",
   "source": [
    "### Loss function"
   ],
   "metadata": {
    "collapsed": false
   },
   "id": "1eb74cc30ec4f075"
  },
  {
   "cell_type": "code",
   "outputs": [],
   "source": [
    "criterion = nn.CrossEntropyLoss()"
   ],
   "metadata": {
    "collapsed": false,
    "ExecuteTime": {
     "end_time": "2024-04-11T19:43:47.092251Z",
     "start_time": "2024-04-11T19:43:47.074297Z"
    }
   },
   "id": "1ec9144e4d480a2d",
   "execution_count": 17
  },
  {
   "cell_type": "markdown",
   "source": [
    "### Optimizer"
   ],
   "metadata": {
    "collapsed": false
   },
   "id": "fa4d99f3eb297adf"
  },
  {
   "cell_type": "code",
   "outputs": [],
   "source": [
    "optimizer = torch.optim.Adam(\n",
    "    cnn_model.parameters(),\n",
    "    lr=1e-3,\n",
    "    eps=1e-6,\n",
    "    weight_decay=1e-3,\n",
    "    )"
   ],
   "metadata": {
    "collapsed": false,
    "ExecuteTime": {
     "end_time": "2024-04-11T19:43:48.823156Z",
     "start_time": "2024-04-11T19:43:47.554980Z"
    }
   },
   "id": "a7fb9f74376bf1fc",
   "execution_count": 18
  },
  {
   "cell_type": "markdown",
   "source": [
    "### Scheduler"
   ],
   "metadata": {
    "collapsed": false
   },
   "id": "8189ce4256cef7aa"
  },
  {
   "cell_type": "code",
   "outputs": [],
   "source": [
    "scheduler = ExponentialLR(optimizer, gamma=0.9)"
   ],
   "metadata": {
    "collapsed": false,
    "ExecuteTime": {
     "end_time": "2024-04-11T19:43:48.926386Z",
     "start_time": "2024-04-11T19:43:48.913421Z"
    }
   },
   "id": "543d5776cbc9ab8e",
   "execution_count": 19
  },
  {
   "cell_type": "markdown",
   "source": [
    "### Early stopping"
   ],
   "metadata": {
    "collapsed": false
   },
   "id": "3457623a134ea771"
  },
  {
   "cell_type": "code",
   "outputs": [],
   "source": [
    "class EarlyStopper:\n",
    "    def __init__(self, patience=1, min_delta=0):\n",
    "        self.patience = patience\n",
    "        self.min_delta = min_delta\n",
    "        self.counter = 0\n",
    "        self.min_validation_loss = float('inf')\n",
    "\n",
    "    def early_stop(self, validation_loss):\n",
    "        if validation_loss < self.min_validation_loss:\n",
    "            self.min_validation_loss = validation_loss\n",
    "            self.counter = 0\n",
    "        elif validation_loss > (self.min_validation_loss + self.min_delta):\n",
    "            self.counter += 1\n",
    "            if self.counter >= self.patience:\n",
    "                return True\n",
    "        return False\n",
    "    \n",
    "early_stopper = EarlyStopper(patience=3, min_delta=1e-3)"
   ],
   "metadata": {
    "collapsed": false,
    "ExecuteTime": {
     "end_time": "2024-04-11T19:43:48.942343Z",
     "start_time": "2024-04-11T19:43:48.928381Z"
    }
   },
   "id": "99bf1d622f9db277",
   "execution_count": 20
  },
  {
   "cell_type": "markdown",
   "source": [
    "### Training loop"
   ],
   "metadata": {
    "collapsed": false
   },
   "id": "e467a8774a8740fd"
  },
  {
   "cell_type": "code",
   "outputs": [
    {
     "name": "stderr",
     "output_type": "stream",
     "text": [
      "Epoch 1/10, Training loss: 1.71E-01: 100%|██████████| 14/14 [00:12<00:00,  1.16it/s]\n",
      "Epoch 1/10, Validation loss: 1.05E-01: 100%|██████████| 4/4 [00:02<00:00,  1.83it/s]\n",
      "Epoch 2/10, Training loss: 1.35E-01: 100%|██████████| 14/14 [00:09<00:00,  1.46it/s]\n",
      "Epoch 2/10, Validation loss: 8.98E-02: 100%|██████████| 4/4 [00:02<00:00,  1.75it/s]\n",
      "Epoch 3/10, Training loss: 2.60E-01: 100%|██████████| 14/14 [00:09<00:00,  1.45it/s]\n",
      "Epoch 3/10, Validation loss: 6.21E-02: 100%|██████████| 4/4 [00:02<00:00,  1.81it/s]\n",
      "Epoch 4/10, Training loss: 7.20E-02: 100%|██████████| 14/14 [00:09<00:00,  1.47it/s]\n",
      "Epoch 4/10, Validation loss: 4.17E-02: 100%|██████████| 4/4 [00:02<00:00,  1.75it/s]\n",
      "Epoch 5/10, Training loss: 1.02E-01: 100%|██████████| 14/14 [00:09<00:00,  1.48it/s]\n",
      "Epoch 5/10, Validation loss: 3.71E-02: 100%|██████████| 4/4 [00:02<00:00,  1.75it/s]\n",
      "Epoch 6/10, Training loss: 1.21E-01: 100%|██████████| 14/14 [00:09<00:00,  1.48it/s]\n",
      "Epoch 6/10, Validation loss: 4.04E-02: 100%|██████████| 4/4 [00:02<00:00,  1.73it/s]\n",
      "Epoch 7/10, Training loss: 1.41E-01: 100%|██████████| 14/14 [00:09<00:00,  1.41it/s]\n",
      "Epoch 7/10, Validation loss: 4.81E-02: 100%|██████████| 4/4 [00:02<00:00,  1.83it/s]\n",
      "Epoch 8/10, Training loss: 8.36E-02: 100%|██████████| 14/14 [00:09<00:00,  1.43it/s]\n",
      "Epoch 8/10, Validation loss: 2.99E-02: 100%|██████████| 4/4 [00:02<00:00,  1.72it/s]\n",
      "Epoch 9/10, Training loss: 1.04E-01: 100%|██████████| 14/14 [00:10<00:00,  1.35it/s]\n",
      "Epoch 9/10, Validation loss: 1.79E-02: 100%|██████████| 4/4 [00:02<00:00,  1.74it/s]\n",
      "Epoch 10/10, Training loss: 9.58E-02: 100%|██████████| 14/14 [00:09<00:00,  1.41it/s]\n",
      "Epoch 10/10, Validation loss: 1.65E-02: 100%|██████████| 4/4 [00:02<00:00,  1.78it/s]\n"
     ]
    }
   ],
   "source": [
    "history = {}\n",
    "\n",
    "sss = StratifiedShuffleSplit(test_size=0.2)\n",
    "\n",
    "for i, (train_index, val_index) in enumerate(sss.split(X_training, y_training)):\n",
    "    X_train, X_val, y_train, y_val = X_training[train_index], X_training[val_index], y_training[train_index], y_training[val_index]\n",
    "    \n",
    "    train_dataloader = DataLoader(\n",
    "        SurfaceDataset(X_train, y_train, sample_freq=SAMPLING_FREQUENCY, data_freq=DATASET_FREQUENCY, lookback=LOOKBACK, subset=SUBSET),\n",
    "        batch_size=BATCH_SIZE,\n",
    "        shuffle=True,\n",
    "    )\n",
    "    val_dataloader = DataLoader(\n",
    "        SurfaceDataset(X_val, y_val, sample_freq=SAMPLING_FREQUENCY, data_freq=DATASET_FREQUENCY, lookback=LOOKBACK, subset=SUBSET),\n",
    "        batch_size=BATCH_SIZE,\n",
    "    )\n",
    "    \n",
    "    train_batches = len(train_dataloader)\n",
    "    val_batches = len(val_dataloader)\n",
    "    \n",
    "    training_loss = []\n",
    "    validation_loss = []\n",
    "    training_accuracy = []\n",
    "    validation_accuracy = []\n",
    "    \n",
    "    \n",
    "    for epoch in range(NUM_EPOCHS):\n",
    "        running_train_loss = 0.0\n",
    "        running_val_loss = 0.0\n",
    "        \n",
    "        pbar = tqdm(train_dataloader, total=train_batches)\n",
    "        cnn_model.train()\n",
    "        for idx, (batch_x, batch_y) in enumerate(pbar):\n",
    "            optimizer.zero_grad()\n",
    "            \n",
    "            batch_x, batch_y = batch_x.to(device), batch_y.to(device)\n",
    "            batch_x = batch_x.permute(0, 2, 1)\n",
    "            train_outputs = cnn_model(batch_x)\n",
    "            train_loss = criterion(train_outputs, batch_y)\n",
    "            running_train_loss += train_loss\n",
    "    \n",
    "            # Backward pass\n",
    "            train_loss.backward()\n",
    "            optimizer.step()\n",
    "    \n",
    "            pbar.set_description(f\"Epoch {epoch + 1}/{NUM_EPOCHS}, Training loss: {running_train_loss / (idx + 1):.2E}\")\n",
    "        scheduler.step()\n",
    "    \n",
    "        pbar_val = tqdm(val_dataloader, total=val_batches)\n",
    "        cnn_model.eval()\n",
    "        with torch.no_grad():\n",
    "            for idx, (batch_x_val, batch_y_val) in enumerate(pbar_val):\n",
    "                batch_x_val, batch_y_val = batch_x_val.to(device), batch_y_val.to(device)\n",
    "                batch_x_val = batch_x_val.permute(0, 2, 1)\n",
    "                val_outputs = cnn_model(batch_x_val)\n",
    "                val_loss = criterion(val_outputs, batch_y_val)\n",
    "                running_val_loss += val_loss\n",
    "                \n",
    "                pbar_val.set_description(f\"Epoch {epoch + 1}/{NUM_EPOCHS}, Validation loss: {running_val_loss / (idx + 1):.2E}\")\n",
    "                \n",
    "        torch.save({\n",
    "            'epoch': epoch,\n",
    "            'model_state_dict': cnn_model.state_dict(),\n",
    "            'optimizer_state_dict': optimizer.state_dict(),\n",
    "            'train_loss': running_train_loss,\n",
    "            'val_loss': running_val_loss,\n",
    "        }, f\"../data/checkpoints/cnn_classifier_{epoch + 1}.pt\")"
   ],
   "metadata": {
    "collapsed": false,
    "ExecuteTime": {
     "end_time": "2024-04-11T19:48:12.162524Z",
     "start_time": "2024-04-11T19:46:09.053929Z"
    }
   },
   "id": "9acb973ef0d7300b",
   "execution_count": 25
  },
  {
   "cell_type": "markdown",
   "source": [
    "\n",
    "### Test"
   ],
   "metadata": {
    "collapsed": false
   },
   "id": "ef491e948e917e3d"
  },
  {
   "cell_type": "code",
   "outputs": [
    {
     "name": "stderr",
     "output_type": "stream",
     "text": [
      "Test loss: 4.76E-02: 100%|██████████| 134/134 [00:04<00:00, 30.74it/s]\n"
     ]
    }
   ],
   "source": [
    "test_batches = len(test_dataloader)\n",
    "y_pred = []\n",
    "running_test_loss = 0.0\n",
    "misclassified = []\n",
    "\n",
    "pbar_test = tqdm(test_dataloader, total=test_batches)\n",
    "cnn_model.eval()\n",
    "with torch.no_grad():\n",
    "    for idx, (batch_x_test, batch_y_test) in enumerate(pbar_test):\n",
    "        batch_x_test, batch_y_test = batch_x_test.to(device), batch_y_test.to(device)\n",
    "        batch_x_test = batch_x_test.permute(0, 2, 1)\n",
    "        test_outputs = cnn_model(batch_x_test)\n",
    "        test_loss = criterion(test_outputs, batch_y_test)\n",
    "        pred = torch.argmax(test_outputs).cpu().numpy()\n",
    "        true = torch.argmax(batch_y_test).cpu().numpy()\n",
    "        y_pred.append(pred)\n",
    "        if pred != true:\n",
    "            misclassified.append(original_indexing[idx])\n",
    "        running_test_loss += test_loss\n",
    "        \n",
    "        pbar_test.set_description(f\"Test loss: {running_test_loss / (idx + 1):.2E}\")\n",
    "\n",
    "misclassified_original = [y_primary[idx] for idx in misclassified]"
   ],
   "metadata": {
    "collapsed": false,
    "ExecuteTime": {
     "end_time": "2024-04-11T19:48:16.534962Z",
     "start_time": "2024-04-11T19:48:12.164520Z"
    }
   },
   "id": "a74fb4fba5791ec5",
   "execution_count": 26
  },
  {
   "cell_type": "markdown",
   "source": [
    "### Confusion matrix"
   ],
   "metadata": {
    "collapsed": false
   },
   "id": "86a0969893d4f8f0"
  },
  {
   "cell_type": "code",
   "outputs": [
    {
     "name": "stdout",
     "output_type": "stream",
     "text": [
      "              precision    recall  f1-score   support\n",
      "\n",
      "      grippy       0.98      0.98      0.98        56\n",
      "     neutral       0.98      0.98      0.98        52\n",
      "    slippery       1.00      1.00      1.00        26\n",
      "\n",
      "    accuracy                           0.99       134\n",
      "   macro avg       0.99      0.99      0.99       134\n",
      "weighted avg       0.99      0.99      0.99       134\n"
     ]
    },
    {
     "data": {
      "text/plain": "<Figure size 1000x1000 with 2 Axes>",
      "image/png": "[encoded data removed]"
     },
     "metadata": {},
     "output_type": "display_data"
    }
   ],
   "source": [
    "plt.style.use('default')\n",
    "fig, ax = plt.subplots(figsize=(10, 10))\n",
    "\n",
    "# y_test = lb.inverse_transform(y_test)\n",
    "print(classification_report(y_test, y_pred, target_names=classes))\n",
    "disp = ConfusionMatrixDisplay.from_predictions(y_test, y_pred, display_labels=classes, xticks_rotation='vertical', cmap='Blues', ax=ax)"
   ],
   "metadata": {
    "collapsed": false,
    "ExecuteTime": {
     "end_time": "2024-04-11T19:48:20.432754Z",
     "start_time": "2024-04-11T19:48:19.967259Z"
    }
   },
   "id": "68b58d90dc740fc0",
   "execution_count": 28
  },
  {
   "cell_type": "code",
   "outputs": [
    {
     "data": {
      "text/plain": "<Figure size 640x480 with 1 Axes>",
      "image/png": "[encoded data removed]"
     },
     "metadata": {},
     "output_type": "display_data"
    }
   ],
   "source": [
    "pd.Series(misclassified_original).value_counts().plot.bar()\n",
    "plt.yticks(range(0, 21, 2))\n",
    "plt.grid(axis='y')"
   ],
   "metadata": {
    "collapsed": false,
    "ExecuteTime": {
     "end_time": "2024-04-11T19:48:22.098441Z",
     "start_time": "2024-04-11T19:48:21.956820Z"
    }
   },
   "id": "54efe743b9459b39",
   "execution_count": 29
  },
  {
   "cell_type": "code",
   "outputs": [],
   "source": [
    "              "
   ],
   "metadata": {
    "collapsed": false
   },
   "id": "67b8db2062e70536",
   "execution_count": null
  }
 ],
 "metadata": {
  "kernelspec": {
   "display_name": "Python 3",
   "language": "python",
   "name": "python3"
  },
  "language_info": {
   "codemirror_mode": {
    "name": "ipython",
    "version": 2
   },
   "file_extension": ".py",
   "mimetype": "text/x-python",
   "name": "python",
   "nbconvert_exporter": "python",
   "pygments_lexer": "ipython2",
   "version": "2.7.6"
  }
 },
 "nbformat": 4,
 "nbformat_minor": 5
}
