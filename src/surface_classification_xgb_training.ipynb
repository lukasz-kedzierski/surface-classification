{
 "cells": [
  {
   "cell_type": "markdown",
   "source": "### Imports",
   "metadata": {
    "collapsed": false
   },
   "id": "9afebad71082b978"
  },
  {
   "cell_type": "code",
   "source": [
    "import json\n",
    "import matplotlib.pyplot as plt\n",
    "import numpy as np\n",
    "import pandas as pd\n",
    "import random\n",
    "import time\n",
    "\n",
    "from pathlib import Path\n",
    "from sklearn.metrics import ConfusionMatrixDisplay\n",
    "from sklearn.model_selection import train_test_split, RandomizedSearchCV\n",
    "from sklearn.preprocessing import LabelEncoder\n",
    "from tqdm import tqdm\n",
    "from xgboost import XGBClassifier\n",
    "\n",
    "import torch\n",
    "import torch.nn as nn\n",
    "from torch.optim.lr_scheduler import ExponentialLR\n",
    "from torch.utils.data import DataLoader\n",
    "\n",
    "from datasets import SurfaceDatasetXGB\n",
    "from helpers import EarlyStopper\n",
    "from models import CNNSurfaceClassifier"
   ],
   "metadata": {
    "collapsed": false,
    "ExecuteTime": {
     "end_time": "2024-06-26T18:38:53.766679Z",
     "start_time": "2024-06-26T18:38:49.366627Z"
    }
   },
   "id": "7bbbfa68a2c2ad9a",
   "outputs": [],
   "execution_count": 1
  },
  {
   "metadata": {},
   "cell_type": "markdown",
   "source": "### Seed",
   "id": "11b9e0bbd3b9cd28"
  },
  {
   "metadata": {
    "ExecuteTime": {
     "end_time": "2024-06-26T18:39:11.010753Z",
     "start_time": "2024-06-26T18:39:10.995793Z"
    }
   },
   "cell_type": "code",
   "source": [
    "random.seed(0)\n",
    "np.random.seed(0)\n",
    "torch.manual_seed(0)\n",
    "torch.backends.cudnn.benchmark = False\n",
    "torch.backends.cudnn.deterministic = True\n",
    "\n",
    "def seed_worker(worker_id):\n",
    "    worker_seed = torch.initial_seed() % 2**32\n",
    "    np.random.seed(worker_seed)\n",
    "    random.seed(worker_seed)\n",
    "\n",
    "g = torch.Generator()\n",
    "g.manual_seed(0)"
   ],
   "id": "93b8de1d99fec506",
   "outputs": [
    {
     "data": {
      "text/plain": [
       "<torch._C.Generator at 0x22323bcb130>"
      ]
     },
     "execution_count": 2,
     "metadata": {},
     "output_type": "execute_result"
    }
   ],
   "execution_count": 2
  },
  {
   "cell_type": "markdown",
   "source": [
    "### Constants"
   ],
   "metadata": {
    "collapsed": false
   },
   "id": "87b62f1e105bcc84"
  },
  {
   "cell_type": "code",
   "source": [
    "DATA_DIR = Path('../data/train_set/csv/')\n",
    "LOOKBACK = 8/3\n",
    "SAMPLING_FREQUENCY = 75.\n",
    "DATASET_FREQUENCY = 150.\n",
    "SUBSET = ('imu',)\n",
    "CONFIGURATIONS = ('4W',)"
   ],
   "metadata": {
    "collapsed": false,
    "ExecuteTime": {
     "end_time": "2024-06-26T18:39:14.070918Z",
     "start_time": "2024-06-26T18:39:14.056926Z"
    }
   },
   "id": "66b5555a4fa10241",
   "outputs": [],
   "execution_count": 3
  },
  {
   "cell_type": "markdown",
   "source": "### Load and split data",
   "metadata": {
    "collapsed": false
   },
   "id": "5529717ff2812af0"
  },
  {
   "cell_type": "code",
   "source": [
    "with open('../data/train_set/labels.json') as fp:\n",
    "    labels = json.load(fp)"
   ],
   "metadata": {
    "collapsed": false,
    "ExecuteTime": {
     "end_time": "2024-06-26T18:39:15.503656Z",
     "start_time": "2024-06-26T18:39:15.489693Z"
    }
   },
   "id": "503fce34bed6d813",
   "outputs": [],
   "execution_count": 4
  },
  {
   "cell_type": "code",
   "source": "dataset = [(DATA_DIR.joinpath(key + '.csv'), values['surface']) for key, values in labels.items() if values['kinematics'] in CONFIGURATIONS and values['spacing'] == 'R1' and 'T1' in values['trajectory']]",
   "metadata": {
    "collapsed": false,
    "ExecuteTime": {
     "end_time": "2024-06-26T18:39:15.864725Z",
     "start_time": "2024-06-26T18:39:15.846773Z"
    }
   },
   "id": "96bb38f00e195362",
   "outputs": [],
   "execution_count": 5
  },
  {
   "cell_type": "code",
   "source": [
    "X = pd.Series([run[0] for run in dataset], name='bag_name')\n",
    "y_primary = [run[1] for run in dataset]"
   ],
   "metadata": {
    "collapsed": false,
    "ExecuteTime": {
     "end_time": "2024-06-26T18:39:16.237779Z",
     "start_time": "2024-06-26T18:39:16.227805Z"
    }
   },
   "id": "ac562fc5c93cd196",
   "outputs": [],
   "execution_count": 6
  },
  {
   "cell_type": "code",
   "source": [
    "# y_secondary = []\n",
    "# y_secondary = ['slippery' if label in ('1_Panele', '5_Spienione_PCV', '6_Linoleum')\n",
    "#                else 'grippy' if label in ('3_Wykladzina_jasna', '8_Pusta_plyta', '9_podklady')\n",
    "#                else 'neutral' for label in y_primary]\n",
    "y_secondary = ['slippery' if label in ('3_Wykladzina_jasna', '4_Trawa')\n",
    "               else 'grippy' if label in ('5_Spienione_PCV', '8_Pusta_plyta', '9_podklady', '10_Mata_ukladana')\n",
    "               else 'neutral' for label in y_primary] # Pawel set\n",
    "# y_secondary = ['slippery' if label in ('3_Wykladzina_jasna', '4_Trawa')\n",
    "#                else 'grippy' if label in ('2_Wykladzina_czarna', '5_Spienione_PCV', '9_podklady', '10_Mata_ukladana')\n",
    "#                else 'neutral' for label in y_primary] # Clustering set"
   ],
   "metadata": {
    "collapsed": false,
    "ExecuteTime": {
     "end_time": "2024-06-26T18:39:25.313894Z",
     "start_time": "2024-06-26T18:39:25.294943Z"
    }
   },
   "id": "bce103ccb3fe0581",
   "outputs": [],
   "execution_count": 7
  },
  {
   "cell_type": "code",
   "source": [
    "le = LabelEncoder()\n",
    "if y_secondary:\n",
    "    le.fit(y_secondary)\n",
    "    y = le.transform(y_secondary)\n",
    "else:\n",
    "    le.fit(y_primary)\n",
    "    y = le.transform(y_primary)\n",
    "classes = le.classes_\n",
    "num_classes = len(classes)"
   ],
   "metadata": {
    "collapsed": false,
    "ExecuteTime": {
     "end_time": "2024-06-26T18:39:26.289095Z",
     "start_time": "2024-06-26T18:39:26.266156Z"
    }
   },
   "id": "28cd1c677f86f806",
   "outputs": [],
   "execution_count": 8
  },
  {
   "cell_type": "code",
   "source": [
    "X_train, X_test, y_train, y_test = train_test_split(X, y, test_size=0.2, stratify=y)\n",
    "X_train.reset_index(drop=True, inplace=True)\n",
    "X_test.reset_index(drop=True, inplace=True)"
   ],
   "metadata": {
    "collapsed": false,
    "ExecuteTime": {
     "end_time": "2024-06-26T18:39:26.937886Z",
     "start_time": "2024-06-26T18:39:26.923924Z"
    }
   },
   "id": "eed3b5f73250bcce",
   "outputs": [],
   "execution_count": 9
  },
  {
   "cell_type": "markdown",
   "source": [
    "### Custom datasets"
   ],
   "metadata": {
    "collapsed": false
   },
   "id": "c59200394bfc51d7"
  },
  {
   "cell_type": "code",
   "source": [
    "train_dataloader = DataLoader(SurfaceDatasetXGB(X_train, y_train, sample_freq=SAMPLING_FREQUENCY, data_freq=DATASET_FREQUENCY, lookback=LOOKBACK, subset=SUBSET), batch_size=len(X_train), shuffle=True)\n",
    "test_dataloader = DataLoader(SurfaceDatasetXGB(X_test, y_test, sample_freq=SAMPLING_FREQUENCY, data_freq=DATASET_FREQUENCY, lookback=LOOKBACK, subset=SUBSET), batch_size=len(X_test))"
   ],
   "metadata": {
    "collapsed": false,
    "ExecuteTime": {
     "end_time": "2024-06-26T18:39:27.933185Z",
     "start_time": "2024-06-26T18:39:27.919196Z"
    }
   },
   "id": "18f462da904175a6",
   "outputs": [],
   "execution_count": 10
  },
  {
   "metadata": {
    "ExecuteTime": {
     "end_time": "2024-06-26T18:39:35.825558Z",
     "start_time": "2024-06-26T18:39:28.330270Z"
    }
   },
   "cell_type": "code",
   "source": [
    "X_train, y_train = next(iter(train_dataloader))\n",
    "X_test, y_true = next(iter(test_dataloader))"
   ],
   "id": "b8aaddb108522d2",
   "outputs": [],
   "execution_count": 11
  },
  {
   "metadata": {
    "ExecuteTime": {
     "end_time": "2024-06-26T18:39:35.841430Z",
     "start_time": "2024-06-26T18:39:35.827466Z"
    }
   },
   "cell_type": "code",
   "source": [
    "param_grid = {\n",
    "    'n_estimators': [100, 200, 300],\n",
    "    'learning_rate': [0.01, 0.1, 0.3],\n",
    "    'max_depth': [3, 4, 5],\n",
    "    'subsample': [0.6, 0.8, 1.0],\n",
    "    'colsample_bytree': [0.6, 0.8, 1.0],\n",
    "    'min_child_weight': [1, 3, 5],\n",
    "    'reg_alpha': [0.1, 0.5],\n",
    "    'reg_lambda': [0.1, 0.5],\n",
    "}"
   ],
   "id": "dc86f1e9a34586fb",
   "outputs": [],
   "execution_count": 12
  },
  {
   "cell_type": "markdown",
   "source": "### Model",
   "metadata": {
    "collapsed": false
   },
   "id": "96daed4787b63f69"
  },
  {
   "cell_type": "code",
   "source": [
    "xgb_model = XGBClassifier(\n",
    "    objective='multi:softprob',\n",
    "    num_class=num_classes,\n",
    ")"
   ],
   "metadata": {
    "collapsed": false,
    "ExecuteTime": {
     "end_time": "2024-06-26T18:39:37.680165Z",
     "start_time": "2024-06-26T18:39:37.666205Z"
    }
   },
   "id": "94fa64fc85b948aa",
   "outputs": [],
   "execution_count": 13
  },
  {
   "cell_type": "markdown",
   "source": [
    "### Training loop"
   ],
   "metadata": {
    "collapsed": false
   },
   "id": "e467a8774a8740fd"
  },
  {
   "cell_type": "code",
   "source": [
    "clf_search = RandomizedSearchCV(\n",
    "    estimator=xgb_model,\n",
    "    param_distributions=param_grid,\n",
    "    cv=5,\n",
    "    scoring='accuracy',\n",
    "    n_jobs=-1,\n",
    "    verbose=10,\n",
    ")\n",
    "clf_search.fit(X_train, y_train)\n",
    "importances = clf_search.best_estimator_.feature_importances_\n",
    "idx = np.argsort(importances)\n",
    "best_features = idx[-25:]\n",
    "\n",
    "xgb_tuned = XGBClassifier(\n",
    "    objective='multi:softprob',\n",
    "    num_class=num_classes,\n",
    "    **clf_search.best_params_,\n",
    ")\n",
    "xgb_tuned.fit(X_train[:, best_features], y_train)\n",
    "\n",
    "model_name =  'xgb_classifier_' + '_'.join((str(num_classes),) + CONFIGURATIONS + SUBSET) + '_' + time.strftime(\"%Y-%m-%d-%H-%M-%S\")\n",
    "xgb_tuned.save_model(f\"../results/checkpoints/{model_name}.json\")"
   ],
   "metadata": {
    "collapsed": false,
    "ExecuteTime": {
     "end_time": "2024-06-26T18:40:00.327118Z",
     "start_time": "2024-06-26T18:39:38.681261Z"
    }
   },
   "id": "9acb973ef0d7300b",
   "outputs": [
    {
     "name": "stdout",
     "output_type": "stream",
     "text": [
      "Fitting 5 folds for each of 10 candidates, totalling 50 fits\n"
     ]
    }
   ],
   "execution_count": 14
  },
  {
   "metadata": {
    "ExecuteTime": {
     "end_time": "2024-06-26T18:40:00.429943Z",
     "start_time": "2024-06-26T18:40:00.329113Z"
    }
   },
   "cell_type": "code",
   "source": [
    "xgb_model = XGBClassifier(\n",
    "    objective='multi:softprob',\n",
    "    num_class=num_classes,\n",
    ")\n",
    "xgb_model.load_model(f\"../results/checkpoints/{model_name}.json\")"
   ],
   "id": "49ab05b5e60ce13",
   "outputs": [],
   "execution_count": 15
  },
  {
   "metadata": {
    "ExecuteTime": {
     "end_time": "2024-06-26T18:40:00.454342Z",
     "start_time": "2024-06-26T18:40:00.432936Z"
    }
   },
   "cell_type": "code",
   "source": "y_pred = xgb_model.predict(X_test[:, best_features])",
   "id": "a223192567a5a5e7",
   "outputs": [],
   "execution_count": 16
  },
  {
   "metadata": {},
   "cell_type": "code",
   "outputs": [],
   "execution_count": null,
   "source": "",
   "id": "253224708ad24ffc"
  }
 ],
 "metadata": {
  "kernelspec": {
   "display_name": "Python 3",
   "language": "python",
   "name": "python3"
  },
  "language_info": {
   "codemirror_mode": {
    "name": "ipython",
    "version": 2
   },
   "file_extension": ".py",
   "mimetype": "text/x-python",
   "name": "python",
   "nbconvert_exporter": "python",
   "pygments_lexer": "ipython2",
   "version": "2.7.6"
  }
 },
 "nbformat": 4,
 "nbformat_minor": 5
}
