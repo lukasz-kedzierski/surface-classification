{
 "cells": [
  {
   "cell_type": "markdown",
   "id": "9afebad71082b978",
   "metadata": {
    "collapsed": false,
    "jupyter": {
     "outputs_hidden": false
    }
   },
   "source": [
    "### Imports"
   ]
  },
  {
   "cell_type": "code",
   "execution_count": 1,
   "id": "7bbbfa68a2c2ad9a",
   "metadata": {
    "ExecuteTime": {
     "end_time": "2024-06-01T10:03:50.980067Z",
     "start_time": "2024-06-01T10:03:47.872037Z"
    },
    "collapsed": false,
    "jupyter": {
     "outputs_hidden": false
    }
   },
   "outputs": [],
   "source": [
    "import json\n",
    "import random\n",
    "import time\n",
    "import numpy as np\n",
    "import pandas as pd\n",
    "import matplotlib.pyplot as plt\n",
    "from collections import Counter\n",
    "from collections import defaultdict\n",
    "from cycler import cycler\n",
    "from pathlib import Path\n",
    "\n",
    "import torch\n",
    "from sklearn.preprocessing import LabelEncoder\n",
    "from torch.utils.data import DataLoader, Subset\n",
    "from datasets import SurfaceDatasetXGB\n",
    "\n",
    "import warnings\n",
    "warnings.filterwarnings('ignore')"
   ]
  },
  {
   "cell_type": "code",
   "execution_count": 2,
   "id": "a22208cb-891e-4907-8d2b-f75ca9aee081",
   "metadata": {},
   "outputs": [],
   "source": [
    "# Color definitions\n",
    "NICER_GREEN = '#159C48'\n",
    "NICER_BLUE = '#00A0FF'\n",
    "ORANGE = '#FBBC04'\n",
    "PINK = '#DB00CF'\n",
    "MAD_PURPLE = '#732BF5'\n",
    "LIGHT_GREEN = '#66C2A5'\n",
    "\n",
    "# Default figure parameters\n",
    "DEFAULT_FIGURE_PARAMS = {\n",
    "    'figure.figsize': [4, 3],\n",
    "    'axes.prop_cycle': cycler('color',\n",
    "                              [NICER_BLUE, NICER_GREEN, ORANGE, PINK, MAD_PURPLE, LIGHT_GREEN]),\n",
    "    'lines.linewidth': 1.5,\n",
    "    'font.size': 8,\n",
    "}\n",
    "\n",
    "# Statistical constants\n",
    "T_95 = 2.228  # t-value for 95% confidence interval\n",
    "\n",
    "def setup_matplotlib(custom_params=None):\n",
    "    \"\"\"Configure matplotlib with default or custom parameters.\n",
    "\n",
    "    Parameters\n",
    "    ----------\n",
    "    custom_params : dict, optional\n",
    "        Additional or override parameters.\n",
    "    \"\"\"\n",
    "    params = DEFAULT_FIGURE_PARAMS.copy()\n",
    "    if custom_params:\n",
    "        params.update(custom_params)\n",
    "\n",
    "    plt.rcParams.update(params)"
   ]
  },
  {
   "cell_type": "code",
   "execution_count": 3,
   "id": "66b5555a4fa10241",
   "metadata": {
    "ExecuteTime": {
     "end_time": "2024-06-01T10:03:51.027939Z",
     "start_time": "2024-06-01T10:03:51.018964Z"
    },
    "collapsed": false,
    "jupyter": {
     "outputs_hidden": false
    }
   },
   "outputs": [],
   "source": [
    "DATA_DIR = Path('./Desktop/SC - revision/dataset_new/dataset') # TO DO\n",
    "HISTORY_DIR = Path('./Desktop/SC - revision/results') # TO DO\n",
    "LOOKBACK = 8/3\n",
    "SAMPLING_FREQUENCY = 75.\n",
    "DATASET_FREQUENCY = 150.\n",
    "SUBSET = ('imu', 'servo')"
   ]
  },
  {
   "cell_type": "code",
   "execution_count": 5,
   "id": "503fce34bed6d813",
   "metadata": {
    "ExecuteTime": {
     "end_time": "2024-06-01T10:03:51.074815Z",
     "start_time": "2024-06-01T10:03:51.031929Z"
    },
    "collapsed": false,
    "jupyter": {
     "outputs_hidden": false
    }
   },
   "outputs": [],
   "source": [
    "def get_data(CONFIGURATIONS):\n",
    "    with open('./Desktop/SC - revision/labels.json') as fp:\n",
    "       labels = json.load(fp)\n",
    "\n",
    "    dataset = [(DATA_DIR.joinpath(key + '.csv'), values['surface']) for key, values in labels.items() if values['kinematics'] in CONFIGURATIONS and values['spacing'] == 'R1' and 'T1' in values['trajectory']]\n",
    "    \n",
    "    X = pd.Series([run[0] for run in dataset], name='bag_name')\n",
    "    y_primary = [run[1] for run in dataset]\n",
    "\n",
    "    y_secondary = ['0' if label in ('3_Wykladzina_jasna', '4_Trawa')\n",
    "                   else '2' if label in ('5_Spienione_PCV', '8_Pusta_plyta', '9_podklady', '10_Mata_ukladana')\n",
    "                   else '1' for label in y_primary]\n",
    "    \n",
    "    lb = LabelEncoder()\n",
    "    lb.fit(y_primary)\n",
    "    classes = lb.classes_\n",
    "    num_classes = len(classes)\n",
    "    y = lb.transform(y_primary)\n",
    "    \n",
    "    original_labels = lb.inverse_transform(y)\n",
    "    \n",
    "    surface_map = {'1_Panele': 'Laminate flooring',\n",
    "                '2_Wykladzina_czarna': 'Carpet (short fibers)',\n",
    "                '3_Wykladzina_jasna': 'Carpet (long fibers)',\n",
    "                '4_Trawa': 'Artificial grass',\n",
    "                '5_Spienione_PCV': 'PVC foamboard',\n",
    "                '6_Linoleum': 'Linoleum',\n",
    "                '7_Plytki_w_sali': 'Ceramic tiles',\n",
    "                '8_Pusta_plyta': 'OSB',\n",
    "                '9_podklady': 'Foam underlayment',\n",
    "                '10_Mata_ukladana': 'EVA foam tiles'}\n",
    "    \n",
    "    mapped_arr = np.vectorize(surface_map.get)(original_labels)\n",
    "    \n",
    "    cv_data = SurfaceDatasetXGB(X, y, sample_freq=SAMPLING_FREQUENCY, data_freq=DATASET_FREQUENCY, lookback=LOOKBACK, subset=SUBSET)\n",
    "\n",
    "    param_grid = {\n",
    "        'n_estimators': [100, 200, 300],\n",
    "        'learning_rate': [0.01, 0.1, 0.3],\n",
    "        'max_depth': [3, 4, 5],\n",
    "        'subsample': [0.6, 0.8, 1.0],\n",
    "        'colsample_bytree': [0.6, 0.8, 1.0],\n",
    "        'min_child_weight': [1, 3, 5],\n",
    "        'reg_alpha': [0.1, 0.5],\n",
    "        'reg_lambda': [0.1, 0.5],\n",
    "        'scale_pos_weight': [1, 2, 3]\n",
    "    }\n",
    "\n",
    "    return Counter(y_secondary), Counter(mapped_arr)"
   ]
  },
  {
   "cell_type": "code",
   "execution_count": 6,
   "id": "7b3d0e9b-6409-497a-9cb1-ff1ff192cb99",
   "metadata": {},
   "outputs": [],
   "source": [
    "def generate_hist(data1, data2):\n",
    "\n",
    "    counts_6w = data1\n",
    "    counts_4w = data2\n",
    "    \n",
    "    N = len(counts_6w.keys())\n",
    "    ind = np.arange(N)\n",
    "    \n",
    "    fig, ax1 = plt.subplots()\n",
    "    a1 = list(counts_4w.keys())\n",
    "    b1 = list(counts_4w.values())\n",
    "    \n",
    "    a2 = list(counts_6w.keys())\n",
    "    b2 = list(counts_6w.values())\n",
    "    width = 0.3\n",
    "    ax1.bar(ind, b1, width, color=NICER_BLUE, label='4W')\n",
    "    ax1.bar(ind + width, b2, width, color=NICER_GREEN, label='6W')\n",
    "    ax1.set_ylabel('number of runs')\n",
    "    ax1.set_xlabel('surface type')\n",
    "    ax1.set_title('')\n",
    "    if N == 10: # add rotation\n",
    "        plt.xticks(ind + width / 2, counts_4w.keys(), rotation=45, ha='right')\n",
    "    else:\n",
    "        plt.xticks(ind + width / 2, counts_4w.keys(), ha='right')\n",
    "    plt.tight_layout()\n",
    "    plt.legend(bbox_to_anchor=(0.7, 1.2), ncol=2)\n",
    "    plt.grid(axis='y')\n",
    "    plt.savefig(\"hist_1000dpi.png\", dpi=1000, bbox_inches='tight')\n",
    "    # plt.show()"
   ]
  },
  {
   "cell_type": "code",
   "execution_count": 7,
   "id": "6b043c1c-5b4a-4063-9c53-fd57af61f790",
   "metadata": {},
   "outputs": [
    {
     "data": {
      "image/png": "[encoded data removed]",
      "text/plain": [
       "<Figure size 400x300 with 1 Axes>"
      ]
     },
     "metadata": {},
     "output_type": "display_data"
    },
    {
     "data": {
      "image/png": "[encoded data removed]",
      "text/plain": [
       "<Figure size 400x300 with 1 Axes>"
      ]
     },
     "metadata": {},
     "output_type": "display_data"
    }
   ],
   "source": [
    "data_6w_3, data_6w_10 = get_data(CONFIGURATIONS='6W')\n",
    "data_4w_3, data_4w_10 = get_data(CONFIGURATIONS='4W')\n",
    "\n",
    "# sort labels for 3 classes\n",
    "data_6w_3 = dict(sorted(data_6w_3.items(), key=lambda x: x[0]))\n",
    "data_4w_3 = dict(sorted(data_4w_3.items(), key=lambda x: x[0]))\n",
    "\n",
    "setup_matplotlib()\n",
    "generate_hist(data_6w_10, data_4w_10)\n",
    "generate_hist(data_6w_3, data_4w_3)"
   ]
  },
  {
   "cell_type": "code",
   "execution_count": null,
   "id": "240e8693-889a-48ed-9d6c-47859b1efeb1",
   "metadata": {},
   "outputs": [],
   "source": []
  },
  {
   "cell_type": "code",
   "execution_count": null,
   "id": "4050aba2-dd55-45b7-b4dd-4a55a1948564",
   "metadata": {},
   "outputs": [],
   "source": []
  },
  {
   "cell_type": "code",
   "execution_count": null,
   "id": "785c78f6-9820-4f31-8a75-e452dfa2adb3",
   "metadata": {},
   "outputs": [],
   "source": []
  }
 ],
 "metadata": {
  "kernelspec": {
   "display_name": "Python 3 (ipykernel)",
   "language": "python",
   "name": "python3"
  },
  "language_info": {
   "codemirror_mode": {
    "name": "ipython",
    "version": 3
   },
   "file_extension": ".py",
   "mimetype": "text/x-python",
   "name": "python",
   "nbconvert_exporter": "python",
   "pygments_lexer": "ipython3",
   "version": "3.10.8"
  }
 },
 "nbformat": 4,
 "nbformat_minor": 5
}
