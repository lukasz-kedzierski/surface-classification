{
 "cells": [
  {
   "cell_type": "markdown",
   "source": [
    "\n",
    "### Imports"
   ],
   "metadata": {
    "collapsed": false
   },
   "id": "9afebad71082b978"
  },
  {
   "cell_type": "code",
   "source": [
    "import json\n",
    "import pandas as pd\n",
    "import time\n",
    "\n",
    "from pathlib import Path\n",
    "from sklearn.model_selection import train_test_split\n",
    "from sklearn.preprocessing import LabelBinarizer\n",
    "from tqdm import tqdm\n",
    "\n",
    "import torch\n",
    "import torch.nn as nn\n",
    "from torch.optim.lr_scheduler import ExponentialLR\n",
    "from torch.utils.data import DataLoader\n",
    "\n",
    "from datasets import SurfaceDataset\n",
    "from helpers import EarlyStopper\n",
    "from models import CNNSurfaceClassifier"
   ],
   "metadata": {
    "collapsed": false,
    "ExecuteTime": {
     "end_time": "2024-05-09T06:18:08.345805Z",
     "start_time": "2024-05-09T06:18:04.550080Z"
    }
   },
   "id": "7bbbfa68a2c2ad9a",
   "outputs": [],
   "execution_count": 1
  },
  {
   "cell_type": "markdown",
   "source": [
    "### Device"
   ],
   "metadata": {
    "collapsed": false
   },
   "id": "be243189c890a753"
  },
  {
   "cell_type": "code",
   "source": [
    "device = \"cuda:0\" if torch.cuda.is_available() else \"cpu\"\n",
    "device"
   ],
   "metadata": {
    "collapsed": false,
    "ExecuteTime": {
     "end_time": "2024-05-09T06:18:08.423741Z",
     "start_time": "2024-05-09T06:18:08.346806Z"
    }
   },
   "id": "da0434b42f73b25a",
   "outputs": [
    {
     "data": {
      "text/plain": [
       "'cuda:0'"
      ]
     },
     "execution_count": 2,
     "metadata": {},
     "output_type": "execute_result"
    }
   ],
   "execution_count": 2
  },
  {
   "cell_type": "markdown",
   "source": [
    "### Constants"
   ],
   "metadata": {
    "collapsed": false
   },
   "id": "87b62f1e105bcc84"
  },
  {
   "cell_type": "code",
   "source": [
    "BATCH_SIZE = 32\n",
    "INPUT_SIZE = 6\n",
    "NUM_EPOCHS = 100\n",
    "DATA_DIR = Path('../data/train_set/csv/')\n",
    "LOOKBACK = 2.\n",
    "SAMPLING_FREQUENCY = 100.\n",
    "DATASET_FREQUENCY = 200.\n",
    "SUBSET = ('imu',)\n",
    "CONFIGURATIONS = ('4W',)"
   ],
   "metadata": {
    "collapsed": false,
    "ExecuteTime": {
     "end_time": "2024-05-09T06:18:45.110681Z",
     "start_time": "2024-05-09T06:18:45.097716Z"
    }
   },
   "id": "66b5555a4fa10241",
   "outputs": [],
   "execution_count": 3
  },
  {
   "cell_type": "markdown",
   "source": "### Load and split data",
   "metadata": {
    "collapsed": false
   },
   "id": "5529717ff2812af0"
  },
  {
   "cell_type": "code",
   "source": [
    "with open('../data/labels.json') as fp:\n",
    "    labels = json.load(fp)"
   ],
   "metadata": {
    "collapsed": false,
    "ExecuteTime": {
     "end_time": "2024-05-09T06:19:05.541639Z",
     "start_time": "2024-05-09T06:19:05.527674Z"
    }
   },
   "id": "503fce34bed6d813",
   "outputs": [],
   "execution_count": 4
  },
  {
   "cell_type": "code",
   "source": "dataset = [(DATA_DIR.joinpath(key + '.csv'), values['surface']) for key, values in labels.items() if values['kinematics'] in CONFIGURATIONS and values['spacing'] == 'R1' and 'T1' in values['trajectory']]",
   "metadata": {
    "collapsed": false,
    "ExecuteTime": {
     "end_time": "2024-05-09T06:19:06.587511Z",
     "start_time": "2024-05-09T06:19:06.570556Z"
    }
   },
   "id": "96bb38f00e195362",
   "outputs": [],
   "execution_count": 5
  },
  {
   "cell_type": "code",
   "source": [
    "X = pd.Series([run[0] for run in dataset], name='bag_name')\n",
    "y_primary = [run[1] for run in dataset]"
   ],
   "metadata": {
    "collapsed": false,
    "ExecuteTime": {
     "end_time": "2024-05-09T06:19:07.319562Z",
     "start_time": "2024-05-09T06:19:07.302609Z"
    }
   },
   "id": "ac562fc5c93cd196",
   "outputs": [],
   "execution_count": 6
  },
  {
   "cell_type": "code",
   "source": [
    "# y_secondary = ['slippery' if label in ('1_Panele', '5_Spienione_PCV', '6_Linoleum')\n",
    "#                else 'grippy' if label in ('3_Wykladzina_jasna', '8_Pusta_plyta', '9_podklady')\n",
    "#                else 'neutral' for label in y_primary]\n",
    "y_secondary = ['slippery' if label in ('3_Wykladzina_jasna', '4_Trawa')\n",
    "               else 'grippy' if label in ('5_Spienione_PCV', '8_Pusta_plyta', '9_podklady', '10_Mata_ukladana')\n",
    "               else 'neutral' for label in y_primary] # Pawel set\n",
    "# y_secondary = ['slippery' if label in ('3_Wykladzina_jasna', '4_Trawa')\n",
    "#                else 'grippy' if label in ('2_Wykladzina_czarna', '5_Spienione_PCV', '9_podklady', '10_Mata_ukladana')\n",
    "#                else 'neutral' for label in y_primary] # Clustering set"
   ],
   "metadata": {
    "collapsed": false,
    "ExecuteTime": {
     "end_time": "2024-05-09T06:19:08.126576Z",
     "start_time": "2024-05-09T06:19:08.108028Z"
    }
   },
   "id": "bce103ccb3fe0581",
   "outputs": [],
   "execution_count": 7
  },
  {
   "cell_type": "code",
   "source": [
    "lb = LabelBinarizer()\n",
    "lb.fit(y_primary)\n",
    "classes = lb.classes_\n",
    "num_classes = len(classes)\n",
    "y = lb.transform(y_primary)\n",
    "y = y.reshape(-1, num_classes)"
   ],
   "metadata": {
    "collapsed": false,
    "ExecuteTime": {
     "end_time": "2024-05-09T06:19:08.982414Z",
     "start_time": "2024-05-09T06:19:08.957605Z"
    }
   },
   "id": "28cd1c677f86f806",
   "outputs": [],
   "execution_count": 8
  },
  {
   "metadata": {
    "ExecuteTime": {
     "end_time": "2024-05-09T06:19:09.578019Z",
     "start_time": "2024-05-09T06:19:09.561065Z"
    }
   },
   "cell_type": "code",
   "source": "print(classes)",
   "id": "f8dd7abc1dd0a907",
   "outputs": [
    {
     "name": "stdout",
     "output_type": "stream",
     "text": [
      "['10_Mata_ukladana' '1_Panele' '2_Wykladzina_czarna' '3_Wykladzina_jasna'\n",
      " '4_Trawa' '5_Spienione_PCV' '6_Linoleum' '7_Plytki_w_sali'\n",
      " '8_Pusta_plyta' '9_podklady']\n"
     ]
    }
   ],
   "execution_count": 9
  },
  {
   "cell_type": "code",
   "source": [
    "X_train, X_val, y_train, y_val = train_test_split(X, y, test_size=0.2, stratify=y)\n",
    "X_train.reset_index(drop=True, inplace=True)\n",
    "X_val.reset_index(drop=True, inplace=True)"
   ],
   "metadata": {
    "collapsed": false,
    "ExecuteTime": {
     "end_time": "2024-05-09T06:19:10.153867Z",
     "start_time": "2024-05-09T06:19:10.134918Z"
    }
   },
   "id": "eed3b5f73250bcce",
   "outputs": [],
   "execution_count": 10
  },
  {
   "cell_type": "markdown",
   "source": [
    "### Custom datasets"
   ],
   "metadata": {
    "collapsed": false
   },
   "id": "c59200394bfc51d7"
  },
  {
   "cell_type": "code",
   "source": [
    "train_dataloader = DataLoader(SurfaceDataset(X_train, y_train, sample_freq=SAMPLING_FREQUENCY, data_freq=DATASET_FREQUENCY, lookback=LOOKBACK, subset=SUBSET), batch_size=BATCH_SIZE, shuffle=True)\n",
    "val_dataloader = DataLoader(SurfaceDataset(X_val, y_val, sample_freq=SAMPLING_FREQUENCY, data_freq=DATASET_FREQUENCY, lookback=LOOKBACK, subset=SUBSET), batch_size=BATCH_SIZE)"
   ],
   "metadata": {
    "collapsed": false,
    "ExecuteTime": {
     "end_time": "2024-05-09T06:19:11.136244Z",
     "start_time": "2024-05-09T06:19:11.124276Z"
    }
   },
   "id": "18f462da904175a6",
   "outputs": [],
   "execution_count": 11
  },
  {
   "cell_type": "markdown",
   "source": [
    "### Models"
   ],
   "metadata": {
    "collapsed": false
   },
   "id": "96daed4787b63f69"
  },
  {
   "cell_type": "code",
   "source": "cnn_model = CNNSurfaceClassifier(input_size=INPUT_SIZE, output_size=num_classes).to(device)",
   "metadata": {
    "collapsed": false,
    "ExecuteTime": {
     "end_time": "2024-05-09T06:19:12.197125Z",
     "start_time": "2024-05-09T06:19:11.998657Z"
    }
   },
   "id": "94fa64fc85b948aa",
   "outputs": [],
   "execution_count": 12
  },
  {
   "cell_type": "markdown",
   "source": [
    "### Optimizer"
   ],
   "metadata": {
    "collapsed": false
   },
   "id": "fa4d99f3eb297adf"
  },
  {
   "cell_type": "code",
   "source": [
    "optimizer = torch.optim.Adam(\n",
    "    cnn_model.parameters(),\n",
    "    lr=1e-3,\n",
    "    eps=1e-6,\n",
    "    weight_decay=1e-3,\n",
    "    )"
   ],
   "metadata": {
    "collapsed": false,
    "ExecuteTime": {
     "end_time": "2024-05-09T06:19:14.418404Z",
     "start_time": "2024-05-09T06:19:12.695021Z"
    }
   },
   "id": "a7fb9f74376bf1fc",
   "outputs": [],
   "execution_count": 13
  },
  {
   "cell_type": "markdown",
   "source": [
    "### Scheduler"
   ],
   "metadata": {
    "collapsed": false
   },
   "id": "8189ce4256cef7aa"
  },
  {
   "cell_type": "code",
   "source": [
    "scheduler = ExponentialLR(optimizer, gamma=0.9)"
   ],
   "metadata": {
    "collapsed": false,
    "ExecuteTime": {
     "end_time": "2024-05-09T06:19:14.435357Z",
     "start_time": "2024-05-09T06:19:14.422392Z"
    }
   },
   "id": "543d5776cbc9ab8e",
   "outputs": [],
   "execution_count": 14
  },
  {
   "cell_type": "markdown",
   "source": [
    "### Early stopping"
   ],
   "metadata": {
    "collapsed": false
   },
   "id": "3457623a134ea771"
  },
  {
   "cell_type": "code",
   "source": "early_stopper = EarlyStopper()",
   "metadata": {
    "collapsed": false,
    "ExecuteTime": {
     "end_time": "2024-05-09T06:19:14.527112Z",
     "start_time": "2024-05-09T06:19:14.510157Z"
    }
   },
   "id": "99bf1d622f9db277",
   "outputs": [],
   "execution_count": 15
  },
  {
   "metadata": {},
   "cell_type": "markdown",
   "source": "### Loss function",
   "id": "1eb74cc30ec4f075"
  },
  {
   "metadata": {
    "ExecuteTime": {
     "end_time": "2024-05-09T06:19:15.258371Z",
     "start_time": "2024-05-09T06:19:15.244408Z"
    }
   },
   "cell_type": "code",
   "source": "criterion = nn.CrossEntropyLoss()",
   "id": "1ec9144e4d480a2d",
   "outputs": [],
   "execution_count": 16
  },
  {
   "cell_type": "markdown",
   "source": [
    "### Training loop"
   ],
   "metadata": {
    "collapsed": false
   },
   "id": "e467a8774a8740fd"
  },
  {
   "cell_type": "code",
   "source": [
    "train_batches = len(train_dataloader)\n",
    "val_batches = len(val_dataloader)\n",
    "\n",
    "for epoch in range(NUM_EPOCHS):\n",
    "    running_train_loss = 0.0\n",
    "    running_val_loss = 0.0\n",
    "    \n",
    "    pbar = tqdm(train_dataloader, total=train_batches)\n",
    "    cnn_model.train()\n",
    "    for idx, (batch_x, batch_y) in enumerate(pbar):\n",
    "        optimizer.zero_grad()\n",
    "        \n",
    "        batch_x, batch_y = batch_x.to(device), batch_y.to(device)\n",
    "        batch_x = batch_x.permute(0, 2, 1)\n",
    "        train_outputs = cnn_model(batch_x)\n",
    "        train_loss = criterion(train_outputs, batch_y)\n",
    "        running_train_loss += train_loss\n",
    "\n",
    "        # Backward pass\n",
    "        train_loss.backward()\n",
    "        optimizer.step()\n",
    "\n",
    "        pbar.set_description(f\"Epoch {epoch + 1}/{NUM_EPOCHS}, Training loss: {running_train_loss / (idx + 1):.2E}\")\n",
    "    scheduler.step()\n",
    "\n",
    "    pbar_val = tqdm(val_dataloader, total=val_batches)\n",
    "    cnn_model.eval()\n",
    "    with torch.no_grad():\n",
    "        for idx, (batch_x_val, batch_y_val) in enumerate(pbar_val):\n",
    "            batch_x_val, batch_y_val = batch_x_val.to(device), batch_y_val.to(device)\n",
    "            batch_x_val = batch_x_val.permute(0, 2, 1)\n",
    "            val_outputs = cnn_model(batch_x_val)\n",
    "            val_loss = criterion(val_outputs, batch_y_val)\n",
    "            running_val_loss += val_loss\n",
    "            \n",
    "            pbar_val.set_description(f\"Epoch {epoch + 1}/{NUM_EPOCHS}, Validation loss: {running_val_loss / (idx + 1):.2E}\")\n",
    "            \n",
    "    validation_loss = running_val_loss / (idx + 1)\n",
    "    if early_stopper.early_stop(validation_loss):\n",
    "        print(f\"Split ended on epoch {epoch + 1 - early_stopper.patience}!\")\n",
    "        break\n",
    "    if early_stopper.counter == 0:\n",
    "        print(True)\n",
    "        best_model = cnn_model.state_dict()\n",
    "\n",
    "config =  '_'.join(SUBSET + CONFIGURATIONS) + '_' + time.strftime(\"%Y-%m-%d-%H-%M-%S\")\n",
    "torch.save(best_model, f\"../data/checkpoints/cnn_classifier_{config}.pt\")"
   ],
   "metadata": {
    "collapsed": false,
    "ExecuteTime": {
     "end_time": "2024-05-09T06:24:17.078460Z",
     "start_time": "2024-05-09T06:19:16.745163Z"
    }
   },
   "id": "9acb973ef0d7300b",
   "outputs": [
    {
     "name": "stderr",
     "output_type": "stream",
     "text": [
      "Epoch 1/100, Training loss: 1.93E+00: 100%|██████████| 9/9 [00:08<00:00,  1.09it/s]\n",
      "Epoch 1/100, Validation loss: 2.25E+00: 100%|██████████| 3/3 [00:01<00:00,  1.97it/s]\n"
     ]
    },
    {
     "name": "stdout",
     "output_type": "stream",
     "text": [
      "True\n"
     ]
    },
    {
     "name": "stderr",
     "output_type": "stream",
     "text": [
      "Epoch 2/100, Training loss: 1.52E+00: 100%|██████████| 9/9 [00:05<00:00,  1.63it/s]\n",
      "Epoch 2/100, Validation loss: 2.03E+00: 100%|██████████| 3/3 [00:01<00:00,  2.23it/s]\n"
     ]
    },
    {
     "name": "stdout",
     "output_type": "stream",
     "text": [
      "True\n"
     ]
    },
    {
     "name": "stderr",
     "output_type": "stream",
     "text": [
      "Epoch 3/100, Training loss: 1.34E+00: 100%|██████████| 9/9 [00:05<00:00,  1.62it/s]\n",
      "Epoch 3/100, Validation loss: 1.66E+00: 100%|██████████| 3/3 [00:01<00:00,  2.22it/s]\n"
     ]
    },
    {
     "name": "stdout",
     "output_type": "stream",
     "text": [
      "True\n"
     ]
    },
    {
     "name": "stderr",
     "output_type": "stream",
     "text": [
      "Epoch 4/100, Training loss: 1.20E+00: 100%|██████████| 9/9 [00:05<00:00,  1.58it/s]\n",
      "Epoch 4/100, Validation loss: 1.46E+00: 100%|██████████| 3/3 [00:01<00:00,  2.21it/s]\n"
     ]
    },
    {
     "name": "stdout",
     "output_type": "stream",
     "text": [
      "True\n"
     ]
    },
    {
     "name": "stderr",
     "output_type": "stream",
     "text": [
      "Epoch 5/100, Training loss: 1.18E+00: 100%|██████████| 9/9 [00:05<00:00,  1.62it/s]\n",
      "Epoch 5/100, Validation loss: 1.26E+00: 100%|██████████| 3/3 [00:01<00:00,  2.22it/s]\n"
     ]
    },
    {
     "name": "stdout",
     "output_type": "stream",
     "text": [
      "True\n"
     ]
    },
    {
     "name": "stderr",
     "output_type": "stream",
     "text": [
      "Epoch 6/100, Training loss: 1.09E+00: 100%|██████████| 9/9 [00:05<00:00,  1.66it/s]\n",
      "Epoch 6/100, Validation loss: 9.69E-01: 100%|██████████| 3/3 [00:01<00:00,  2.19it/s]\n"
     ]
    },
    {
     "name": "stdout",
     "output_type": "stream",
     "text": [
      "True\n"
     ]
    },
    {
     "name": "stderr",
     "output_type": "stream",
     "text": [
      "Epoch 7/100, Training loss: 1.01E+00: 100%|██████████| 9/9 [00:05<00:00,  1.63it/s]\n",
      "Epoch 7/100, Validation loss: 8.50E-01: 100%|██████████| 3/3 [00:01<00:00,  2.22it/s]\n"
     ]
    },
    {
     "name": "stdout",
     "output_type": "stream",
     "text": [
      "True\n"
     ]
    },
    {
     "name": "stderr",
     "output_type": "stream",
     "text": [
      "Epoch 8/100, Training loss: 8.58E-01: 100%|██████████| 9/9 [00:05<00:00,  1.63it/s]\n",
      "Epoch 8/100, Validation loss: 7.91E-01: 100%|██████████| 3/3 [00:01<00:00,  2.22it/s]\n"
     ]
    },
    {
     "name": "stdout",
     "output_type": "stream",
     "text": [
      "True\n"
     ]
    },
    {
     "name": "stderr",
     "output_type": "stream",
     "text": [
      "Epoch 9/100, Training loss: 8.08E-01: 100%|██████████| 9/9 [00:05<00:00,  1.62it/s]\n",
      "Epoch 9/100, Validation loss: 1.06E+00: 100%|██████████| 3/3 [00:01<00:00,  2.24it/s]\n",
      "Epoch 10/100, Training loss: 8.65E-01: 100%|██████████| 9/9 [00:05<00:00,  1.63it/s]\n",
      "Epoch 10/100, Validation loss: 5.98E-01: 100%|██████████| 3/3 [00:01<00:00,  2.21it/s]\n"
     ]
    },
    {
     "name": "stdout",
     "output_type": "stream",
     "text": [
      "True\n"
     ]
    },
    {
     "name": "stderr",
     "output_type": "stream",
     "text": [
      "Epoch 11/100, Training loss: 8.04E-01: 100%|██████████| 9/9 [00:05<00:00,  1.67it/s]\n",
      "Epoch 11/100, Validation loss: 1.08E+00: 100%|██████████| 3/3 [00:01<00:00,  2.24it/s]\n",
      "Epoch 12/100, Training loss: 7.83E-01: 100%|██████████| 9/9 [00:05<00:00,  1.67it/s]\n",
      "Epoch 12/100, Validation loss: 6.17E-01: 100%|██████████| 3/3 [00:01<00:00,  2.25it/s]\n",
      "Epoch 13/100, Training loss: 7.69E-01: 100%|██████████| 9/9 [00:05<00:00,  1.62it/s]\n",
      "Epoch 13/100, Validation loss: 6.28E-01: 100%|██████████| 3/3 [00:01<00:00,  2.25it/s]\n",
      "Epoch 14/100, Training loss: 7.28E-01: 100%|██████████| 9/9 [00:05<00:00,  1.66it/s]\n",
      "Epoch 14/100, Validation loss: 4.84E-01: 100%|██████████| 3/3 [00:01<00:00,  2.22it/s]\n"
     ]
    },
    {
     "name": "stdout",
     "output_type": "stream",
     "text": [
      "True\n"
     ]
    },
    {
     "name": "stderr",
     "output_type": "stream",
     "text": [
      "Epoch 15/100, Training loss: 6.24E-01: 100%|██████████| 9/9 [00:05<00:00,  1.67it/s]\n",
      "Epoch 15/100, Validation loss: 1.24E+00: 100%|██████████| 3/3 [00:01<00:00,  2.28it/s]\n",
      "Epoch 16/100, Training loss: 7.02E-01: 100%|██████████| 9/9 [00:05<00:00,  1.67it/s]\n",
      "Epoch 16/100, Validation loss: 7.07E-01: 100%|██████████| 3/3 [00:01<00:00,  2.23it/s]\n",
      "Epoch 17/100, Training loss: 7.27E-01: 100%|██████████| 9/9 [00:05<00:00,  1.67it/s]\n",
      "Epoch 17/100, Validation loss: 8.28E-01: 100%|██████████| 3/3 [00:01<00:00,  2.21it/s]\n",
      "Epoch 18/100, Training loss: 6.11E-01: 100%|██████████| 9/9 [00:05<00:00,  1.68it/s]\n",
      "Epoch 18/100, Validation loss: 6.99E-01: 100%|██████████| 3/3 [00:01<00:00,  2.20it/s]\n",
      "Epoch 19/100, Training loss: 5.94E-01: 100%|██████████| 9/9 [00:05<00:00,  1.66it/s]\n",
      "Epoch 19/100, Validation loss: 7.35E-01: 100%|██████████| 3/3 [00:01<00:00,  2.26it/s]\n",
      "Epoch 20/100, Training loss: 6.76E-01: 100%|██████████| 9/9 [00:05<00:00,  1.68it/s]\n",
      "Epoch 20/100, Validation loss: 5.98E-01: 100%|██████████| 3/3 [00:01<00:00,  2.17it/s]\n",
      "Epoch 21/100, Training loss: 6.65E-01: 100%|██████████| 9/9 [00:05<00:00,  1.68it/s]\n",
      "Epoch 21/100, Validation loss: 6.17E-01: 100%|██████████| 3/3 [00:01<00:00,  2.25it/s]\n",
      "Epoch 22/100, Training loss: 5.47E-01: 100%|██████████| 9/9 [00:05<00:00,  1.53it/s]\n",
      "Epoch 22/100, Validation loss: 5.88E-01: 100%|██████████| 3/3 [00:01<00:00,  1.99it/s]\n",
      "Epoch 23/100, Training loss: 6.76E-01: 100%|██████████| 9/9 [00:06<00:00,  1.47it/s]\n",
      "Epoch 23/100, Validation loss: 5.01E-01: 100%|██████████| 3/3 [00:01<00:00,  2.04it/s]\n",
      "Epoch 24/100, Training loss: 5.39E-01: 100%|██████████| 9/9 [00:06<00:00,  1.47it/s]\n",
      "Epoch 24/100, Validation loss: 4.28E-01: 100%|██████████| 3/3 [00:01<00:00,  2.02it/s]\n"
     ]
    },
    {
     "name": "stdout",
     "output_type": "stream",
     "text": [
      "True\n"
     ]
    },
    {
     "name": "stderr",
     "output_type": "stream",
     "text": [
      "Epoch 25/100, Training loss: 5.85E-01: 100%|██████████| 9/9 [00:06<00:00,  1.50it/s]\n",
      "Epoch 25/100, Validation loss: 6.55E-01: 100%|██████████| 3/3 [00:01<00:00,  1.82it/s]\n",
      "Epoch 26/100, Training loss: 6.32E-01: 100%|██████████| 9/9 [00:07<00:00,  1.28it/s]\n",
      "Epoch 26/100, Validation loss: 5.00E-01: 100%|██████████| 3/3 [00:01<00:00,  1.72it/s]\n",
      "Epoch 27/100, Training loss: 5.52E-01: 100%|██████████| 9/9 [00:05<00:00,  1.58it/s]\n",
      "Epoch 27/100, Validation loss: 1.16E+00: 100%|██████████| 3/3 [00:01<00:00,  2.22it/s]\n",
      "Epoch 28/100, Training loss: 4.96E-01: 100%|██████████| 9/9 [00:05<00:00,  1.67it/s]\n",
      "Epoch 28/100, Validation loss: 4.91E-01: 100%|██████████| 3/3 [00:01<00:00,  2.23it/s]\n",
      "Epoch 29/100, Training loss: 5.55E-01: 100%|██████████| 9/9 [00:05<00:00,  1.66it/s]\n",
      "Epoch 29/100, Validation loss: 5.15E-01: 100%|██████████| 3/3 [00:01<00:00,  2.25it/s]\n",
      "Epoch 30/100, Training loss: 5.20E-01: 100%|██████████| 9/9 [00:05<00:00,  1.63it/s]\n",
      "Epoch 30/100, Validation loss: 4.43E-01: 100%|██████████| 3/3 [00:01<00:00,  2.26it/s]\n",
      "Epoch 31/100, Training loss: 5.56E-01: 100%|██████████| 9/9 [00:05<00:00,  1.68it/s]\n",
      "Epoch 31/100, Validation loss: 7.34E-01: 100%|██████████| 3/3 [00:01<00:00,  2.24it/s]\n",
      "Epoch 32/100, Training loss: 5.54E-01: 100%|██████████| 9/9 [00:05<00:00,  1.68it/s]\n",
      "Epoch 32/100, Validation loss: 4.42E-01: 100%|██████████| 3/3 [00:01<00:00,  2.27it/s]\n",
      "Epoch 33/100, Training loss: 5.71E-01: 100%|██████████| 9/9 [00:05<00:00,  1.65it/s]\n",
      "Epoch 33/100, Validation loss: 4.11E-01: 100%|██████████| 3/3 [00:01<00:00,  2.26it/s]\n"
     ]
    },
    {
     "name": "stdout",
     "output_type": "stream",
     "text": [
      "True\n"
     ]
    },
    {
     "name": "stderr",
     "output_type": "stream",
     "text": [
      "Epoch 34/100, Training loss: 5.76E-01: 100%|██████████| 9/9 [00:05<00:00,  1.66it/s]\n",
      "Epoch 34/100, Validation loss: 4.69E-01: 100%|██████████| 3/3 [00:01<00:00,  2.24it/s]\n",
      "Epoch 35/100, Training loss: 5.24E-01: 100%|██████████| 9/9 [00:05<00:00,  1.64it/s]\n",
      "Epoch 35/100, Validation loss: 7.53E-01: 100%|██████████| 3/3 [00:01<00:00,  2.26it/s]\n",
      "Epoch 36/100, Training loss: 4.90E-01: 100%|██████████| 9/9 [00:05<00:00,  1.66it/s]\n",
      "Epoch 36/100, Validation loss: 4.96E-01: 100%|██████████| 3/3 [00:01<00:00,  2.20it/s]\n",
      "Epoch 37/100, Training loss: 5.84E-01: 100%|██████████| 9/9 [00:05<00:00,  1.68it/s]\n",
      "Epoch 37/100, Validation loss: 6.53E-01: 100%|██████████| 3/3 [00:01<00:00,  2.22it/s]\n",
      "Epoch 38/100, Training loss: 5.21E-01: 100%|██████████| 9/9 [00:05<00:00,  1.67it/s]\n",
      "Epoch 38/100, Validation loss: 1.16E+00: 100%|██████████| 3/3 [00:01<00:00,  2.25it/s]\n",
      "Epoch 39/100, Training loss: 5.50E-01: 100%|██████████| 9/9 [00:05<00:00,  1.68it/s]\n",
      "Epoch 39/100, Validation loss: 5.50E-01: 100%|██████████| 3/3 [00:01<00:00,  2.19it/s]\n",
      "Epoch 40/100, Training loss: 5.41E-01: 100%|██████████| 9/9 [00:05<00:00,  1.66it/s]\n",
      "Epoch 40/100, Validation loss: 6.05E-01: 100%|██████████| 3/3 [00:01<00:00,  2.07it/s]\n",
      "Epoch 41/100, Training loss: 4.64E-01: 100%|██████████| 9/9 [00:05<00:00,  1.68it/s]\n",
      "Epoch 41/100, Validation loss: 6.82E-01: 100%|██████████| 3/3 [00:01<00:00,  2.25it/s]\n",
      "Epoch 42/100, Training loss: 5.57E-01: 100%|██████████| 9/9 [00:05<00:00,  1.68it/s]\n",
      "Epoch 42/100, Validation loss: 4.29E-01: 100%|██████████| 3/3 [00:01<00:00,  2.26it/s]\n",
      "Epoch 43/100, Training loss: 5.33E-01: 100%|██████████| 9/9 [00:05<00:00,  1.68it/s]\n",
      "Epoch 43/100, Validation loss: 4.35E-01: 100%|██████████| 3/3 [00:01<00:00,  2.22it/s]"
     ]
    },
    {
     "name": "stdout",
     "output_type": "stream",
     "text": [
      "Split ended on epoch 33!\n"
     ]
    },
    {
     "name": "stderr",
     "output_type": "stream",
     "text": [
      "\n"
     ]
    }
   ],
   "execution_count": 17
  },
  {
   "metadata": {},
   "cell_type": "code",
   "outputs": [],
   "execution_count": null,
   "source": "",
   "id": "a223192567a5a5e7"
  }
 ],
 "metadata": {
  "kernelspec": {
   "display_name": "Python 3",
   "language": "python",
   "name": "python3"
  },
  "language_info": {
   "codemirror_mode": {
    "name": "ipython",
    "version": 2
   },
   "file_extension": ".py",
   "mimetype": "text/x-python",
   "name": "python",
   "nbconvert_exporter": "python",
   "pygments_lexer": "ipython2",
   "version": "2.7.6"
  }
 },
 "nbformat": 4,
 "nbformat_minor": 5
}
