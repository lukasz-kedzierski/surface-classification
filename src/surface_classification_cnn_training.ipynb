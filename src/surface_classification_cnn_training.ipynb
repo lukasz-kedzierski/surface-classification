{
 "cells": [
  {
   "cell_type": "markdown",
   "source": "### Imports",
   "metadata": {
    "collapsed": false
   },
   "id": "9afebad71082b978"
  },
  {
   "cell_type": "code",
   "source": [
    "import json\n",
    "import pandas as pd\n",
    "import time\n",
    "\n",
    "from pathlib import Path\n",
    "from sklearn.model_selection import train_test_split\n",
    "from sklearn.preprocessing import LabelBinarizer\n",
    "from tqdm import tqdm\n",
    "\n",
    "import torch\n",
    "import torch.nn as nn\n",
    "from torch.optim.lr_scheduler import ExponentialLR\n",
    "from torch.utils.data import DataLoader\n",
    "\n",
    "from datasets import SurfaceDataset\n",
    "from helpers import EarlyStopper\n",
    "from models import CNNSurfaceClassifier"
   ],
   "metadata": {
    "collapsed": false,
    "ExecuteTime": {
     "end_time": "2024-05-13T14:12:37.423322Z",
     "start_time": "2024-05-13T14:12:32.988684Z"
    }
   },
   "id": "7bbbfa68a2c2ad9a",
   "outputs": [],
   "execution_count": 1
  },
  {
   "cell_type": "markdown",
   "source": [
    "### Device"
   ],
   "metadata": {
    "collapsed": false
   },
   "id": "be243189c890a753"
  },
  {
   "cell_type": "code",
   "source": [
    "device = \"cuda:0\" if torch.cuda.is_available() else \"cpu\"\n",
    "device"
   ],
   "metadata": {
    "collapsed": false,
    "ExecuteTime": {
     "end_time": "2024-05-13T14:12:37.470125Z",
     "start_time": "2024-05-13T14:12:37.424234Z"
    }
   },
   "id": "da0434b42f73b25a",
   "outputs": [
    {
     "data": {
      "text/plain": [
       "'cuda:0'"
      ]
     },
     "execution_count": 2,
     "metadata": {},
     "output_type": "execute_result"
    }
   ],
   "execution_count": 2
  },
  {
   "cell_type": "markdown",
   "source": [
    "### Constants"
   ],
   "metadata": {
    "collapsed": false
   },
   "id": "87b62f1e105bcc84"
  },
  {
   "cell_type": "code",
   "source": [
    "BATCH_SIZE = 32\n",
    "INPUT_SIZE = 6\n",
    "NUM_EPOCHS = 100\n",
    "DATA_DIR = Path('../data/train_set/csv/')\n",
    "LOOKBACK = 8/3\n",
    "SAMPLING_FREQUENCY = 75.\n",
    "DATASET_FREQUENCY = 150.\n",
    "SUBSET = ('imu',)\n",
    "CONFIGURATIONS = ('4W', '6W')"
   ],
   "metadata": {
    "collapsed": false,
    "ExecuteTime": {
     "end_time": "2024-05-13T14:12:43.736951Z",
     "start_time": "2024-05-13T14:12:43.718996Z"
    }
   },
   "id": "66b5555a4fa10241",
   "outputs": [],
   "execution_count": 3
  },
  {
   "cell_type": "markdown",
   "source": "### Load and split data",
   "metadata": {
    "collapsed": false
   },
   "id": "5529717ff2812af0"
  },
  {
   "cell_type": "code",
   "source": [
    "with open('../data/train_set/labels.json') as fp:\n",
    "    labels = json.load(fp)"
   ],
   "metadata": {
    "collapsed": false,
    "ExecuteTime": {
     "end_time": "2024-05-13T14:12:45.684283Z",
     "start_time": "2024-05-13T14:12:45.671318Z"
    }
   },
   "id": "503fce34bed6d813",
   "outputs": [],
   "execution_count": 4
  },
  {
   "cell_type": "code",
   "source": "dataset = [(DATA_DIR.joinpath(key + '.csv'), values['surface']) for key, values in labels.items() if values['kinematics'] in CONFIGURATIONS and values['spacing'] == 'R1' and 'T1' in values['trajectory']]",
   "metadata": {
    "collapsed": false,
    "ExecuteTime": {
     "end_time": "2024-05-13T14:12:46.561447Z",
     "start_time": "2024-05-13T14:12:46.538Z"
    }
   },
   "id": "96bb38f00e195362",
   "outputs": [],
   "execution_count": 5
  },
  {
   "cell_type": "code",
   "source": [
    "X = pd.Series([run[0] for run in dataset], name='bag_name')\n",
    "y_primary = [run[1] for run in dataset]"
   ],
   "metadata": {
    "collapsed": false,
    "ExecuteTime": {
     "end_time": "2024-05-13T14:12:48.721036Z",
     "start_time": "2024-05-13T14:12:48.699095Z"
    }
   },
   "id": "ac562fc5c93cd196",
   "outputs": [],
   "execution_count": 6
  },
  {
   "cell_type": "code",
   "source": [
    "# y_secondary = ['slippery' if label in ('1_Panele', '5_Spienione_PCV', '6_Linoleum')\n",
    "#                else 'grippy' if label in ('3_Wykladzina_jasna', '8_Pusta_plyta', '9_podklady')\n",
    "#                else 'neutral' for label in y_primary]\n",
    "y_secondary = ['slippery' if label in ('3_Wykladzina_jasna', '4_Trawa')\n",
    "               else 'grippy' if label in ('5_Spienione_PCV', '8_Pusta_plyta', '9_podklady', '10_Mata_ukladana')\n",
    "               else 'neutral' for label in y_primary] # Pawel set\n",
    "# y_secondary = ['slippery' if label in ('3_Wykladzina_jasna', '4_Trawa')\n",
    "#                else 'grippy' if label in ('2_Wykladzina_czarna', '5_Spienione_PCV', '9_podklady', '10_Mata_ukladana')\n",
    "#                else 'neutral' for label in y_primary] # Clustering set"
   ],
   "metadata": {
    "collapsed": false,
    "ExecuteTime": {
     "end_time": "2024-05-13T14:12:51.663659Z",
     "start_time": "2024-05-13T14:12:51.652689Z"
    }
   },
   "id": "bce103ccb3fe0581",
   "outputs": [],
   "execution_count": 7
  },
  {
   "cell_type": "code",
   "source": [
    "lb = LabelBinarizer()\n",
    "lb.fit(y_primary)\n",
    "classes = lb.classes_\n",
    "num_classes = len(classes)\n",
    "y = lb.transform(y_primary)\n",
    "y = y.reshape(-1, num_classes)"
   ],
   "metadata": {
    "collapsed": false,
    "ExecuteTime": {
     "end_time": "2024-05-13T14:12:55.750978Z",
     "start_time": "2024-05-13T14:12:55.738013Z"
    }
   },
   "id": "28cd1c677f86f806",
   "outputs": [],
   "execution_count": 8
  },
  {
   "cell_type": "code",
   "source": [
    "X_train, X_val, y_train, y_val = train_test_split(X, y, test_size=0.2, stratify=y)\n",
    "X_train.reset_index(drop=True, inplace=True)\n",
    "X_val.reset_index(drop=True, inplace=True)"
   ],
   "metadata": {
    "collapsed": false,
    "ExecuteTime": {
     "end_time": "2024-05-13T14:12:56.875970Z",
     "start_time": "2024-05-13T14:12:56.852002Z"
    }
   },
   "id": "eed3b5f73250bcce",
   "outputs": [],
   "execution_count": 9
  },
  {
   "cell_type": "markdown",
   "source": [
    "### Custom datasets"
   ],
   "metadata": {
    "collapsed": false
   },
   "id": "c59200394bfc51d7"
  },
  {
   "cell_type": "code",
   "source": [
    "train_dataloader = DataLoader(SurfaceDataset(X_train, y_train, sample_freq=SAMPLING_FREQUENCY, data_freq=DATASET_FREQUENCY, lookback=LOOKBACK, subset=SUBSET), batch_size=BATCH_SIZE, shuffle=True)\n",
    "val_dataloader = DataLoader(SurfaceDataset(X_val, y_val, sample_freq=SAMPLING_FREQUENCY, data_freq=DATASET_FREQUENCY, lookback=LOOKBACK, subset=SUBSET), batch_size=BATCH_SIZE)"
   ],
   "metadata": {
    "collapsed": false,
    "ExecuteTime": {
     "end_time": "2024-05-13T14:12:57.593087Z",
     "start_time": "2024-05-13T14:12:57.576047Z"
    }
   },
   "id": "18f462da904175a6",
   "outputs": [],
   "execution_count": 10
  },
  {
   "cell_type": "markdown",
   "source": [
    "### Models"
   ],
   "metadata": {
    "collapsed": false
   },
   "id": "96daed4787b63f69"
  },
  {
   "cell_type": "code",
   "source": "cnn_model = CNNSurfaceClassifier(input_size=INPUT_SIZE, output_size=num_classes).to(device)",
   "metadata": {
    "collapsed": false,
    "ExecuteTime": {
     "end_time": "2024-05-13T14:12:58.513028Z",
     "start_time": "2024-05-13T14:12:58.361435Z"
    }
   },
   "id": "94fa64fc85b948aa",
   "outputs": [],
   "execution_count": 11
  },
  {
   "cell_type": "markdown",
   "source": [
    "### Optimizer"
   ],
   "metadata": {
    "collapsed": false
   },
   "id": "fa4d99f3eb297adf"
  },
  {
   "cell_type": "code",
   "source": [
    "optimizer = torch.optim.Adam(\n",
    "    cnn_model.parameters(),\n",
    "    lr=1e-3,\n",
    "    eps=1e-6,\n",
    "    weight_decay=1e-3,\n",
    "    )"
   ],
   "metadata": {
    "collapsed": false,
    "ExecuteTime": {
     "end_time": "2024-05-13T14:13:00.371726Z",
     "start_time": "2024-05-13T14:12:59.074049Z"
    }
   },
   "id": "a7fb9f74376bf1fc",
   "outputs": [],
   "execution_count": 12
  },
  {
   "cell_type": "markdown",
   "source": [
    "### Scheduler"
   ],
   "metadata": {
    "collapsed": false
   },
   "id": "8189ce4256cef7aa"
  },
  {
   "cell_type": "code",
   "source": [
    "scheduler = ExponentialLR(optimizer, gamma=0.9)"
   ],
   "metadata": {
    "collapsed": false,
    "ExecuteTime": {
     "end_time": "2024-05-13T14:13:00.387681Z",
     "start_time": "2024-05-13T14:13:00.373718Z"
    }
   },
   "id": "543d5776cbc9ab8e",
   "outputs": [],
   "execution_count": 13
  },
  {
   "cell_type": "markdown",
   "source": [
    "### Early stopping"
   ],
   "metadata": {
    "collapsed": false
   },
   "id": "3457623a134ea771"
  },
  {
   "cell_type": "code",
   "source": "early_stopper = EarlyStopper()",
   "metadata": {
    "collapsed": false,
    "ExecuteTime": {
     "end_time": "2024-05-13T14:13:01.425025Z",
     "start_time": "2024-05-13T14:13:01.413057Z"
    }
   },
   "id": "99bf1d622f9db277",
   "outputs": [],
   "execution_count": 14
  },
  {
   "metadata": {},
   "cell_type": "markdown",
   "source": "### Loss function",
   "id": "1eb74cc30ec4f075"
  },
  {
   "metadata": {
    "ExecuteTime": {
     "end_time": "2024-05-13T14:13:02.518190Z",
     "start_time": "2024-05-13T14:13:02.503229Z"
    }
   },
   "cell_type": "code",
   "source": "criterion = nn.CrossEntropyLoss()",
   "id": "1ec9144e4d480a2d",
   "outputs": [],
   "execution_count": 15
  },
  {
   "cell_type": "markdown",
   "source": [
    "### Training loop"
   ],
   "metadata": {
    "collapsed": false
   },
   "id": "e467a8774a8740fd"
  },
  {
   "cell_type": "code",
   "source": [
    "train_batches = len(train_dataloader)\n",
    "val_batches = len(val_dataloader)\n",
    "\n",
    "for epoch in range(NUM_EPOCHS):\n",
    "    running_train_loss = 0.0\n",
    "    running_val_loss = 0.0\n",
    "    \n",
    "    pbar = tqdm(train_dataloader, total=train_batches)\n",
    "    cnn_model.train()\n",
    "    for idx, (batch_x, batch_y) in enumerate(pbar):\n",
    "        optimizer.zero_grad()\n",
    "        \n",
    "        batch_x, batch_y = batch_x.to(device), batch_y.to(device)\n",
    "        batch_x = batch_x.permute(0, 2, 1)\n",
    "        train_outputs = cnn_model(batch_x)\n",
    "        train_loss = criterion(train_outputs, batch_y)\n",
    "        running_train_loss += train_loss\n",
    "\n",
    "        # Backward pass\n",
    "        train_loss.backward()\n",
    "        optimizer.step()\n",
    "\n",
    "        pbar.set_description(f\"Epoch {epoch + 1}/{NUM_EPOCHS}, Training loss: {running_train_loss / (idx + 1):.2E}\")\n",
    "    scheduler.step()\n",
    "\n",
    "    pbar_val = tqdm(val_dataloader, total=val_batches)\n",
    "    cnn_model.eval()\n",
    "    with torch.no_grad():\n",
    "        for idx, (batch_x_val, batch_y_val) in enumerate(pbar_val):\n",
    "            batch_x_val, batch_y_val = batch_x_val.to(device), batch_y_val.to(device)\n",
    "            batch_x_val = batch_x_val.permute(0, 2, 1)\n",
    "            val_outputs = cnn_model(batch_x_val)\n",
    "            val_loss = criterion(val_outputs, batch_y_val)\n",
    "            running_val_loss += val_loss\n",
    "            \n",
    "            pbar_val.set_description(f\"Epoch {epoch + 1}/{NUM_EPOCHS}, Validation loss: {running_val_loss / (idx + 1):.2E}\")\n",
    "            \n",
    "    validation_loss = running_val_loss / (idx + 1)\n",
    "    if early_stopper.early_stop(validation_loss):\n",
    "        print(f\"Split ended on epoch {epoch + 1 - early_stopper.patience}!\")\n",
    "        break\n",
    "    if early_stopper.counter == 0:\n",
    "        best_model = cnn_model.state_dict()\n",
    "\n",
    "config =  '_'.join(SUBSET + CONFIGURATIONS) + '_' + time.strftime(\"%Y-%m-%d-%H-%M-%S\")\n",
    "torch.save(best_model, f\"../data/checkpoints/cnn_classifier_{config}.pt\")"
   ],
   "metadata": {
    "collapsed": false,
    "ExecuteTime": {
     "end_time": "2024-05-13T14:23:44.168661Z",
     "start_time": "2024-05-13T14:13:03.270186Z"
    }
   },
   "id": "9acb973ef0d7300b",
   "outputs": [
    {
     "name": "stderr",
     "output_type": "stream",
     "text": [
      "Epoch 1/100, Training loss: 1.72E+00: 100%|██████████| 17/17 [00:10<00:00,  1.68it/s]\n",
      "Epoch 1/100, Validation loss: 2.07E+00: 100%|██████████| 5/5 [00:02<00:00,  1.85it/s]\n",
      "Epoch 2/100, Training loss: 1.30E+00: 100%|██████████| 17/17 [00:09<00:00,  1.77it/s]\n",
      "Epoch 2/100, Validation loss: 1.30E+00: 100%|██████████| 5/5 [00:02<00:00,  2.28it/s]\n",
      "Epoch 3/100, Training loss: 1.20E+00: 100%|██████████| 17/17 [00:10<00:00,  1.65it/s]\n",
      "Epoch 3/100, Validation loss: 9.72E-01: 100%|██████████| 5/5 [00:02<00:00,  2.32it/s]\n",
      "Epoch 4/100, Training loss: 1.12E+00: 100%|██████████| 17/17 [00:09<00:00,  1.75it/s]\n",
      "Epoch 4/100, Validation loss: 8.62E-01: 100%|██████████| 5/5 [00:02<00:00,  2.20it/s]\n",
      "Epoch 5/100, Training loss: 9.78E-01: 100%|██████████| 17/17 [00:09<00:00,  1.86it/s]\n",
      "Epoch 5/100, Validation loss: 9.20E-01: 100%|██████████| 5/5 [00:02<00:00,  2.30it/s]\n",
      "Epoch 6/100, Training loss: 9.77E-01: 100%|██████████| 17/17 [00:08<00:00,  1.90it/s]\n",
      "Epoch 6/100, Validation loss: 7.41E-01: 100%|██████████| 5/5 [00:02<00:00,  2.07it/s]\n",
      "Epoch 7/100, Training loss: 8.89E-01: 100%|██████████| 17/17 [00:09<00:00,  1.71it/s]\n",
      "Epoch 7/100, Validation loss: 8.52E-01: 100%|██████████| 5/5 [00:02<00:00,  2.07it/s]\n",
      "Epoch 8/100, Training loss: 8.33E-01: 100%|██████████| 17/17 [00:08<00:00,  1.90it/s]\n",
      "Epoch 8/100, Validation loss: 7.36E-01: 100%|██████████| 5/5 [00:02<00:00,  2.30it/s]\n",
      "Epoch 9/100, Training loss: 7.88E-01: 100%|██████████| 17/17 [00:09<00:00,  1.86it/s]\n",
      "Epoch 9/100, Validation loss: 6.79E-01: 100%|██████████| 5/5 [00:02<00:00,  2.28it/s]\n",
      "Epoch 10/100, Training loss: 7.06E-01: 100%|██████████| 17/17 [00:09<00:00,  1.86it/s]\n",
      "Epoch 10/100, Validation loss: 6.59E-01: 100%|██████████| 5/5 [00:02<00:00,  2.23it/s]\n",
      "Epoch 11/100, Training loss: 8.29E-01: 100%|██████████| 17/17 [00:09<00:00,  1.87it/s]\n",
      "Epoch 11/100, Validation loss: 6.57E-01: 100%|██████████| 5/5 [00:02<00:00,  2.14it/s]\n",
      "Epoch 12/100, Training loss: 8.08E-01: 100%|██████████| 17/17 [00:09<00:00,  1.85it/s]\n",
      "Epoch 12/100, Validation loss: 7.09E-01: 100%|██████████| 5/5 [00:02<00:00,  2.25it/s]\n",
      "Epoch 13/100, Training loss: 7.07E-01: 100%|██████████| 17/17 [00:09<00:00,  1.81it/s]\n",
      "Epoch 13/100, Validation loss: 7.03E-01: 100%|██████████| 5/5 [00:02<00:00,  2.26it/s]\n",
      "Epoch 14/100, Training loss: 7.02E-01: 100%|██████████| 17/17 [00:09<00:00,  1.86it/s]\n",
      "Epoch 14/100, Validation loss: 5.29E-01: 100%|██████████| 5/5 [00:02<00:00,  2.21it/s]\n",
      "Epoch 15/100, Training loss: 6.42E-01: 100%|██████████| 17/17 [00:09<00:00,  1.85it/s]\n",
      "Epoch 15/100, Validation loss: 5.50E-01: 100%|██████████| 5/5 [00:02<00:00,  2.26it/s]\n",
      "Epoch 16/100, Training loss: 6.68E-01: 100%|██████████| 17/17 [00:09<00:00,  1.75it/s]\n",
      "Epoch 16/100, Validation loss: 3.98E-01: 100%|██████████| 5/5 [00:02<00:00,  2.20it/s]\n",
      "Epoch 17/100, Training loss: 6.59E-01: 100%|██████████| 17/17 [00:09<00:00,  1.82it/s]\n",
      "Epoch 17/100, Validation loss: 4.14E-01: 100%|██████████| 5/5 [00:02<00:00,  2.23it/s]\n",
      "Epoch 18/100, Training loss: 5.60E-01: 100%|██████████| 17/17 [00:09<00:00,  1.77it/s]\n",
      "Epoch 18/100, Validation loss: 4.61E-01: 100%|██████████| 5/5 [00:02<00:00,  2.23it/s]\n",
      "Epoch 19/100, Training loss: 5.74E-01: 100%|██████████| 17/17 [00:09<00:00,  1.83it/s]\n",
      "Epoch 19/100, Validation loss: 4.48E-01: 100%|██████████| 5/5 [00:02<00:00,  2.10it/s]\n",
      "Epoch 20/100, Training loss: 5.39E-01: 100%|██████████| 17/17 [00:09<00:00,  1.80it/s]\n",
      "Epoch 20/100, Validation loss: 4.82E-01: 100%|██████████| 5/5 [00:02<00:00,  2.24it/s]\n",
      "Epoch 21/100, Training loss: 5.40E-01: 100%|██████████| 17/17 [00:09<00:00,  1.85it/s]\n",
      "Epoch 21/100, Validation loss: 4.09E-01: 100%|██████████| 5/5 [00:02<00:00,  2.26it/s]\n",
      "Epoch 22/100, Training loss: 5.35E-01: 100%|██████████| 17/17 [00:09<00:00,  1.84it/s]\n",
      "Epoch 22/100, Validation loss: 4.20E-01: 100%|██████████| 5/5 [00:02<00:00,  2.27it/s]\n",
      "Epoch 23/100, Training loss: 5.56E-01: 100%|██████████| 17/17 [00:09<00:00,  1.82it/s]\n",
      "Epoch 23/100, Validation loss: 3.96E-01: 100%|██████████| 5/5 [00:02<00:00,  2.24it/s]\n",
      "Epoch 24/100, Training loss: 5.65E-01: 100%|██████████| 17/17 [00:09<00:00,  1.84it/s]\n",
      "Epoch 24/100, Validation loss: 4.96E-01: 100%|██████████| 5/5 [00:02<00:00,  2.23it/s]\n",
      "Epoch 25/100, Training loss: 5.45E-01: 100%|██████████| 17/17 [00:09<00:00,  1.83it/s]\n",
      "Epoch 25/100, Validation loss: 5.04E-01: 100%|██████████| 5/5 [00:02<00:00,  2.20it/s]\n",
      "Epoch 26/100, Training loss: 5.32E-01: 100%|██████████| 17/17 [00:09<00:00,  1.82it/s]\n",
      "Epoch 26/100, Validation loss: 3.60E-01: 100%|██████████| 5/5 [00:02<00:00,  1.82it/s]\n",
      "Epoch 27/100, Training loss: 4.97E-01: 100%|██████████| 17/17 [00:09<00:00,  1.79it/s]\n",
      "Epoch 27/100, Validation loss: 2.88E-01: 100%|██████████| 5/5 [00:02<00:00,  2.08it/s]\n",
      "Epoch 28/100, Training loss: 5.26E-01: 100%|██████████| 17/17 [00:09<00:00,  1.79it/s]\n",
      "Epoch 28/100, Validation loss: 3.52E-01: 100%|██████████| 5/5 [00:02<00:00,  2.22it/s]\n",
      "Epoch 29/100, Training loss: 5.17E-01: 100%|██████████| 17/17 [00:09<00:00,  1.81it/s]\n",
      "Epoch 29/100, Validation loss: 3.44E-01: 100%|██████████| 5/5 [00:02<00:00,  2.23it/s]\n",
      "Epoch 30/100, Training loss: 5.89E-01: 100%|██████████| 17/17 [00:09<00:00,  1.86it/s]\n",
      "Epoch 30/100, Validation loss: 3.16E-01: 100%|██████████| 5/5 [00:02<00:00,  2.24it/s]\n",
      "Epoch 31/100, Training loss: 5.37E-01: 100%|██████████| 17/17 [00:09<00:00,  1.85it/s]\n",
      "Epoch 31/100, Validation loss: 3.56E-01: 100%|██████████| 5/5 [00:02<00:00,  2.24it/s]\n",
      "Epoch 32/100, Training loss: 4.98E-01: 100%|██████████| 17/17 [00:09<00:00,  1.86it/s]\n",
      "Epoch 32/100, Validation loss: 3.90E-01: 100%|██████████| 5/5 [00:02<00:00,  2.22it/s]\n",
      "Epoch 33/100, Training loss: 5.73E-01: 100%|██████████| 17/17 [00:09<00:00,  1.82it/s]\n",
      "Epoch 33/100, Validation loss: 3.92E-01: 100%|██████████| 5/5 [00:02<00:00,  2.23it/s]\n",
      "Epoch 34/100, Training loss: 5.22E-01: 100%|██████████| 17/17 [00:09<00:00,  1.82it/s]\n",
      "Epoch 34/100, Validation loss: 3.62E-01: 100%|██████████| 5/5 [00:02<00:00,  2.22it/s]\n",
      "Epoch 35/100, Training loss: 4.98E-01: 100%|██████████| 17/17 [00:09<00:00,  1.82it/s]\n",
      "Epoch 35/100, Validation loss: 4.06E-01: 100%|██████████| 5/5 [00:02<00:00,  2.24it/s]\n",
      "Epoch 36/100, Training loss: 5.08E-01: 100%|██████████| 17/17 [00:09<00:00,  1.85it/s]\n",
      "Epoch 36/100, Validation loss: 2.79E-01: 100%|██████████| 5/5 [00:02<00:00,  2.24it/s]\n",
      "Epoch 37/100, Training loss: 4.52E-01: 100%|██████████| 17/17 [00:09<00:00,  1.84it/s]\n",
      "Epoch 37/100, Validation loss: 3.06E-01: 100%|██████████| 5/5 [00:02<00:00,  2.26it/s]\n",
      "Epoch 38/100, Training loss: 4.93E-01: 100%|██████████| 17/17 [00:09<00:00,  1.86it/s]\n",
      "Epoch 38/100, Validation loss: 3.21E-01: 100%|██████████| 5/5 [00:02<00:00,  2.23it/s]\n",
      "Epoch 39/100, Training loss: 4.63E-01: 100%|██████████| 17/17 [00:09<00:00,  1.84it/s]\n",
      "Epoch 39/100, Validation loss: 3.84E-01: 100%|██████████| 5/5 [00:02<00:00,  2.21it/s]\n",
      "Epoch 40/100, Training loss: 5.14E-01: 100%|██████████| 17/17 [00:09<00:00,  1.83it/s]\n",
      "Epoch 40/100, Validation loss: 3.14E-01: 100%|██████████| 5/5 [00:02<00:00,  2.14it/s]\n",
      "Epoch 41/100, Training loss: 4.86E-01: 100%|██████████| 17/17 [00:09<00:00,  1.85it/s]\n",
      "Epoch 41/100, Validation loss: 4.35E-01: 100%|██████████| 5/5 [00:02<00:00,  2.24it/s]\n",
      "Epoch 42/100, Training loss: 4.76E-01: 100%|██████████| 17/17 [00:09<00:00,  1.82it/s]\n",
      "Epoch 42/100, Validation loss: 3.38E-01: 100%|██████████| 5/5 [00:02<00:00,  2.24it/s]\n",
      "Epoch 43/100, Training loss: 4.35E-01: 100%|██████████| 17/17 [00:09<00:00,  1.86it/s]\n",
      "Epoch 43/100, Validation loss: 3.16E-01: 100%|██████████| 5/5 [00:02<00:00,  2.26it/s]\n",
      "Epoch 44/100, Training loss: 4.47E-01: 100%|██████████| 17/17 [00:09<00:00,  1.85it/s]\n",
      "Epoch 44/100, Validation loss: 3.12E-01: 100%|██████████| 5/5 [00:02<00:00,  2.20it/s]\n",
      "Epoch 45/100, Training loss: 4.63E-01: 100%|██████████| 17/17 [00:09<00:00,  1.83it/s]\n",
      "Epoch 45/100, Validation loss: 2.42E-01: 100%|██████████| 5/5 [00:02<00:00,  2.07it/s]\n",
      "Epoch 46/100, Training loss: 4.54E-01: 100%|██████████| 17/17 [00:09<00:00,  1.84it/s]\n",
      "Epoch 46/100, Validation loss: 3.80E-01: 100%|██████████| 5/5 [00:02<00:00,  2.25it/s]\n",
      "Epoch 47/100, Training loss: 4.65E-01: 100%|██████████| 17/17 [00:09<00:00,  1.84it/s]\n",
      "Epoch 47/100, Validation loss: 3.59E-01: 100%|██████████| 5/5 [00:02<00:00,  2.02it/s]\n",
      "Epoch 48/100, Training loss: 4.73E-01: 100%|██████████| 17/17 [00:09<00:00,  1.79it/s]\n",
      "Epoch 48/100, Validation loss: 2.80E-01: 100%|██████████| 5/5 [00:02<00:00,  2.26it/s]\n",
      "Epoch 49/100, Training loss: 4.78E-01: 100%|██████████| 17/17 [00:09<00:00,  1.85it/s]\n",
      "Epoch 49/100, Validation loss: 3.19E-01: 100%|██████████| 5/5 [00:02<00:00,  2.27it/s]\n",
      "Epoch 50/100, Training loss: 5.44E-01: 100%|██████████| 17/17 [00:09<00:00,  1.84it/s]\n",
      "Epoch 50/100, Validation loss: 3.26E-01: 100%|██████████| 5/5 [00:02<00:00,  2.25it/s]\n",
      "Epoch 51/100, Training loss: 5.44E-01: 100%|██████████| 17/17 [00:09<00:00,  1.84it/s]\n",
      "Epoch 51/100, Validation loss: 3.03E-01: 100%|██████████| 5/5 [00:02<00:00,  2.23it/s]\n",
      "Epoch 52/100, Training loss: 4.78E-01: 100%|██████████| 17/17 [00:09<00:00,  1.84it/s]\n",
      "Epoch 52/100, Validation loss: 2.76E-01: 100%|██████████| 5/5 [00:02<00:00,  2.21it/s]\n",
      "Epoch 53/100, Training loss: 4.57E-01: 100%|██████████| 17/17 [00:10<00:00,  1.70it/s]\n",
      "Epoch 53/100, Validation loss: 3.67E-01: 100%|██████████| 5/5 [00:02<00:00,  2.12it/s]\n",
      "Epoch 54/100, Training loss: 4.71E-01: 100%|██████████| 17/17 [00:10<00:00,  1.61it/s]\n",
      "Epoch 54/100, Validation loss: 3.80E-01: 100%|██████████| 5/5 [00:02<00:00,  2.27it/s]\n",
      "Epoch 55/100, Training loss: 4.59E-01: 100%|██████████| 17/17 [00:09<00:00,  1.82it/s]\n",
      "Epoch 55/100, Validation loss: 3.03E-01: 100%|██████████| 5/5 [00:02<00:00,  2.10it/s]"
     ]
    },
    {
     "name": "stdout",
     "output_type": "stream",
     "text": [
      "Split ended on epoch 45!\n"
     ]
    },
    {
     "name": "stderr",
     "output_type": "stream",
     "text": [
      "\n"
     ]
    }
   ],
   "execution_count": 16
  },
  {
   "metadata": {},
   "cell_type": "code",
   "outputs": [],
   "execution_count": null,
   "source": "",
   "id": "a223192567a5a5e7"
  }
 ],
 "metadata": {
  "kernelspec": {
   "display_name": "Python 3",
   "language": "python",
   "name": "python3"
  },
  "language_info": {
   "codemirror_mode": {
    "name": "ipython",
    "version": 2
   },
   "file_extension": ".py",
   "mimetype": "text/x-python",
   "name": "python",
   "nbconvert_exporter": "python",
   "pygments_lexer": "ipython2",
   "version": "2.7.6"
  }
 },
 "nbformat": 4,
 "nbformat_minor": 5
}
