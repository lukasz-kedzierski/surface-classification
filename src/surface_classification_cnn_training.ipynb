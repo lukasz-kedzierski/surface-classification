{
 "cells": [
  {
   "cell_type": "markdown",
   "source": "### Imports",
   "metadata": {
    "collapsed": false
   },
   "id": "9afebad71082b978"
  },
  {
   "cell_type": "code",
   "source": [
    "import json\n",
    "import matplotlib.pyplot as plt\n",
    "import numpy as np\n",
    "import pandas as pd\n",
    "import random\n",
    "import time\n",
    "\n",
    "from pathlib import Path\n",
    "from sklearn.metrics import ConfusionMatrixDisplay\n",
    "from sklearn.model_selection import train_test_split\n",
    "from sklearn.preprocessing import LabelBinarizer\n",
    "from tqdm import tqdm\n",
    "\n",
    "import torch\n",
    "import torch.nn as nn\n",
    "from torch.optim.lr_scheduler import ExponentialLR\n",
    "from torch.utils.data import DataLoader\n",
    "\n",
    "from datasets import SurfaceDataset\n",
    "from helpers import EarlyStopper\n",
    "from models import CNNSurfaceClassifier"
   ],
   "metadata": {
    "collapsed": false,
    "ExecuteTime": {
     "end_time": "2024-06-10T19:43:31.798813Z",
     "start_time": "2024-06-10T19:43:24.582655Z"
    }
   },
   "id": "7bbbfa68a2c2ad9a",
   "outputs": [],
   "execution_count": 1
  },
  {
   "cell_type": "markdown",
   "source": [
    "### Device"
   ],
   "metadata": {
    "collapsed": false
   },
   "id": "be243189c890a753"
  },
  {
   "cell_type": "code",
   "source": [
    "device = \"cuda:0\" if torch.cuda.is_available() else \"cpu\"\n",
    "device"
   ],
   "metadata": {
    "collapsed": false,
    "ExecuteTime": {
     "end_time": "2024-06-10T19:43:31.876154Z",
     "start_time": "2024-06-10T19:43:31.799812Z"
    }
   },
   "id": "da0434b42f73b25a",
   "outputs": [
    {
     "data": {
      "text/plain": [
       "'cuda:0'"
      ]
     },
     "execution_count": 2,
     "metadata": {},
     "output_type": "execute_result"
    }
   ],
   "execution_count": 2
  },
  {
   "metadata": {},
   "cell_type": "markdown",
   "source": "### Seed",
   "id": "11b9e0bbd3b9cd28"
  },
  {
   "metadata": {
    "ExecuteTime": {
     "end_time": "2024-06-10T19:43:31.921974Z",
     "start_time": "2024-06-10T19:43:31.877067Z"
    }
   },
   "cell_type": "code",
   "source": [
    "random.seed(0)\n",
    "np.random.seed(0)\n",
    "torch.manual_seed(0)\n",
    "torch.backends.cudnn.benchmark = False\n",
    "torch.backends.cudnn.deterministic = True\n",
    "\n",
    "def seed_worker(worker_id):\n",
    "    worker_seed = torch.initial_seed() % 2**32\n",
    "    np.random.seed(worker_seed)\n",
    "    random.seed(worker_seed)\n",
    "\n",
    "g = torch.Generator()\n",
    "g.manual_seed(0)"
   ],
   "id": "93b8de1d99fec506",
   "outputs": [
    {
     "data": {
      "text/plain": [
       "<torch._C.Generator at 0x197e3e96990>"
      ]
     },
     "execution_count": 3,
     "metadata": {},
     "output_type": "execute_result"
    }
   ],
   "execution_count": 3
  },
  {
   "cell_type": "markdown",
   "source": [
    "### Constants"
   ],
   "metadata": {
    "collapsed": false
   },
   "id": "87b62f1e105bcc84"
  },
  {
   "cell_type": "code",
   "source": [
    "BATCH_SIZE = 32\n",
    "INPUT_SIZE = 6\n",
    "NUM_EPOCHS = 100\n",
    "DATA_DIR = Path('../data/train_set/csv/')\n",
    "LOOKBACK = 8/3\n",
    "SAMPLING_FREQUENCY = 75.\n",
    "DATASET_FREQUENCY = 150.\n",
    "SUBSET = ('imu',)\n",
    "CONFIGURATIONS = ('4W',)"
   ],
   "metadata": {
    "collapsed": false,
    "ExecuteTime": {
     "end_time": "2024-06-10T19:43:34.443243Z",
     "start_time": "2024-06-10T19:43:34.422029Z"
    }
   },
   "id": "66b5555a4fa10241",
   "outputs": [],
   "execution_count": 4
  },
  {
   "cell_type": "markdown",
   "source": "### Load and split data",
   "metadata": {
    "collapsed": false
   },
   "id": "5529717ff2812af0"
  },
  {
   "cell_type": "code",
   "source": [
    "with open('../data/train_set/labels.json') as fp:\n",
    "    labels = json.load(fp)"
   ],
   "metadata": {
    "collapsed": false,
    "ExecuteTime": {
     "end_time": "2024-06-10T19:43:35.437158Z",
     "start_time": "2024-06-10T19:43:35.408227Z"
    }
   },
   "id": "503fce34bed6d813",
   "outputs": [],
   "execution_count": 5
  },
  {
   "cell_type": "code",
   "source": "dataset = [(DATA_DIR.joinpath(key + '.csv'), values['surface']) for key, values in labels.items() if values['kinematics'] in CONFIGURATIONS and values['spacing'] == 'R1' and 'T1' in values['trajectory']]",
   "metadata": {
    "collapsed": false,
    "ExecuteTime": {
     "end_time": "2024-06-10T19:43:37.627372Z",
     "start_time": "2024-06-10T19:43:37.612410Z"
    }
   },
   "id": "96bb38f00e195362",
   "outputs": [],
   "execution_count": 6
  },
  {
   "cell_type": "code",
   "source": [
    "X = pd.Series([run[0] for run in dataset], name='bag_name')\n",
    "y_primary = [run[1] for run in dataset]"
   ],
   "metadata": {
    "collapsed": false,
    "ExecuteTime": {
     "end_time": "2024-06-10T19:43:39.220053Z",
     "start_time": "2024-06-10T19:43:39.209082Z"
    }
   },
   "id": "ac562fc5c93cd196",
   "outputs": [],
   "execution_count": 7
  },
  {
   "cell_type": "code",
   "source": [
    "# y_secondary = []\n",
    "# y_secondary = ['slippery' if label in ('1_Panele', '5_Spienione_PCV', '6_Linoleum')\n",
    "#                else 'grippy' if label in ('3_Wykladzina_jasna', '8_Pusta_plyta', '9_podklady')\n",
    "#                else 'neutral' for label in y_primary]\n",
    "y_secondary = ['slippery' if label in ('3_Wykladzina_jasna', '4_Trawa')\n",
    "               else 'grippy' if label in ('5_Spienione_PCV', '8_Pusta_plyta', '9_podklady', '10_Mata_ukladana')\n",
    "               else 'neutral' for label in y_primary] # Pawel set\n",
    "# y_secondary = ['slippery' if label in ('3_Wykladzina_jasna', '4_Trawa')\n",
    "#                else 'grippy' if label in ('2_Wykladzina_czarna', '5_Spienione_PCV', '9_podklady', '10_Mata_ukladana')\n",
    "#                else 'neutral' for label in y_primary] # Clustering set"
   ],
   "metadata": {
    "collapsed": false,
    "ExecuteTime": {
     "end_time": "2024-06-10T19:43:48.050098Z",
     "start_time": "2024-06-10T19:43:48.030153Z"
    }
   },
   "id": "bce103ccb3fe0581",
   "outputs": [],
   "execution_count": 8
  },
  {
   "cell_type": "code",
   "source": [
    "lb = LabelBinarizer()\n",
    "if y_secondary:\n",
    "    lb.fit(y_secondary)\n",
    "    y = lb.transform(y_secondary)\n",
    "else:\n",
    "    lb.fit(y_primary)\n",
    "    y = lb.transform(y_primary)\n",
    "classes = lb.classes_\n",
    "num_classes = len(classes)\n",
    "y = y.reshape(-1, num_classes)"
   ],
   "metadata": {
    "collapsed": false,
    "ExecuteTime": {
     "end_time": "2024-06-10T19:43:48.786032Z",
     "start_time": "2024-06-10T19:43:48.763092Z"
    }
   },
   "id": "28cd1c677f86f806",
   "outputs": [],
   "execution_count": 9
  },
  {
   "cell_type": "code",
   "source": [
    "X_training, X_test, y_training, y_test = train_test_split(X, y, test_size=0.2, stratify=y)\n",
    "X_train, X_val, y_train, y_val = train_test_split(X_training, y_training, test_size=0.2, stratify=y_training)\n",
    "X_train.reset_index(drop=True, inplace=True)\n",
    "X_val.reset_index(drop=True, inplace=True)\n",
    "X_test.reset_index(drop=True, inplace=True)"
   ],
   "metadata": {
    "collapsed": false,
    "ExecuteTime": {
     "end_time": "2024-06-10T19:43:55.419511Z",
     "start_time": "2024-06-10T19:43:55.405042Z"
    }
   },
   "id": "eed3b5f73250bcce",
   "outputs": [],
   "execution_count": 10
  },
  {
   "cell_type": "markdown",
   "source": [
    "### Custom datasets"
   ],
   "metadata": {
    "collapsed": false
   },
   "id": "c59200394bfc51d7"
  },
  {
   "cell_type": "code",
   "source": [
    "train_dataloader = DataLoader(SurfaceDataset(X_train, y_train, sample_freq=SAMPLING_FREQUENCY, data_freq=DATASET_FREQUENCY, lookback=LOOKBACK, subset=SUBSET), batch_size=BATCH_SIZE, shuffle=True)\n",
    "val_dataloader = DataLoader(SurfaceDataset(X_val, y_val, sample_freq=SAMPLING_FREQUENCY, data_freq=DATASET_FREQUENCY, lookback=LOOKBACK, subset=SUBSET), batch_size=BATCH_SIZE)\n",
    "test_dataloader = DataLoader(SurfaceDataset(X_test, y_test, sample_freq=SAMPLING_FREQUENCY, data_freq=DATASET_FREQUENCY, lookback=LOOKBACK, subset=SUBSET), batch_size=BATCH_SIZE)"
   ],
   "metadata": {
    "collapsed": false,
    "ExecuteTime": {
     "end_time": "2024-06-10T19:43:56.313158Z",
     "start_time": "2024-06-10T19:43:56.304876Z"
    }
   },
   "id": "18f462da904175a6",
   "outputs": [],
   "execution_count": 11
  },
  {
   "cell_type": "markdown",
   "source": "### Model",
   "metadata": {
    "collapsed": false
   },
   "id": "96daed4787b63f69"
  },
  {
   "cell_type": "code",
   "source": "cnn_model = CNNSurfaceClassifier(input_size=INPUT_SIZE, output_size=num_classes).to(device)",
   "metadata": {
    "collapsed": false,
    "ExecuteTime": {
     "end_time": "2024-06-10T19:43:57.623891Z",
     "start_time": "2024-06-10T19:43:57.465447Z"
    }
   },
   "id": "94fa64fc85b948aa",
   "outputs": [],
   "execution_count": 12
  },
  {
   "cell_type": "markdown",
   "source": [
    "### Optimizer"
   ],
   "metadata": {
    "collapsed": false
   },
   "id": "fa4d99f3eb297adf"
  },
  {
   "cell_type": "code",
   "source": [
    "optimizer = torch.optim.Adam(\n",
    "    cnn_model.parameters(),\n",
    "    lr=1e-3,\n",
    "    eps=1e-6,\n",
    "    weight_decay=1e-3,\n",
    "    )"
   ],
   "metadata": {
    "collapsed": false,
    "ExecuteTime": {
     "end_time": "2024-06-10T19:44:01.685446Z",
     "start_time": "2024-06-10T19:43:59.141769Z"
    }
   },
   "id": "a7fb9f74376bf1fc",
   "outputs": [],
   "execution_count": 13
  },
  {
   "cell_type": "markdown",
   "source": [
    "### Scheduler"
   ],
   "metadata": {
    "collapsed": false
   },
   "id": "8189ce4256cef7aa"
  },
  {
   "cell_type": "code",
   "source": [
    "scheduler = ExponentialLR(optimizer, gamma=0.9)"
   ],
   "metadata": {
    "collapsed": false,
    "ExecuteTime": {
     "end_time": "2024-06-10T19:44:01.700407Z",
     "start_time": "2024-06-10T19:44:01.687442Z"
    }
   },
   "id": "543d5776cbc9ab8e",
   "outputs": [],
   "execution_count": 14
  },
  {
   "cell_type": "markdown",
   "source": [
    "### Early stopping"
   ],
   "metadata": {
    "collapsed": false
   },
   "id": "3457623a134ea771"
  },
  {
   "cell_type": "code",
   "source": "early_stopper = EarlyStopper()",
   "metadata": {
    "collapsed": false,
    "ExecuteTime": {
     "end_time": "2024-06-10T19:44:02.606072Z",
     "start_time": "2024-06-10T19:44:02.593106Z"
    }
   },
   "id": "99bf1d622f9db277",
   "outputs": [],
   "execution_count": 15
  },
  {
   "metadata": {},
   "cell_type": "markdown",
   "source": "### Loss function",
   "id": "1eb74cc30ec4f075"
  },
  {
   "metadata": {
    "ExecuteTime": {
     "end_time": "2024-06-10T19:44:03.634516Z",
     "start_time": "2024-06-10T19:44:03.615566Z"
    }
   },
   "cell_type": "code",
   "source": "criterion = nn.CrossEntropyLoss()",
   "id": "1ec9144e4d480a2d",
   "outputs": [],
   "execution_count": 16
  },
  {
   "cell_type": "markdown",
   "source": [
    "### Training loop"
   ],
   "metadata": {
    "collapsed": false
   },
   "id": "e467a8774a8740fd"
  },
  {
   "cell_type": "code",
   "source": [
    "train_batches = len(train_dataloader)\n",
    "val_batches = len(val_dataloader)\n",
    "\n",
    "for epoch in range(NUM_EPOCHS):\n",
    "    running_train_loss = 0.0\n",
    "    running_val_loss = 0.0\n",
    "    \n",
    "    pbar = tqdm(train_dataloader, total=train_batches)\n",
    "    cnn_model.train()\n",
    "    for idx, (batch_x, batch_y) in enumerate(pbar):\n",
    "        optimizer.zero_grad()\n",
    "        \n",
    "        batch_x, batch_y = batch_x.to(device), batch_y.to(device)\n",
    "        batch_x = batch_x.permute(0, 2, 1)\n",
    "        train_outputs = cnn_model(batch_x)\n",
    "        train_loss = criterion(train_outputs, batch_y)\n",
    "        running_train_loss += train_loss\n",
    "\n",
    "        # Backward pass\n",
    "        train_loss.backward()\n",
    "        optimizer.step()\n",
    "\n",
    "        pbar.set_description(f\"Epoch {epoch + 1}/{NUM_EPOCHS}, Training loss: {running_train_loss / (idx + 1):.2E}\")\n",
    "    scheduler.step()\n",
    "\n",
    "    pbar_val = tqdm(val_dataloader, total=val_batches)\n",
    "    cnn_model.eval()\n",
    "    with torch.no_grad():\n",
    "        for idx, (batch_x_val, batch_y_val) in enumerate(pbar_val):\n",
    "            batch_x_val, batch_y_val = batch_x_val.to(device), batch_y_val.to(device)\n",
    "            batch_x_val = batch_x_val.permute(0, 2, 1)\n",
    "            val_outputs = cnn_model(batch_x_val)\n",
    "            val_loss = criterion(val_outputs, batch_y_val)\n",
    "            running_val_loss += val_loss\n",
    "            \n",
    "            pbar_val.set_description(f\"Epoch {epoch + 1}/{NUM_EPOCHS}, Validation loss: {running_val_loss / (idx + 1):.2E}\")\n",
    "            \n",
    "    validation_loss = running_val_loss / (idx + 1)\n",
    "    if early_stopper.early_stop(validation_loss):\n",
    "        print(f\"Split ended on epoch {epoch + 1 - early_stopper.patience}!\")\n",
    "        break\n",
    "    if early_stopper.counter == 0:\n",
    "        best_model = cnn_model.state_dict()\n",
    "\n",
    "model_name =  'cnn_classifier_' + '_'.join((str(num_classes),) + CONFIGURATIONS + SUBSET) + '_' + time.strftime(\"%Y-%m-%d-%H-%M-%S\")\n",
    "torch.save(best_model, f\"../results/checkpoints/{model_name}.pt\")"
   ],
   "metadata": {
    "collapsed": false,
    "ExecuteTime": {
     "end_time": "2024-06-10T19:46:16.393164Z",
     "start_time": "2024-06-10T19:44:06.043362Z"
    }
   },
   "id": "9acb973ef0d7300b",
   "outputs": [
    {
     "name": "stderr",
     "output_type": "stream",
     "text": [
      "  0%|          | 0/7 [00:00<?, ?it/s]D:\\GitHubProjects\\SurfaceClassification\\surface-classification\\venv\\lib\\site-packages\\torch\\nn\\modules\\conv.py:306: UserWarning: Plan failed with a cudnnException: CUDNN_BACKEND_EXECUTION_PLAN_DESCRIPTOR: cudnnFinalize Descriptor Failed cudnn_status: CUDNN_STATUS_NOT_SUPPORTED (Triggered internally at ..\\aten\\src\\ATen\\native\\cudnn\\Conv_v8.cpp:919.)\n",
      "  return F.conv1d(input, weight, bias, self.stride,\n",
      "D:\\GitHubProjects\\SurfaceClassification\\surface-classification\\venv\\lib\\site-packages\\torch\\autograd\\graph.py:744: UserWarning: Plan failed with a cudnnException: CUDNN_BACKEND_EXECUTION_PLAN_DESCRIPTOR: cudnnFinalize Descriptor Failed cudnn_status: CUDNN_STATUS_NOT_SUPPORTED (Triggered internally at ..\\aten\\src\\ATen\\native\\cudnn\\Conv_v8.cpp:919.)\n",
      "  return Variable._execution_engine.run_backward(  # Calls into the C++ engine to run the backward pass\n",
      "Epoch 1/100, Training loss: 8.48E-01:  86%|████████▌ | 6/7 [00:05<00:00,  1.30it/s]D:\\GitHubProjects\\SurfaceClassification\\surface-classification\\venv\\lib\\site-packages\\torch\\nn\\modules\\conv.py:306: UserWarning: Plan failed with a cudnnException: CUDNN_BACKEND_EXECUTION_PLAN_DESCRIPTOR: cudnnFinalize Descriptor Failed cudnn_status: CUDNN_STATUS_NOT_SUPPORTED (Triggered internally at ..\\aten\\src\\ATen\\native\\cudnn\\Conv_v8.cpp:919.)\n",
      "  return F.conv1d(input, weight, bias, self.stride,\n",
      "D:\\GitHubProjects\\SurfaceClassification\\surface-classification\\venv\\lib\\site-packages\\torch\\autograd\\graph.py:744: UserWarning: Plan failed with a cudnnException: CUDNN_BACKEND_EXECUTION_PLAN_DESCRIPTOR: cudnnFinalize Descriptor Failed cudnn_status: CUDNN_STATUS_NOT_SUPPORTED (Triggered internally at ..\\aten\\src\\ATen\\native\\cudnn\\Conv_v8.cpp:919.)\n",
      "  return Variable._execution_engine.run_backward(  # Calls into the C++ engine to run the backward pass\n",
      "Epoch 1/100, Training loss: 8.09E-01: 100%|██████████| 7/7 [00:06<00:00,  1.09it/s]\n",
      "Epoch 1/100, Validation loss: 1.09E+00:  50%|█████     | 1/2 [00:00<00:00,  1.45it/s]D:\\GitHubProjects\\SurfaceClassification\\surface-classification\\venv\\lib\\site-packages\\torch\\nn\\modules\\conv.py:306: UserWarning: Plan failed with a cudnnException: CUDNN_BACKEND_EXECUTION_PLAN_DESCRIPTOR: cudnnFinalize Descriptor Failed cudnn_status: CUDNN_STATUS_NOT_SUPPORTED (Triggered internally at ..\\aten\\src\\ATen\\native\\cudnn\\Conv_v8.cpp:919.)\n",
      "  return F.conv1d(input, weight, bias, self.stride,\n",
      "Epoch 1/100, Validation loss: 1.06E+00: 100%|██████████| 2/2 [00:01<00:00,  1.63it/s]\n",
      "Epoch 2/100, Training loss: 5.73E-01: 100%|██████████| 7/7 [00:03<00:00,  2.12it/s]\n",
      "Epoch 2/100, Validation loss: 8.61E-01: 100%|██████████| 2/2 [00:00<00:00,  2.15it/s]\n",
      "Epoch 3/100, Training loss: 4.39E-01: 100%|██████████| 7/7 [00:03<00:00,  2.24it/s]\n",
      "Epoch 3/100, Validation loss: 7.30E-01: 100%|██████████| 2/2 [00:00<00:00,  2.69it/s]\n",
      "Epoch 4/100, Training loss: 4.25E-01: 100%|██████████| 7/7 [00:04<00:00,  1.71it/s]\n",
      "Epoch 4/100, Validation loss: 6.37E-01: 100%|██████████| 2/2 [00:01<00:00,  1.30it/s]\n",
      "Epoch 5/100, Training loss: 4.12E-01: 100%|██████████| 7/7 [00:08<00:00,  1.21s/it]\n",
      "Epoch 5/100, Validation loss: 4.97E-01: 100%|██████████| 2/2 [00:01<00:00,  1.97it/s]\n",
      "Epoch 6/100, Training loss: 5.06E-01: 100%|██████████| 7/7 [00:03<00:00,  1.85it/s]\n",
      "Epoch 6/100, Validation loss: 3.97E-01: 100%|██████████| 2/2 [00:01<00:00,  1.91it/s]\n",
      "Epoch 7/100, Training loss: 4.82E-01: 100%|██████████| 7/7 [00:03<00:00,  1.80it/s]\n",
      "Epoch 7/100, Validation loss: 3.83E-01: 100%|██████████| 2/2 [00:00<00:00,  2.04it/s]\n",
      "Epoch 8/100, Training loss: 4.45E-01: 100%|██████████| 7/7 [00:03<00:00,  2.04it/s]\n",
      "Epoch 8/100, Validation loss: 3.37E-01: 100%|██████████| 2/2 [00:00<00:00,  2.52it/s]\n",
      "Epoch 9/100, Training loss: 3.46E-01: 100%|██████████| 7/7 [00:03<00:00,  1.87it/s]\n",
      "Epoch 9/100, Validation loss: 3.55E-01: 100%|██████████| 2/2 [00:01<00:00,  1.90it/s]\n",
      "Epoch 10/100, Training loss: 3.42E-01: 100%|██████████| 7/7 [00:03<00:00,  2.07it/s]\n",
      "Epoch 10/100, Validation loss: 3.60E-01: 100%|██████████| 2/2 [00:00<00:00,  2.13it/s]\n",
      "Epoch 11/100, Training loss: 3.35E-01: 100%|██████████| 7/7 [00:03<00:00,  1.92it/s]\n",
      "Epoch 11/100, Validation loss: 3.36E-01: 100%|██████████| 2/2 [00:00<00:00,  2.36it/s]\n",
      "Epoch 12/100, Training loss: 3.59E-01: 100%|██████████| 7/7 [00:03<00:00,  1.79it/s]\n",
      "Epoch 12/100, Validation loss: 2.27E-01: 100%|██████████| 2/2 [00:00<00:00,  2.45it/s]\n",
      "Epoch 13/100, Training loss: 3.34E-01: 100%|██████████| 7/7 [00:03<00:00,  1.98it/s]\n",
      "Epoch 13/100, Validation loss: 2.54E-01: 100%|██████████| 2/2 [00:00<00:00,  2.30it/s]\n",
      "Epoch 14/100, Training loss: 3.29E-01: 100%|██████████| 7/7 [00:04<00:00,  1.55it/s]\n",
      "Epoch 14/100, Validation loss: 3.49E-01: 100%|██████████| 2/2 [00:01<00:00,  1.37it/s]\n",
      "Epoch 15/100, Training loss: 3.15E-01: 100%|██████████| 7/7 [00:05<00:00,  1.38it/s]\n",
      "Epoch 15/100, Validation loss: 2.63E-01: 100%|██████████| 2/2 [00:01<00:00,  1.85it/s]\n",
      "Epoch 16/100, Training loss: 2.77E-01: 100%|██████████| 7/7 [00:04<00:00,  1.60it/s]\n",
      "Epoch 16/100, Validation loss: 1.76E-01: 100%|██████████| 2/2 [00:01<00:00,  1.87it/s]\n",
      "Epoch 17/100, Training loss: 3.84E-01: 100%|██████████| 7/7 [00:03<00:00,  1.83it/s]\n",
      "Epoch 17/100, Validation loss: 2.77E-01: 100%|██████████| 2/2 [00:00<00:00,  2.40it/s]\n",
      "Epoch 18/100, Training loss: 2.64E-01: 100%|██████████| 7/7 [00:03<00:00,  1.98it/s]\n",
      "Epoch 18/100, Validation loss: 2.18E-01: 100%|██████████| 2/2 [00:00<00:00,  2.39it/s]\n",
      "Epoch 19/100, Training loss: 2.63E-01: 100%|██████████| 7/7 [00:03<00:00,  1.81it/s]\n",
      "Epoch 19/100, Validation loss: 2.60E-01: 100%|██████████| 2/2 [00:01<00:00,  1.87it/s]\n",
      "Epoch 20/100, Training loss: 2.34E-01: 100%|██████████| 7/7 [00:04<00:00,  1.70it/s]\n",
      "Epoch 20/100, Validation loss: 2.34E-01: 100%|██████████| 2/2 [00:01<00:00,  1.86it/s]\n",
      "Epoch 21/100, Training loss: 2.58E-01: 100%|██████████| 7/7 [00:03<00:00,  1.93it/s]\n",
      "Epoch 21/100, Validation loss: 2.15E-01: 100%|██████████| 2/2 [00:00<00:00,  2.38it/s]\n",
      "Epoch 22/100, Training loss: 2.63E-01: 100%|██████████| 7/7 [00:03<00:00,  2.03it/s]\n",
      "Epoch 22/100, Validation loss: 2.69E-01: 100%|██████████| 2/2 [00:00<00:00,  2.37it/s]\n",
      "Epoch 23/100, Training loss: 2.74E-01: 100%|██████████| 7/7 [00:03<00:00,  1.98it/s]\n",
      "Epoch 23/100, Validation loss: 2.35E-01: 100%|██████████| 2/2 [00:00<00:00,  2.36it/s]\n",
      "Epoch 24/100, Training loss: 3.24E-01: 100%|██████████| 7/7 [00:03<00:00,  1.94it/s]\n",
      "Epoch 24/100, Validation loss: 2.04E-01: 100%|██████████| 2/2 [00:00<00:00,  2.51it/s]\n",
      "Epoch 25/100, Training loss: 2.94E-01: 100%|██████████| 7/7 [00:03<00:00,  2.09it/s]\n",
      "Epoch 25/100, Validation loss: 2.67E-01: 100%|██████████| 2/2 [00:00<00:00,  2.54it/s]\n",
      "Epoch 26/100, Training loss: 3.00E-01: 100%|██████████| 7/7 [00:03<00:00,  2.05it/s]\n",
      "Epoch 26/100, Validation loss: 3.68E-01: 100%|██████████| 2/2 [00:00<00:00,  2.55it/s]"
     ]
    },
    {
     "name": "stdout",
     "output_type": "stream",
     "text": [
      "Split ended on epoch 16!\n"
     ]
    },
    {
     "name": "stderr",
     "output_type": "stream",
     "text": [
      "\n"
     ]
    }
   ],
   "execution_count": 17
  },
  {
   "metadata": {
    "ExecuteTime": {
     "end_time": "2024-06-10T19:46:41.437041Z",
     "start_time": "2024-06-10T19:46:41.356238Z"
    }
   },
   "cell_type": "code",
   "source": [
    "cnn_model = CNNSurfaceClassifier(input_size=INPUT_SIZE, output_size=num_classes).to(device)\n",
    "cnn_model.load_state_dict(torch.load(f\"../results/checkpoints/{model_name}.pt\"))"
   ],
   "id": "49ab05b5e60ce13",
   "outputs": [
    {
     "data": {
      "text/plain": [
       "<All keys matched successfully>"
      ]
     },
     "execution_count": 18,
     "metadata": {},
     "output_type": "execute_result"
    }
   ],
   "execution_count": 18
  },
  {
   "metadata": {
    "ExecuteTime": {
     "end_time": "2024-06-10T19:46:45.497657Z",
     "start_time": "2024-06-10T19:46:42.596941Z"
    }
   },
   "cell_type": "code",
   "source": [
    "test_batches = len(test_dataloader)\n",
    "y_true, y_pred = [], []\n",
    "running_test_loss = 0.0\n",
    "\n",
    "pbar_test = tqdm(test_dataloader, total=test_batches)\n",
    "cnn_model.eval()\n",
    "with torch.no_grad():\n",
    "    for idx, (batch_x_test, batch_y_test) in enumerate(pbar_test):\n",
    "        batch_x_test, batch_y_test = batch_x_test.to(device), batch_y_test.to(device)\n",
    "        batch_x_test = batch_x_test.permute(0, 2, 1)\n",
    "        test_outputs = cnn_model(batch_x_test)\n",
    "        test_loss = criterion(test_outputs, batch_y_test)\n",
    "        running_test_loss += test_loss\n",
    "        \n",
    "        y_true.extend(torch.argmax(batch_y_test, dim=1).cpu().numpy())\n",
    "        y_pred.extend(torch.argmax(test_outputs, dim=1).cpu().numpy())\n",
    "        \n",
    "        pbar_test.set_description(f\"Test loss: {running_test_loss / (idx + 1):.2E}\")"
   ],
   "id": "a223192567a5a5e7",
   "outputs": [
    {
     "name": "stderr",
     "output_type": "stream",
     "text": [
      "Test loss: 2.33E-01:  67%|██████▋   | 2/3 [00:02<00:01,  1.34s/it]D:\\GitHubProjects\\SurfaceClassification\\surface-classification\\venv\\lib\\site-packages\\torch\\nn\\modules\\conv.py:306: UserWarning: Plan failed with a cudnnException: CUDNN_BACKEND_EXECUTION_PLAN_DESCRIPTOR: cudnnFinalize Descriptor Failed cudnn_status: CUDNN_STATUS_NOT_SUPPORTED (Triggered internally at ..\\aten\\src\\ATen\\native\\cudnn\\Conv_v8.cpp:919.)\n",
      "  return F.conv1d(input, weight, bias, self.stride,\n",
      "Test loss: 1.73E-01: 100%|██████████| 3/3 [00:02<00:00,  1.04it/s]\n"
     ]
    }
   ],
   "execution_count": 19
  },
  {
   "metadata": {},
   "cell_type": "code",
   "outputs": [],
   "execution_count": null,
   "source": "",
   "id": "994a4f1fd727e42c"
  }
 ],
 "metadata": {
  "kernelspec": {
   "display_name": "Python 3",
   "language": "python",
   "name": "python3"
  },
  "language_info": {
   "codemirror_mode": {
    "name": "ipython",
    "version": 2
   },
   "file_extension": ".py",
   "mimetype": "text/x-python",
   "name": "python",
   "nbconvert_exporter": "python",
   "pygments_lexer": "ipython2",
   "version": "2.7.6"
  }
 },
 "nbformat": 4,
 "nbformat_minor": 5
}
