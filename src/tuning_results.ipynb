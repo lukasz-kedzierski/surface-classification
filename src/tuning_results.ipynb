{
 "cells": [
  {
   "cell_type": "code",
   "id": "initial_id",
   "metadata": {
    "collapsed": true,
    "ExecuteTime": {
     "end_time": "2024-06-07T21:03:29.392698Z",
     "start_time": "2024-06-07T21:03:28.305150Z"
    }
   },
   "source": [
    "import json\n",
    "import matplotlib.pyplot as plt\n",
    "import numpy as np\n",
    "import pandas as pd\n",
    "\n",
    "from cycler import cycler\n",
    "from pathlib import Path"
   ],
   "outputs": [],
   "execution_count": 1
  },
  {
   "metadata": {
    "ExecuteTime": {
     "end_time": "2024-06-07T21:03:29.409653Z",
     "start_time": "2024-06-07T21:03:29.394693Z"
    }
   },
   "cell_type": "code",
   "source": [
    "# matplotlib.rcParams.update(matplotlib.rcParamsDefault)\n",
    "\n",
    "nicer_green = '#159C48'\n",
    "nicer_blue = '#00A0FF'\n",
    "orange = '#FBBC04'\n",
    "\n",
    "plt.rcParams['figure.figsize'] = [5, 4]\n",
    "plt.rcParams[\"axes.prop_cycle\"] = cycler('color', [nicer_blue, nicer_green, orange])\n",
    "plt.rcParams['lines.linewidth'] = 0.5"
   ],
   "id": "e243aca89c5ac2d1",
   "outputs": [],
   "execution_count": 2
  },
  {
   "metadata": {
    "ExecuteTime": {
     "end_time": "2024-06-07T21:17:35.281304Z",
     "start_time": "2024-06-07T21:17:35.274323Z"
    }
   },
   "cell_type": "code",
   "source": [
    "HISTORY_DIR = Path('../results/tuning/')\n",
    "# filenames = (\n",
    "#     '3_4W_imu_2024-05-28-19-05-17',\n",
    "#     '3_6W_imu_2024-05-28-20-40-28',\n",
    "#     '3_4W_6W_imu_2024-05-28-18-34-16',\n",
    "#     '3_4W_servo_2024-06-03-16-30-49',\n",
    "#     '3_6W_servo_2024-06-03-17-12-39',\n",
    "#     '3_4W_6W_servo_2024-06-03-18-31-33',\n",
    "#     '3_4W_imu_servo_2024-05-28-19-35-07',\n",
    "#     '3_6W_imu_servo_2024-05-28-20-10-03',\n",
    "#     '3_4W_6W_imu_servo_2024-05-28-11-54-14',\n",
    "# )\n",
    "\n",
    "# filenames = (\n",
    "#     '10_4W_imu_2024-05-13-09-24-10',\n",
    "#     '10_6W_imu_2024-05-13-10-35-45',\n",
    "#     '10_4W_6W_imu_2024-05-13-08-18-11',\n",
    "#     '10_4W_servo_2024-06-03-21-51-29',\n",
    "#     '10_6W_servo_2024-06-03-22-29-57',\n",
    "#     '10_4W_6W_servo_2024-06-03-21-21-22',\n",
    "#     '10_4W_imu_servo_2024-05-13-08-53-16',\n",
    "#     '10_6W_imu_servo_2024-05-13-09-58-30',\n",
    "#     '10_4W_6W_imu_servo_2024-05-13-01-30-56',\n",
    "# )\n",
    "\n",
    "# filenames = (\n",
    "#     'xgb_3_4W_imu_2024-06-07-18-12-13',\n",
    "#     'xgb_3_6W_imu_2024-06-07-18-16-43',\n",
    "#     'xgb_3_4W_6W_imu_2024-06-07-18-23-51',\n",
    "#     'xgb_3_4W_servo_2024-06-07-18-27-19',\n",
    "#     'xgb_3_6W_servo_2024-06-07-18-30-21',\n",
    "#     'xgb_3_4W_6W_servo_2024-06-07-18-36-03',\n",
    "#     'xgb_3_4W_imu_servo_2024-06-07-18-41-55',\n",
    "#     'xgb_3_6W_imu_servo_2024-06-07-18-47-03',\n",
    "#     'xgb_3_4W_6W_imu_servo_2024-06-07-18-55-42',\n",
    "# )\n",
    "\n",
    "filenames = (\n",
    "    'xgb_10_4W_imu_2024-06-06-23-47-53',\n",
    "    'xgb_10_6W_imu_2024-06-06-23-54-59',\n",
    "    'xgb_10_4W_6W_imu_2024-06-07-00-07-27',\n",
    "    'xgb_10_4W_servo_2024-06-07-00-12-10',\n",
    "    'xgb_10_6W_servo_2024-06-07-00-16-36',\n",
    "    'xgb_10_4W_6W_servo_2024-06-07-00-25-17',\n",
    "    'xgb_10_4W_imu_servo_2024-06-07-00-34-13',\n",
    "    'xgb_10_6W_imu_servo_2024-06-07-00-56-16',\n",
    "    'xgb_10_4W_6W_imu_servo_2024-06-07-01-20-21',\n",
    ")\n",
    "\n",
    "labels = ('IMU', 'POWER', 'IMU + POWER')\n",
    "\n",
    "t_95 = 2.228"
   ],
   "id": "dd8580ea3b5441e9",
   "outputs": [],
   "execution_count": 15
  },
  {
   "metadata": {
    "ExecuteTime": {
     "end_time": "2024-06-07T21:17:38.509990Z",
     "start_time": "2024-06-07T21:17:38.398808Z"
    }
   },
   "cell_type": "code",
   "source": [
    "results = {}\n",
    "for filename in filenames:\n",
    "    with open(HISTORY_DIR / (filename + '.json')) as fp:\n",
    "        results[filename] = json.load(fp)"
   ],
   "id": "549ea67dcbc82bd",
   "outputs": [],
   "execution_count": 16
  },
  {
   "metadata": {
    "ExecuteTime": {
     "end_time": "2024-06-07T21:17:39.812429Z",
     "start_time": "2024-06-07T21:17:39.515906Z"
    }
   },
   "cell_type": "code",
   "source": [
    "fig, ax = plt.subplots()\n",
    "\n",
    "average_acc, ci_acc = [], []\n",
    "for result in results.values():\n",
    "    df = pd.DataFrame(result)\n",
    "    res_array = np.array(df.loc['accuracy'].values.tolist()).T\n",
    "    average_acc.append(res_array.mean())\n",
    "    ci_acc.append(t_95 * res_array.std() / np.sqrt(10))\n",
    "\n",
    "i = 0\n",
    "ind = np.arange(len(average_acc) / len(labels)) # the x locations for the groups\n",
    "ind_copy = ind.copy()\n",
    "width = 0.2 # the width of the bars\n",
    "for label in labels:\n",
    "    ax.bar(ind, average_acc[i:i+3], width, yerr=ci_acc[i:i+3], label=label, capsize=4, alpha=0.6)\n",
    "    i += 3\n",
    "    ind += width\n",
    "\n",
    "ax.set_xticks(ind_copy + width, labels=['4W', '6W', '4W, 6W'])\n",
    "ax.set_ylim(0, 1)\n",
    "ax.set_xlabel('configuration')\n",
    "ax.set_ylabel('average accuracy')\n",
    "ax.set_title('3 classes')\n",
    "plt.grid(which='major', axis='y', linewidth=1)\n",
    "plt.grid(which='minor', axis='y', linewidth=0.4)\n",
    "plt.minorticks_on()\n",
    "plt.legend(bbox_to_anchor=(1, 0.5), loc='center left',)\n",
    "fig.tight_layout()\n",
    "# plt.savefig(f'../results/tuning/10_4w_6w_300dpi.png', dpi=300)\n",
    "# plt.close()"
   ],
   "id": "25563d941af93ddd",
   "outputs": [
    {
     "data": {
      "text/plain": [
       "<Figure size 500x400 with 1 Axes>"
      ],
      "image/png": "[encoded data removed]"
     },
     "metadata": {},
     "output_type": "display_data"
    }
   ],
   "execution_count": 17
  },
  {
   "metadata": {
    "ExecuteTime": {
     "end_time": "2024-06-07T21:17:47.613494Z",
     "start_time": "2024-06-07T21:17:45.380144Z"
    }
   },
   "cell_type": "code",
   "source": [
    "fig, ax = plt.subplots()\n",
    "\n",
    "average_f1, ci_f1 = [], []\n",
    "for result in results.values():\n",
    "    df = pd.DataFrame(result)\n",
    "    res_array = np.array(df.loc['f1_score'].values.tolist()).T\n",
    "    average_f1.append(res_array.mean())\n",
    "    ci_f1.append(t_95 * res_array.std() / np.sqrt(10))\n",
    "    \n",
    "i = 0\n",
    "ind = np.arange(len(average_f1) / len(labels)) # the x locations for the groups\n",
    "width = 0.2 # the width of the bars\n",
    "for label in labels:\n",
    "    ax.bar(ind, average_f1[i:i+3], width, yerr=ci_f1[i:i+3], label=label, capsize=4, alpha=0.6)\n",
    "    i += 3\n",
    "    ind += width\n",
    "\n",
    "ax.set_xticks(ind_copy + width, labels=['4W', '6W', '4W, 6W'])\n",
    "ax.set_ylim(0.4, 1)\n",
    "ax.set_xlabel('configuration')\n",
    "ax.set_ylabel('average F1 score')\n",
    "# ax.set_title('3 classes')\n",
    "plt.grid(which='major', axis='y', linewidth=1)\n",
    "plt.grid(which='minor', axis='y', linewidth=0.4)\n",
    "plt.minorticks_on()\n",
    "plt.legend(bbox_to_anchor=(1, 0.5), loc='center left',)\n",
    "fig.tight_layout()\n",
    "plt.savefig(f'../results/tuning/xgb_10_300dpi.png', dpi=300)\n",
    "plt.close()"
   ],
   "id": "b6c8556f38c13e95",
   "outputs": [],
   "execution_count": 18
  },
  {
   "metadata": {},
   "cell_type": "code",
   "outputs": [],
   "execution_count": null,
   "source": "",
   "id": "96dbf2da9e7f41e5"
  }
 ],
 "metadata": {
  "kernelspec": {
   "display_name": "Python 3",
   "language": "python",
   "name": "python3"
  },
  "language_info": {
   "codemirror_mode": {
    "name": "ipython",
    "version": 2
   },
   "file_extension": ".py",
   "mimetype": "text/x-python",
   "name": "python",
   "nbconvert_exporter": "python",
   "pygments_lexer": "ipython2",
   "version": "2.7.6"
  }
 },
 "nbformat": 4,
 "nbformat_minor": 5
}
