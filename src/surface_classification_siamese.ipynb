{
 "cells": [
  {
   "cell_type": "markdown",
   "source": [
    "### Imports"
   ],
   "metadata": {
    "collapsed": false
   },
   "id": "9afebad71082b978"
  },
  {
   "cell_type": "code",
   "outputs": [],
   "source": [
    "import json\n",
    "import matplotlib.pyplot as plt\n",
    "import numpy as np\n",
    "import pandas as pd\n",
    "import random\n",
    "import umap\n",
    "\n",
    "from pathlib import Path\n",
    "from sklearn.metrics import classification_report, ConfusionMatrixDisplay\n",
    "from sklearn.model_selection import train_test_split\n",
    "from sklearn.preprocessing import LabelBinarizer, LabelEncoder\n",
    "from tqdm import tqdm\n",
    "\n",
    "import torch\n",
    "import torch.nn as nn\n",
    "import torch.nn.functional as F\n",
    "from torch.optim.lr_scheduler import ExponentialLR\n",
    "from torch.utils.data import DataLoader, Dataset\n",
    "from torchinfo import summary"
   ],
   "metadata": {
    "collapsed": false,
    "ExecuteTime": {
     "end_time": "2024-03-10T23:31:49.045988Z",
     "start_time": "2024-03-10T23:31:34.950763Z"
    }
   },
   "id": "7bbbfa68a2c2ad9a",
   "execution_count": 1
  },
  {
   "cell_type": "markdown",
   "source": [
    "### Device"
   ],
   "metadata": {
    "collapsed": false
   },
   "id": "be243189c890a753"
  },
  {
   "cell_type": "code",
   "outputs": [
    {
     "data": {
      "text/plain": "'cuda:0'"
     },
     "execution_count": 2,
     "metadata": {},
     "output_type": "execute_result"
    }
   ],
   "source": [
    "device = \"cuda:0\" if torch.cuda.is_available() else \"cpu\"\n",
    "device"
   ],
   "metadata": {
    "collapsed": false,
    "ExecuteTime": {
     "end_time": "2024-03-10T23:31:49.219522Z",
     "start_time": "2024-03-10T23:31:49.046984Z"
    }
   },
   "id": "da0434b42f73b25a",
   "execution_count": 2
  },
  {
   "cell_type": "markdown",
   "source": [
    "### Constants"
   ],
   "metadata": {
    "collapsed": false
   },
   "id": "87b62f1e105bcc84"
  },
  {
   "cell_type": "code",
   "outputs": [],
   "source": [
    "BATCH_SIZE = 32\n",
    "INPUT_SIZE = 12\n",
    "EMBEDDING_SIZE = 384\n",
    "NUM_LAYERS = 3\n",
    "NUM_EPOCHS = 10\n",
    "DATA_DIR = Path('../data/dataset/')\n",
    "LOOKBACK = 10\n",
    "LOWEST_FREQUENCY = 50\n",
    "KERNEL_SIZE = 3\n",
    "SUBSET = ['imu', 'odom', 'cmd_vel', 'servo']"
   ],
   "metadata": {
    "collapsed": false,
    "ExecuteTime": {
     "end_time": "2024-03-10T23:31:49.235479Z",
     "start_time": "2024-03-10T23:31:49.221517Z"
    }
   },
   "id": "66b5555a4fa10241",
   "execution_count": 3
  },
  {
   "cell_type": "markdown",
   "source": [
    "### Load and split data"
   ],
   "metadata": {
    "collapsed": false
   },
   "id": "5529717ff2812af0"
  },
  {
   "cell_type": "code",
   "outputs": [],
   "source": [
    "with open('../data/labels.json') as fp:\n",
    "    labels = json.load(fp)"
   ],
   "metadata": {
    "collapsed": false,
    "ExecuteTime": {
     "end_time": "2024-03-10T23:31:49.267394Z",
     "start_time": "2024-03-10T23:31:49.237475Z"
    }
   },
   "id": "503fce34bed6d813",
   "execution_count": 4
  },
  {
   "cell_type": "code",
   "outputs": [],
   "source": [
    "dataset = [(DATA_DIR.joinpath(key + '.csv'), values['surface']) for key, values in labels.items() if values['kinematics'] in ('4W', '6W') and values['spacing'] == 'R1']"
   ],
   "metadata": {
    "collapsed": false,
    "ExecuteTime": {
     "end_time": "2024-03-10T23:31:50.343203Z",
     "start_time": "2024-03-10T23:31:50.328243Z"
    }
   },
   "id": "96bb38f00e195362",
   "execution_count": 5
  },
  {
   "cell_type": "code",
   "outputs": [],
   "source": [
    "X = pd.Series([run[0] for run in dataset], name='bag_name')\n",
    "y_primary = [run[1] for run in dataset]"
   ],
   "metadata": {
    "collapsed": false,
    "ExecuteTime": {
     "end_time": "2024-03-10T23:32:00.155103Z",
     "start_time": "2024-03-10T23:32:00.140140Z"
    }
   },
   "id": "ac562fc5c93cd196",
   "execution_count": 6
  },
  {
   "cell_type": "code",
   "outputs": [],
   "source": [
    "# y_secondary = ['slippery' if label in ('1_Panele', '5_Spienione_PCV', '6_Linoleum')\n",
    "#                else 'grippy' if label in ('3_Wykladzina_jasna', '8_Pusta_plyta', '9_podklady')\n",
    "#                else 'neutral' for label in y_primary]\n",
    "y_secondary = ['slippery' if label in ('3_Wykladzina_jasna', '4_Trawa')\n",
    "               else 'grippy' if label in ('5_Spienione_PCV', '8_Pusta_plyta', '9_podklady', '10_Mata_ukladana')\n",
    "               else 'neutral' for label in y_primary] # Pawel set\n",
    "# y_secondary = ['slippery' if label in ('3_Wykladzina_jasna', '4_Trawa')\n",
    "#                else 'grippy' if label in ('2_Wykladzina_czarna', '5_Spienione_PCV', '9_podklady', '10_Mata_ukladana')\n",
    "#                else 'neutral' for label in y_primary] # Clustering set"
   ],
   "metadata": {
    "collapsed": false,
    "ExecuteTime": {
     "end_time": "2024-03-10T23:35:10.590290Z",
     "start_time": "2024-03-10T23:35:10.579319Z"
    }
   },
   "id": "bce103ccb3fe0581",
   "execution_count": 8
  },
  {
   "cell_type": "code",
   "outputs": [],
   "source": [
    "le = LabelEncoder()\n",
    "le.fit(y_secondary)\n",
    "classes = le.classes_\n",
    "num_classes = len(classes)\n",
    "y = le.transform(y_secondary)\n",
    "y = y.reshape(-1, 1)"
   ],
   "metadata": {
    "collapsed": false,
    "ExecuteTime": {
     "end_time": "2024-03-10T23:36:29.908140Z",
     "start_time": "2024-03-10T23:36:29.888193Z"
    }
   },
   "id": "28cd1c677f86f806",
   "execution_count": 9
  },
  {
   "cell_type": "code",
   "outputs": [],
   "source": [
    "X_training, X_test, y_training, y_test = train_test_split(X, y, test_size=0.2, stratify=y)\n",
    "X_train, X_val, y_train, y_val = train_test_split(X_training, y_training, test_size=0.2, stratify=y_training)\n",
    "X_train.reset_index(drop=True, inplace=True)\n",
    "X_val.reset_index(drop=True, inplace=True)\n",
    "X_test.reset_index(drop=True, inplace=True)"
   ],
   "metadata": {
    "collapsed": false,
    "ExecuteTime": {
     "end_time": "2024-03-10T23:36:30.503092Z",
     "start_time": "2024-03-10T23:36:30.475622Z"
    }
   },
   "id": "eed3b5f73250bcce",
   "execution_count": 10
  },
  {
   "cell_type": "markdown",
   "source": [
    "### Custom datasets"
   ],
   "metadata": {
    "collapsed": false
   },
   "id": "c59200394bfc51d7"
  },
  {
   "cell_type": "code",
   "outputs": [],
   "source": [
    "def select_sequence(series, selected_columns, window_length, stride):\n",
    "    series = series[selected_columns]\n",
    "    initial_timestep = random.randint(0, (len(series) - 1) - window_length)\n",
    "    final_timestep = initial_timestep + window_length\n",
    "    timesteps = list(range(initial_timestep, final_timestep + stride, stride))\n",
    "    return series.iloc[timesteps].to_numpy()"
   ],
   "metadata": {
    "collapsed": false,
    "ExecuteTime": {
     "end_time": "2024-03-10T23:36:32.171637Z",
     "start_time": "2024-03-10T23:36:32.154683Z"
    }
   },
   "id": "7c8ac183cadc0d56",
   "execution_count": 11
  },
  {
   "cell_type": "code",
   "outputs": [],
   "source": [
    "class SurfaceDataset(Dataset):\n",
    "    def __init__(self, samples, labels, frequency=50, lookback=1, subset=None):\n",
    "        \"\"\"        \n",
    "        Args:\n",
    "            samples: An array of time series, first dimension is time steps\n",
    "            labels: An array of surface labels\n",
    "            frequency: The lowest frequency of collected data\n",
    "            lookback: Size of window for prediction\n",
    "        \"\"\"\n",
    "\n",
    "        self.samples = samples\n",
    "        self.labels = labels\n",
    "        self.frequency = frequency\n",
    "        self.lookback = int(lookback * self.frequency)\n",
    "        self.stride = int(300 / self.frequency)\n",
    "        self.window_length = self.lookback * self.stride\n",
    "        if subset:\n",
    "            self.subset = set(subset)\n",
    "        else:\n",
    "            self.subset = ('cmd_vel', 'imu', 'odom', 'servo')\n",
    "        measurements = {\n",
    "            'cmd_vel': ['linear.x', 'angular.z'],\n",
    "            'imu': ['linear_acceleration.x', 'linear_acceleration.y', 'linear_acceleration.z', 'angular_velocity.x', 'angular_velocity.y', 'angular_velocity.z'],\n",
    "            'odom': ['pose.pose.position.x', 'pose.pose.position.y', 'twist.twist.linear.x', 'twist.twist.angular.z'],\n",
    "            'servo': ['values'],\n",
    "        }\n",
    "        self.selected_columns = []\n",
    "        for measurement in self.subset:\n",
    "            self.selected_columns.extend(measurements[measurement])\n",
    "\n",
    "    def __len__(self):\n",
    "        return len(self.labels)\n",
    "\n",
    "    def __getitem__(self, idx):\n",
    "        \"\"\"\n",
    "        Retrieve a single, windowed time series from dataset\n",
    "        \"\"\"\n",
    "\n",
    "        sample = self.samples[idx]\n",
    "        run = pd.read_csv(sample, index_col=[0]).drop('Time', axis=1)\n",
    "        \n",
    "        X = select_sequence(run, self.selected_columns, self.window_length, self.stride)\n",
    "        X['values'] /= 1000\n",
    "        y = self.labels[idx]\n",
    "        \n",
    "        return torch.tensor(X, dtype=torch.float), torch.tensor(y, dtype=torch.float)\n",
    "\n",
    "train_dataloader = DataLoader(SurfaceDataset(X_train, y_train, frequency=LOWEST_FREQUENCY, lookback=LOOKBACK, subset=SUBSET), batch_size=BATCH_SIZE, shuffle=True)\n",
    "val_dataloader = DataLoader(SurfaceDataset(X_val, y_val, frequency=LOWEST_FREQUENCY, lookback=LOOKBACK, subset=SUBSET), batch_size=BATCH_SIZE)\n",
    "test_dataloader = DataLoader(SurfaceDataset(X_test, y_test, frequency=LOWEST_FREQUENCY, lookback=LOOKBACK, subset=SUBSET), batch_size=1)"
   ],
   "metadata": {
    "collapsed": false,
    "ExecuteTime": {
     "end_time": "2024-03-10T23:38:06.034615Z",
     "start_time": "2024-03-10T23:38:06.021650Z"
    }
   },
   "id": "18f462da904175a6",
   "execution_count": 12
  },
  {
   "cell_type": "code",
   "outputs": [
    {
     "ename": "KeyError",
     "evalue": "'servo'",
     "output_type": "error",
     "traceback": [
      "\u001B[1;31m---------------------------------------------------------------------------\u001B[0m",
      "\u001B[1;31mKeyError\u001B[0m                                  Traceback (most recent call last)",
      "Cell \u001B[1;32mIn[13], line 54\u001B[0m\n\u001B[0;32m     50\u001B[0m         X_negative \u001B[38;5;241m=\u001B[39m select_sequence(run_negative, \u001B[38;5;28mself\u001B[39m\u001B[38;5;241m.\u001B[39mselected_columns, \u001B[38;5;28mself\u001B[39m\u001B[38;5;241m.\u001B[39mwindow_length, \u001B[38;5;28mself\u001B[39m\u001B[38;5;241m.\u001B[39mstride)\n\u001B[0;32m     52\u001B[0m         \u001B[38;5;28;01mreturn\u001B[39;00m torch\u001B[38;5;241m.\u001B[39mtensor(X_anchor, dtype\u001B[38;5;241m=\u001B[39mtorch\u001B[38;5;241m.\u001B[39mfloat), torch\u001B[38;5;241m.\u001B[39mtensor(X_positive, dtype\u001B[38;5;241m=\u001B[39mtorch\u001B[38;5;241m.\u001B[39mfloat), torch\u001B[38;5;241m.\u001B[39mtensor(X_negative, dtype\u001B[38;5;241m=\u001B[39mtorch\u001B[38;5;241m.\u001B[39mfloat)\n\u001B[1;32m---> 54\u001B[0m train_triplet_dataloader \u001B[38;5;241m=\u001B[39m DataLoader(\u001B[43mTripletDataset\u001B[49m\u001B[43m(\u001B[49m\u001B[43mX_train\u001B[49m\u001B[43m,\u001B[49m\u001B[43m \u001B[49m\u001B[43my_train\u001B[49m\u001B[43m,\u001B[49m\u001B[43m \u001B[49m\u001B[43mfrequency\u001B[49m\u001B[38;5;241;43m=\u001B[39;49m\u001B[43mLOWEST_FREQUENCY\u001B[49m\u001B[43m,\u001B[49m\u001B[43m \u001B[49m\u001B[43mlookback\u001B[49m\u001B[38;5;241;43m=\u001B[39;49m\u001B[43mLOOKBACK\u001B[49m\u001B[43m,\u001B[49m\u001B[43m \u001B[49m\u001B[43msubset\u001B[49m\u001B[38;5;241;43m=\u001B[39;49m\u001B[43mSUBSET\u001B[49m\u001B[43m)\u001B[49m, batch_size\u001B[38;5;241m=\u001B[39mBATCH_SIZE, shuffle\u001B[38;5;241m=\u001B[39m\u001B[38;5;28;01mTrue\u001B[39;00m)\n\u001B[0;32m     55\u001B[0m val_triplet_dataloader \u001B[38;5;241m=\u001B[39m DataLoader(TripletDataset(X_val, y_val, frequency\u001B[38;5;241m=\u001B[39mLOWEST_FREQUENCY, lookback\u001B[38;5;241m=\u001B[39mLOOKBACK, subset\u001B[38;5;241m=\u001B[39mSUBSET), batch_size\u001B[38;5;241m=\u001B[39mBATCH_SIZE)\n",
      "Cell \u001B[1;32mIn[13], line 28\u001B[0m, in \u001B[0;36mTripletDataset.__init__\u001B[1;34m(self, samples, labels, frequency, lookback, subset)\u001B[0m\n\u001B[0;32m     26\u001B[0m \u001B[38;5;28mself\u001B[39m\u001B[38;5;241m.\u001B[39mselected_columns \u001B[38;5;241m=\u001B[39m []\n\u001B[0;32m     27\u001B[0m \u001B[38;5;28;01mfor\u001B[39;00m measurement \u001B[38;5;129;01min\u001B[39;00m \u001B[38;5;28mself\u001B[39m\u001B[38;5;241m.\u001B[39msubset:\n\u001B[1;32m---> 28\u001B[0m     \u001B[38;5;28mself\u001B[39m\u001B[38;5;241m.\u001B[39mselected_columns\u001B[38;5;241m.\u001B[39mextend(\u001B[43mmeasurements\u001B[49m\u001B[43m[\u001B[49m\u001B[43mmeasurement\u001B[49m\u001B[43m]\u001B[49m)\n",
      "\u001B[1;31mKeyError\u001B[0m: 'servo'"
     ]
    }
   ],
   "source": [
    "class TripletDataset(Dataset):\n",
    "    def __init__(self, samples, labels, frequency=50, lookback=1, subset=None):\n",
    "        \"\"\"        \n",
    "        Args:\n",
    "            samples: An array of time series, first dimension is time steps\n",
    "            labels: An array of surface labels\n",
    "            frequency: The lowest frequency of collected data\n",
    "            lookback: Size of window for prediction\n",
    "        \"\"\"\n",
    "\n",
    "        self.samples = samples\n",
    "        self.labels = labels\n",
    "        self.frequency = frequency\n",
    "        self.lookback = int(lookback * self.frequency)\n",
    "        self.stride = int(300 / self.frequency)\n",
    "        self.window_length = self.lookback * self.stride\n",
    "        if subset:\n",
    "            self.subset = set(subset)\n",
    "        else:\n",
    "            self.subset = ('cmd_vel', 'imu', 'odom', 'servo')\n",
    "        measurements = {\n",
    "            'cmd_vel': ['linear.x', 'angular.z'],\n",
    "            'imu': ['linear_acceleration.x', 'linear_acceleration.y', 'linear_acceleration.z', 'angular_velocity.x', 'angular_velocity.y', 'angular_velocity.z'],\n",
    "            'odom': ['pose.pose.position.x', 'pose.pose.position.y', 'twist.twist.linear.x', 'twist.twist.angular.z'],\n",
    "            'servo': ['values'],\n",
    "        }\n",
    "        self.selected_columns = []\n",
    "        for measurement in self.subset:\n",
    "            self.selected_columns.extend(measurements[measurement])\n",
    "\n",
    "    def __len__(self):\n",
    "        return len(self.labels)\n",
    "\n",
    "    def __getitem__(self, idx):\n",
    "        \"\"\"\n",
    "        Retrieve a triplet of windowed time series from dataset\n",
    "        \"\"\"\n",
    "\n",
    "        sample_anchor = self.samples[idx]\n",
    "        label_anchor = self.labels[idx]\n",
    "        same_class_samples = np.asarray(self.labels == label_anchor).nonzero()\n",
    "        other_class_samples = np.asarray(self.labels != label_anchor).nonzero()\n",
    "        sample_positive = self.samples[np.random.choice(same_class_samples[0])]\n",
    "        sample_negative = self.samples[np.random.choice(other_class_samples[0])]\n",
    "        run_anchor = pd.read_csv(sample_anchor, index_col=[0]).drop('Time', axis=1)\n",
    "        run_positive = pd.read_csv(sample_positive, index_col=[0]).drop('Time', axis=1)\n",
    "        run_negative = pd.read_csv(sample_negative, index_col=[0]).drop('Time', axis=1)\n",
    "        \n",
    "        X_anchor = select_sequence(run_anchor, self.selected_columns, self.window_length, self.stride)\n",
    "        X_positive = select_sequence(run_positive, self.selected_columns, self.window_length, self.stride)\n",
    "        X_negative = select_sequence(run_negative, self.selected_columns, self.window_length, self.stride)\n",
    "        \n",
    "        return torch.tensor(X_anchor, dtype=torch.float), torch.tensor(X_positive, dtype=torch.float), torch.tensor(X_negative, dtype=torch.float)\n",
    "    \n",
    "train_triplet_dataloader = DataLoader(TripletDataset(X_train, y_train, frequency=LOWEST_FREQUENCY, lookback=LOOKBACK, subset=SUBSET), batch_size=BATCH_SIZE, shuffle=True)\n",
    "val_triplet_dataloader = DataLoader(TripletDataset(X_val, y_val, frequency=LOWEST_FREQUENCY, lookback=LOOKBACK, subset=SUBSET), batch_size=BATCH_SIZE)"
   ],
   "metadata": {
    "collapsed": false,
    "ExecuteTime": {
     "end_time": "2024-03-10T23:38:07.385005Z",
     "start_time": "2024-03-10T23:38:07.173570Z"
    }
   },
   "id": "f06b59661abc8e80",
   "execution_count": 13
  },
  {
   "cell_type": "markdown",
   "source": [
    "### Models"
   ],
   "metadata": {
    "collapsed": false
   },
   "id": "96daed4787b63f69"
  },
  {
   "cell_type": "code",
   "outputs": [],
   "source": [
    "class CNNSurfaceClassifier(nn.Module):\n",
    "    def __init__(self, input_size=None, output_size=None, kernel_size=3):\n",
    "        super().__init__()\n",
    "        self.input_size = input_size\n",
    "        self.output_size = output_size\n",
    "        self.kernel_size = kernel_size\n",
    "        \n",
    "        self.fc_pre = nn.Sequential(\n",
    "            nn.Conv1d(self.input_size, 32, 7, stride=2, padding=3),\n",
    "            nn.BatchNorm1d(32),\n",
    "            nn.ReLU(),\n",
    "            nn.MaxPool1d(kernel_size=3, stride=2, padding=1),\n",
    "        )\n",
    "        self.blocks = nn.Sequential(\n",
    "            nn.Conv1d(32, 64, self.kernel_size, stride=2, padding=1), \n",
    "            nn.BatchNorm1d(64),\n",
    "            nn.ReLU(),\n",
    "            nn.Conv1d(64, 128, self.kernel_size, stride=2, padding=1),\n",
    "            nn.BatchNorm1d(128),\n",
    "            nn.ReLU(),\n",
    "            nn.Conv1d(128, 256, self.kernel_size, stride=2, padding=1),\n",
    "            nn.BatchNorm1d(256),\n",
    "            nn.ReLU(),\n",
    "            nn.Conv1d(256, 512, self.kernel_size, stride=2, padding=1),\n",
    "            nn.BatchNorm1d(512),\n",
    "            nn.ReLU(),\n",
    "        )\n",
    "        self.fc_post = nn.Sequential(\n",
    "            nn.AdaptiveAvgPool1d(1),\n",
    "            nn.Flatten(),\n",
    "            nn.Linear(512, self.output_size),\n",
    "        )\n",
    "\n",
    "    def forward(self, x):\n",
    "        x = self.fc_pre(x)\n",
    "        x = self.blocks(x)\n",
    "        return F.normalize(self.fc_post(x))\n",
    "\n",
    "cnn_model = CNNSurfaceClassifier(input_size=INPUT_SIZE, output_size=EMBEDDING_SIZE, kernel_size=KERNEL_SIZE).to(device)"
   ],
   "metadata": {
    "collapsed": false,
    "ExecuteTime": {
     "end_time": "2024-02-14T08:06:56.551571600Z",
     "start_time": "2024-02-14T08:06:56.401464700Z"
    }
   },
   "id": "94fa64fc85b948aa",
   "execution_count": 13
  },
  {
   "cell_type": "code",
   "outputs": [
    {
     "data": {
      "text/plain": "=================================================================\nLayer (type:depth-idx)                   Param #\n=================================================================\nCNNSurfaceClassifier                     --\n├─Sequential: 1-1                        --\n│    └─Conv1d: 2-1                       2,720\n│    └─BatchNorm1d: 2-2                  64\n│    └─ReLU: 2-3                         --\n│    └─MaxPool1d: 2-4                    --\n├─Sequential: 1-2                        --\n│    └─Conv1d: 2-5                       6,208\n│    └─BatchNorm1d: 2-6                  128\n│    └─ReLU: 2-7                         --\n│    └─Conv1d: 2-8                       24,704\n│    └─BatchNorm1d: 2-9                  256\n│    └─ReLU: 2-10                        --\n│    └─Conv1d: 2-11                      98,560\n│    └─BatchNorm1d: 2-12                 512\n│    └─ReLU: 2-13                        --\n│    └─Conv1d: 2-14                      393,728\n│    └─BatchNorm1d: 2-15                 1,024\n│    └─ReLU: 2-16                        --\n├─Sequential: 1-3                        --\n│    └─AdaptiveAvgPool1d: 2-17           --\n│    └─Flatten: 2-18                     --\n│    └─Linear: 2-19                      196,992\n=================================================================\nTotal params: 724,896\nTrainable params: 724,896\nNon-trainable params: 0\n================================================================="
     },
     "execution_count": 14,
     "metadata": {},
     "output_type": "execute_result"
    }
   ],
   "source": [
    "summary(cnn_model)"
   ],
   "metadata": {
    "collapsed": false,
    "ExecuteTime": {
     "end_time": "2024-02-14T08:06:56.571518500Z",
     "start_time": "2024-02-14T08:06:56.553567200Z"
    }
   },
   "id": "ba8c50a1e9708d52",
   "execution_count": 14
  },
  {
   "cell_type": "code",
   "outputs": [],
   "source": [
    "class SiameseModel(nn.Module):\n",
    "    \"\"\"The Siamese Network model with a custom training and testing loops.\n",
    "\n",
    "    Computes the triplet loss using the three embeddings produced by the\n",
    "    Siamese Network.\n",
    "\n",
    "    The triplet loss is defined as:\n",
    "       L(A, P, N) = max(‖f(A) - f(P)‖² - ‖f(A) - f(N)‖² + margin, 0)\n",
    "    \"\"\"\n",
    "\n",
    "    def __init__(self, embedding_network, margin=0.5):\n",
    "        super().__init__()\n",
    "        self.embedding_network = embedding_network\n",
    "        self.margin = margin\n",
    "        self.triplet_loss = nn.TripletMarginLoss(margin=self.margin)\n",
    "\n",
    "    def forward(self, anchor, positive, negative):\n",
    "        anchor_embedding = self.embedding_network(anchor)\n",
    "        positive_embedding = self.embedding_network(positive)\n",
    "        negative_embedding = self.embedding_network(negative)\n",
    "\n",
    "        return self.triplet_loss(anchor_embedding, positive_embedding, negative_embedding)\n",
    "    \n",
    "siamese = SiameseModel(cnn_model).to(device)"
   ],
   "metadata": {
    "collapsed": false,
    "ExecuteTime": {
     "end_time": "2024-02-14T08:06:56.614403300Z",
     "start_time": "2024-02-14T08:06:56.568526300Z"
    }
   },
   "id": "4acf42d3f08666b4",
   "execution_count": 15
  },
  {
   "cell_type": "markdown",
   "source": [
    "### Optimizer"
   ],
   "metadata": {
    "collapsed": false
   },
   "id": "fa4d99f3eb297adf"
  },
  {
   "cell_type": "code",
   "outputs": [],
   "source": [
    "optimizer = torch.optim.Adam(\n",
    "    cnn_model.parameters(),\n",
    "    lr=1e-3,\n",
    "    eps=1e-6,\n",
    "    weight_decay=1e-3,\n",
    "    )\n",
    "scheduler = ExponentialLR(optimizer, gamma=0.9)"
   ],
   "metadata": {
    "collapsed": false,
    "ExecuteTime": {
     "end_time": "2024-02-14T08:06:58.248037100Z",
     "start_time": "2024-02-14T08:06:56.585481200Z"
    }
   },
   "id": "a7fb9f74376bf1fc",
   "execution_count": 16
  },
  {
   "cell_type": "markdown",
   "source": [
    "### Early stopping"
   ],
   "metadata": {
    "collapsed": false
   },
   "id": "3457623a134ea771"
  },
  {
   "cell_type": "code",
   "outputs": [],
   "source": [
    "class EarlyStopper:\n",
    "    def __init__(self, patience=1, min_delta=0):\n",
    "        self.patience = patience\n",
    "        self.min_delta = min_delta\n",
    "        self.counter = 0\n",
    "        self.min_validation_loss = float('inf')\n",
    "\n",
    "    def early_stop(self, validation_loss):\n",
    "        if validation_loss < self.min_validation_loss:\n",
    "            self.min_validation_loss = validation_loss\n",
    "            self.counter = 0\n",
    "        elif validation_loss > (self.min_validation_loss + self.min_delta):\n",
    "            self.counter += 1\n",
    "            if self.counter >= self.patience:\n",
    "                return True\n",
    "        return False\n",
    "    \n",
    "early_stopper = EarlyStopper(patience=3, min_delta=1e-3)"
   ],
   "metadata": {
    "collapsed": false,
    "ExecuteTime": {
     "end_time": "2024-02-14T08:06:58.266988200Z",
     "start_time": "2024-02-14T08:06:58.248037100Z"
    }
   },
   "id": "99bf1d622f9db277",
   "execution_count": 17
  },
  {
   "cell_type": "markdown",
   "source": [
    "### Training loop"
   ],
   "metadata": {
    "collapsed": false
   },
   "id": "e467a8774a8740fd"
  },
  {
   "cell_type": "code",
   "outputs": [
    {
     "name": "stderr",
     "output_type": "stream",
     "text": [
      "Epoch 1/10, Training loss: 1.82E-01: 100%|██████████| 27/27 [00:50<00:00,  1.86s/it]\n",
      "Epoch 1/10, Validation loss: 1.54E-01: 100%|██████████| 7/7 [00:11<00:00,  1.69s/it]\n",
      "Epoch 2/10, Training loss: 1.84E-01: 100%|██████████| 27/27 [00:47<00:00,  1.77s/it]\n",
      "Epoch 2/10, Validation loss: 1.42E-01: 100%|██████████| 7/7 [00:11<00:00,  1.66s/it]\n",
      "Epoch 3/10, Training loss: 1.96E-01: 100%|██████████| 27/27 [00:50<00:00,  1.85s/it]\n",
      "Epoch 3/10, Validation loss: 1.48E-01: 100%|██████████| 7/7 [00:12<00:00,  1.80s/it]\n",
      "Epoch 4/10, Training loss: 1.94E-01: 100%|██████████| 27/27 [00:50<00:00,  1.86s/it]\n",
      "Epoch 4/10, Validation loss: 1.58E-01: 100%|██████████| 7/7 [00:12<00:00,  1.78s/it]\n",
      "Epoch 5/10, Training loss: 1.90E-01: 100%|██████████| 27/27 [00:50<00:00,  1.88s/it]\n",
      "Epoch 5/10, Validation loss: 1.46E-01: 100%|██████████| 7/7 [00:11<00:00,  1.64s/it]\n",
      "Epoch 6/10, Training loss: 1.84E-01: 100%|██████████| 27/27 [00:48<00:00,  1.78s/it]\n",
      "Epoch 6/10, Validation loss: 1.43E-01: 100%|██████████| 7/7 [00:11<00:00,  1.66s/it]\n",
      "Epoch 7/10, Training loss: 1.76E-01: 100%|██████████| 27/27 [00:48<00:00,  1.80s/it]\n",
      "Epoch 7/10, Validation loss: 1.53E-01: 100%|██████████| 7/7 [00:12<00:00,  1.71s/it]\n",
      "Epoch 8/10, Training loss: 1.69E-01: 100%|██████████| 27/27 [00:48<00:00,  1.81s/it]\n",
      "Epoch 8/10, Validation loss: 1.61E-01: 100%|██████████| 7/7 [00:11<00:00,  1.67s/it]\n",
      "Epoch 9/10, Training loss: 1.96E-01: 100%|██████████| 27/27 [00:49<00:00,  1.82s/it]\n",
      "Epoch 9/10, Validation loss: 1.60E-01: 100%|██████████| 7/7 [00:11<00:00,  1.69s/it]\n",
      "Epoch 10/10, Training loss: 1.81E-01: 100%|██████████| 27/27 [00:49<00:00,  1.82s/it]\n",
      "Epoch 10/10, Validation loss: 1.54E-01: 100%|██████████| 7/7 [00:11<00:00,  1.69s/it]\n"
     ]
    }
   ],
   "source": [
    "train_batches = len(train_triplet_dataloader)\n",
    "val_batches = len(val_triplet_dataloader)\n",
    "\n",
    "for epoch in range(NUM_EPOCHS):\n",
    "    running_train_loss = 0.0\n",
    "    running_val_loss = 0.0\n",
    "    \n",
    "    pbar = tqdm(train_triplet_dataloader, total=train_batches)\n",
    "    siamese.train()\n",
    "    for idx, batch in enumerate(pbar):\n",
    "        optimizer.zero_grad()\n",
    "        \n",
    "        anchor, positive, negative = batch\n",
    "        anchor, positive, negative = anchor.to(device), positive.to(device), negative.to(device)\n",
    "        anchor, positive, negative = anchor.permute(0, 2, 1), positive.permute(0, 2, 1), negative.permute(0, 2, 1)\n",
    "        train_loss = siamese(anchor, positive, negative)\n",
    "        running_train_loss += train_loss\n",
    "\n",
    "        # Backward pass\n",
    "        train_loss.backward()\n",
    "        optimizer.step()\n",
    "\n",
    "        pbar.set_description(f\"Epoch {epoch + 1}/{NUM_EPOCHS}, Training loss: {running_train_loss / (idx + 1):.2E}\")\n",
    "    scheduler.step()\n",
    "\n",
    "    pbar_val = tqdm(val_triplet_dataloader, total=val_batches)\n",
    "    siamese.eval()\n",
    "    with torch.no_grad():\n",
    "        for idx, batch_val in enumerate(pbar_val):\n",
    "            anchor, positive, negative = batch_val\n",
    "            anchor, positive, negative = anchor.to(device), positive.to(device), negative.to(device)\n",
    "            anchor, positive, negative = anchor.permute(0, 2, 1), positive.permute(0, 2, 1), negative.permute(0, 2, 1)\n",
    "            val_loss = siamese(anchor, positive, negative)\n",
    "            running_val_loss += val_loss\n",
    "            \n",
    "            pbar_val.set_description(f\"Epoch {epoch + 1}/{NUM_EPOCHS}, Validation loss: {running_val_loss / (idx + 1):.2E}\")\n",
    "            \n",
    "    torch.save({\n",
    "        'epoch': epoch,\n",
    "        'model_state_dict': cnn_model.state_dict(),\n",
    "        'optimizer_state_dict': optimizer.state_dict(),\n",
    "        'train_loss': running_train_loss,\n",
    "        'val_loss': running_val_loss,\n",
    "    }, f\"../data/checkpoints/siamese_classifier_{epoch + 1}.pt\")"
   ],
   "metadata": {
    "collapsed": false,
    "ExecuteTime": {
     "end_time": "2024-02-14T08:48:54.293065Z",
     "start_time": "2024-02-14T08:38:41.714822200Z"
    }
   },
   "id": "9acb973ef0d7300b",
   "execution_count": 24
  },
  {
   "cell_type": "markdown",
   "source": [
    "### Embedding"
   ],
   "metadata": {
    "collapsed": false
   },
   "id": "556d4ec82a0e02cc"
  },
  {
   "cell_type": "code",
   "outputs": [
    {
     "name": "stderr",
     "output_type": "stream",
     "text": [
      "100%|██████████| 268/268 [00:06<00:00, 41.42it/s]\n"
     ]
    }
   ],
   "source": [
    "test_batches = len(test_dataloader)\n",
    "sequence_embeddings = []\n",
    "\n",
    "pbar_test = tqdm(test_dataloader, total=test_batches)\n",
    "cnn_model.eval()\n",
    "with torch.no_grad():\n",
    "    for idx, (batch_x_test, batch_y_test) in enumerate(pbar_test):\n",
    "        batch_x_test = batch_x_test.to(device)\n",
    "        batch_x_test = batch_x_test.permute(0, 2, 1)\n",
    "        test_output = cnn_model(batch_x_test)\n",
    "        sequence_embeddings.append(test_output.cpu().numpy().squeeze())"
   ],
   "metadata": {
    "collapsed": false,
    "ExecuteTime": {
     "end_time": "2024-02-14T08:49:00.771743500Z",
     "start_time": "2024-02-14T08:48:54.284088800Z"
    }
   },
   "id": "8ba339fe11422a83",
   "execution_count": 25
  },
  {
   "cell_type": "markdown",
   "source": [
    "### Visualization"
   ],
   "metadata": {
    "collapsed": false
   },
   "id": "66940319a79806f5"
  },
  {
   "cell_type": "code",
   "outputs": [
    {
     "ename": "ValueError",
     "evalue": "The number of FixedLocator locations (10), usually from a call to set_ticks, does not match the number of labels (3).",
     "output_type": "error",
     "traceback": [
      "\u001B[1;31m---------------------------------------------------------------------------\u001B[0m",
      "\u001B[1;31mValueError\u001B[0m                                Traceback (most recent call last)",
      "Cell \u001B[1;32mIn[26], line 8\u001B[0m\n\u001B[0;32m      6\u001B[0m plt\u001B[38;5;241m.\u001B[39mgca()\u001B[38;5;241m.\u001B[39mset_aspect(\u001B[38;5;124m'\u001B[39m\u001B[38;5;124mequal\u001B[39m\u001B[38;5;124m'\u001B[39m, \u001B[38;5;124m'\u001B[39m\u001B[38;5;124mdatalim\u001B[39m\u001B[38;5;124m'\u001B[39m)\n\u001B[0;32m      7\u001B[0m cbar \u001B[38;5;241m=\u001B[39m fig\u001B[38;5;241m.\u001B[39mcolorbar(sct, ticks\u001B[38;5;241m=\u001B[39mnp\u001B[38;5;241m.\u001B[39marange(\u001B[38;5;241m10\u001B[39m), boundaries\u001B[38;5;241m=\u001B[39mnp\u001B[38;5;241m.\u001B[39marange(\u001B[38;5;241m11\u001B[39m)\u001B[38;5;241m-\u001B[39m\u001B[38;5;241m0.5\u001B[39m)\n\u001B[1;32m----> 8\u001B[0m \u001B[43mcbar\u001B[49m\u001B[38;5;241;43m.\u001B[39;49m\u001B[43max\u001B[49m\u001B[38;5;241;43m.\u001B[39;49m\u001B[43mset_yticklabels\u001B[49m\u001B[43m(\u001B[49m\u001B[43mclasses\u001B[49m\u001B[43m)\u001B[49m\n\u001B[0;32m      9\u001B[0m plt\u001B[38;5;241m.\u001B[39mtitle(\u001B[38;5;124m'\u001B[39m\u001B[38;5;124mUMAP projection of the surface embeddings\u001B[39m\u001B[38;5;124m'\u001B[39m, fontsize\u001B[38;5;241m=\u001B[39m\u001B[38;5;241m12\u001B[39m);\n",
      "File \u001B[1;32mD:\\GitHub Projects\\Surface classification\\surface-classification\\venv\\lib\\site-packages\\matplotlib\\axes\\_base.py:73\u001B[0m, in \u001B[0;36m_axis_method_wrapper.__set_name__.<locals>.wrapper\u001B[1;34m(self, *args, **kwargs)\u001B[0m\n\u001B[0;32m     72\u001B[0m \u001B[38;5;28;01mdef\u001B[39;00m \u001B[38;5;21mwrapper\u001B[39m(\u001B[38;5;28mself\u001B[39m, \u001B[38;5;241m*\u001B[39margs, \u001B[38;5;241m*\u001B[39m\u001B[38;5;241m*\u001B[39mkwargs):\n\u001B[1;32m---> 73\u001B[0m     \u001B[38;5;28;01mreturn\u001B[39;00m get_method(\u001B[38;5;28mself\u001B[39m)(\u001B[38;5;241m*\u001B[39margs, \u001B[38;5;241m*\u001B[39m\u001B[38;5;241m*\u001B[39mkwargs)\n",
      "File \u001B[1;32mD:\\GitHub Projects\\Surface classification\\surface-classification\\venv\\lib\\site-packages\\matplotlib\\_api\\deprecation.py:297\u001B[0m, in \u001B[0;36mrename_parameter.<locals>.wrapper\u001B[1;34m(*args, **kwargs)\u001B[0m\n\u001B[0;32m    292\u001B[0m     warn_deprecated(\n\u001B[0;32m    293\u001B[0m         since, message\u001B[38;5;241m=\u001B[39m\u001B[38;5;124mf\u001B[39m\u001B[38;5;124m\"\u001B[39m\u001B[38;5;124mThe \u001B[39m\u001B[38;5;132;01m{\u001B[39;00mold\u001B[38;5;132;01m!r}\u001B[39;00m\u001B[38;5;124m parameter of \u001B[39m\u001B[38;5;132;01m{\u001B[39;00mfunc\u001B[38;5;241m.\u001B[39m\u001B[38;5;18m__name__\u001B[39m\u001B[38;5;132;01m}\u001B[39;00m\u001B[38;5;124m() \u001B[39m\u001B[38;5;124m\"\u001B[39m\n\u001B[0;32m    294\u001B[0m         \u001B[38;5;124mf\u001B[39m\u001B[38;5;124m\"\u001B[39m\u001B[38;5;124mhas been renamed \u001B[39m\u001B[38;5;132;01m{\u001B[39;00mnew\u001B[38;5;132;01m!r}\u001B[39;00m\u001B[38;5;124m since Matplotlib \u001B[39m\u001B[38;5;132;01m{\u001B[39;00msince\u001B[38;5;132;01m}\u001B[39;00m\u001B[38;5;124m; support \u001B[39m\u001B[38;5;124m\"\u001B[39m\n\u001B[0;32m    295\u001B[0m         \u001B[38;5;124mf\u001B[39m\u001B[38;5;124m\"\u001B[39m\u001B[38;5;124mfor the old name will be dropped %(removal)s.\u001B[39m\u001B[38;5;124m\"\u001B[39m)\n\u001B[0;32m    296\u001B[0m     kwargs[new] \u001B[38;5;241m=\u001B[39m kwargs\u001B[38;5;241m.\u001B[39mpop(old)\n\u001B[1;32m--> 297\u001B[0m \u001B[38;5;28;01mreturn\u001B[39;00m func(\u001B[38;5;241m*\u001B[39margs, \u001B[38;5;241m*\u001B[39m\u001B[38;5;241m*\u001B[39mkwargs)\n",
      "File \u001B[1;32mD:\\GitHub Projects\\Surface classification\\surface-classification\\venv\\lib\\site-packages\\matplotlib\\axis.py:2025\u001B[0m, in \u001B[0;36mAxis.set_ticklabels\u001B[1;34m(self, labels, minor, fontdict, **kwargs)\u001B[0m\n\u001B[0;32m   2021\u001B[0m \u001B[38;5;28;01melif\u001B[39;00m \u001B[38;5;28misinstance\u001B[39m(locator, mticker\u001B[38;5;241m.\u001B[39mFixedLocator):\n\u001B[0;32m   2022\u001B[0m     \u001B[38;5;66;03m# Passing [] as a list of labels is often used as a way to\u001B[39;00m\n\u001B[0;32m   2023\u001B[0m     \u001B[38;5;66;03m# remove all tick labels, so only error for > 0 labels\u001B[39;00m\n\u001B[0;32m   2024\u001B[0m     \u001B[38;5;28;01mif\u001B[39;00m \u001B[38;5;28mlen\u001B[39m(locator\u001B[38;5;241m.\u001B[39mlocs) \u001B[38;5;241m!=\u001B[39m \u001B[38;5;28mlen\u001B[39m(labels) \u001B[38;5;129;01mand\u001B[39;00m \u001B[38;5;28mlen\u001B[39m(labels) \u001B[38;5;241m!=\u001B[39m \u001B[38;5;241m0\u001B[39m:\n\u001B[1;32m-> 2025\u001B[0m         \u001B[38;5;28;01mraise\u001B[39;00m \u001B[38;5;167;01mValueError\u001B[39;00m(\n\u001B[0;32m   2026\u001B[0m             \u001B[38;5;124m\"\u001B[39m\u001B[38;5;124mThe number of FixedLocator locations\u001B[39m\u001B[38;5;124m\"\u001B[39m\n\u001B[0;32m   2027\u001B[0m             \u001B[38;5;124mf\u001B[39m\u001B[38;5;124m\"\u001B[39m\u001B[38;5;124m (\u001B[39m\u001B[38;5;132;01m{\u001B[39;00m\u001B[38;5;28mlen\u001B[39m(locator\u001B[38;5;241m.\u001B[39mlocs)\u001B[38;5;132;01m}\u001B[39;00m\u001B[38;5;124m), usually from a call to\u001B[39m\u001B[38;5;124m\"\u001B[39m\n\u001B[0;32m   2028\u001B[0m             \u001B[38;5;124m\"\u001B[39m\u001B[38;5;124m set_ticks, does not match\u001B[39m\u001B[38;5;124m\"\u001B[39m\n\u001B[0;32m   2029\u001B[0m             \u001B[38;5;124mf\u001B[39m\u001B[38;5;124m\"\u001B[39m\u001B[38;5;124m the number of labels (\u001B[39m\u001B[38;5;132;01m{\u001B[39;00m\u001B[38;5;28mlen\u001B[39m(labels)\u001B[38;5;132;01m}\u001B[39;00m\u001B[38;5;124m).\u001B[39m\u001B[38;5;124m\"\u001B[39m)\n\u001B[0;32m   2030\u001B[0m     tickd \u001B[38;5;241m=\u001B[39m {loc: lab \u001B[38;5;28;01mfor\u001B[39;00m loc, lab \u001B[38;5;129;01min\u001B[39;00m \u001B[38;5;28mzip\u001B[39m(locator\u001B[38;5;241m.\u001B[39mlocs, labels)}\n\u001B[0;32m   2031\u001B[0m     func \u001B[38;5;241m=\u001B[39m functools\u001B[38;5;241m.\u001B[39mpartial(\u001B[38;5;28mself\u001B[39m\u001B[38;5;241m.\u001B[39m_format_with_dict, tickd)\n",
      "\u001B[1;31mValueError\u001B[0m: The number of FixedLocator locations (10), usually from a call to set_ticks, does not match the number of labels (3)."
     ]
    },
    {
     "data": {
      "text/plain": "<Figure size 1200x900 with 2 Axes>",
      "image/png": "[encoded data removed]"
     },
     "metadata": {},
     "output_type": "display_data"
    }
   ],
   "source": [
    "fig, ax = plt.subplots(figsize=(12, 9))\n",
    "reducer = umap.UMAP(random_state=226313, n_jobs=1)\n",
    "reducer.fit(sequence_embeddings)\n",
    "embedding = reducer.transform(sequence_embeddings)\n",
    "sct = plt.scatter(embedding[:, 0], embedding[:, 1], c=y_test, cmap='Spectral', s=20, alpha=0.8)\n",
    "plt.gca().set_aspect('equal', 'datalim')\n",
    "cbar = fig.colorbar(sct, ticks=np.arange(10), boundaries=np.arange(11)-0.5)\n",
    "cbar.ax.set_yticklabels(classes)\n",
    "plt.title('UMAP projection of the surface embeddings', fontsize=12);"
   ],
   "metadata": {
    "collapsed": false,
    "ExecuteTime": {
     "end_time": "2024-02-14T08:49:02.273570400Z",
     "start_time": "2024-02-14T08:49:00.772740900Z"
    }
   },
   "id": "ac58bb2f0fe4fdb5",
   "execution_count": 26
  },
  {
   "cell_type": "markdown",
   "source": [
    "### One-hot labels encoding"
   ],
   "metadata": {
    "collapsed": false
   },
   "id": "1b12aab4bdc71f6d"
  },
  {
   "cell_type": "code",
   "outputs": [],
   "source": [
    "lb = LabelBinarizer()\n",
    "lb.fit(y)\n",
    "y_train = lb.transform(y_train)\n",
    "y_val = lb.transform(y_val)\n",
    "y_test = lb.transform(y_test)"
   ],
   "metadata": {
    "collapsed": false,
    "ExecuteTime": {
     "end_time": "2024-02-14T08:05:31.849531100Z",
     "start_time": "2024-02-14T08:05:31.835568300Z"
    }
   },
   "id": "1bbe91478639429a",
   "execution_count": 21
  },
  {
   "cell_type": "markdown",
   "source": [
    "### Classification layer"
   ],
   "metadata": {
    "collapsed": false
   },
   "id": "a950ddbc49f351e0"
  },
  {
   "cell_type": "code",
   "outputs": [],
   "source": [
    "class LinearClassifier(nn.Module):\n",
    "    def __init__(self, input_size=None, output_size=None):\n",
    "        super().__init__()\n",
    "        self.input_size = input_size\n",
    "        self.output_size = output_size\n",
    "        \n",
    "        self.encoder = cnn_model\n",
    "        \n",
    "        for param in self.encoder.parameters():\n",
    "            param.requires_grad = False\n",
    "        \n",
    "        self.fc = nn.Sequential(\n",
    "            nn.Linear(self.input_size, 128),\n",
    "            nn.ReLU(),\n",
    "            nn.Linear(128, self.output_size),\n",
    "        )\n",
    "\n",
    "    def forward(self, x):\n",
    "        x = self.encoder(x)\n",
    "        return self.fc(x)\n",
    "\n",
    "model = LinearClassifier(input_size=EMBEDDING_SIZE, output_size=num_classes).to(device)"
   ],
   "metadata": {
    "collapsed": false,
    "ExecuteTime": {
     "end_time": "2024-02-11T22:23:42.638328100Z",
     "start_time": "2024-02-11T22:23:42.610403700Z"
    }
   },
   "id": "79ff2366e2710959",
   "execution_count": 43
  },
  {
   "cell_type": "markdown",
   "source": [
    "### Loss function"
   ],
   "metadata": {
    "collapsed": false
   },
   "id": "7ebc294fa2a81756"
  },
  {
   "cell_type": "code",
   "outputs": [],
   "source": [
    "criterion = nn.CrossEntropyLoss()"
   ],
   "metadata": {
    "collapsed": false,
    "ExecuteTime": {
     "end_time": "2024-02-11T22:09:23.152538200Z",
     "start_time": "2024-02-11T22:09:23.124614100Z"
    }
   },
   "id": "53b7ad77660f2465",
   "execution_count": 33
  },
  {
   "cell_type": "markdown",
   "source": [
    "### Optimizer"
   ],
   "metadata": {
    "collapsed": false
   },
   "id": "245be7b91d9180fe"
  },
  {
   "cell_type": "code",
   "outputs": [],
   "source": [
    "optimizer = torch.optim.Adam(\n",
    "    cnn_model.parameters(),\n",
    "    lr=1e-3,\n",
    "    eps=1e-6,\n",
    "    weight_decay=1e-3,\n",
    "    )\n",
    "scheduler = ExponentialLR(optimizer, gamma=0.9)"
   ],
   "metadata": {
    "collapsed": false,
    "ExecuteTime": {
     "end_time": "2024-02-11T22:27:50.703432100Z",
     "start_time": "2024-02-11T22:27:50.685966800Z"
    }
   },
   "id": "9da819f649a9225d",
   "execution_count": 46
  },
  {
   "cell_type": "markdown",
   "source": [
    "### Training loop"
   ],
   "metadata": {
    "collapsed": false
   },
   "id": "b9b15439da4bf9ca"
  },
  {
   "cell_type": "code",
   "outputs": [
    {
     "name": "stderr",
     "output_type": "stream",
     "text": [
      "Epoch 1/10, Training loss: 2.30E+00: 100%|██████████| 27/27 [00:20<00:00,  1.30it/s]\n",
      "Epoch 1/10, Validation loss: 2.30E+00: 100%|██████████| 7/7 [00:04<00:00,  1.50it/s]\n",
      "Epoch 2/10, Training loss: 2.30E+00: 100%|██████████| 27/27 [00:16<00:00,  1.60it/s]\n",
      "Epoch 2/10, Validation loss: 2.30E+00: 100%|██████████| 7/7 [00:04<00:00,  1.63it/s]\n",
      "Epoch 3/10, Training loss: 2.30E+00: 100%|██████████| 27/27 [00:18<00:00,  1.43it/s]\n",
      "Epoch 3/10, Validation loss: 2.30E+00: 100%|██████████| 7/7 [00:04<00:00,  1.62it/s]\n",
      "Epoch 4/10, Training loss: 2.30E+00: 100%|██████████| 27/27 [00:16<00:00,  1.61it/s]\n",
      "Epoch 4/10, Validation loss: 2.30E+00: 100%|██████████| 7/7 [00:04<00:00,  1.65it/s]\n",
      "Epoch 5/10, Training loss: 2.30E+00: 100%|██████████| 27/27 [00:19<00:00,  1.39it/s]\n",
      "Epoch 5/10, Validation loss: 2.30E+00: 100%|██████████| 7/7 [00:05<00:00,  1.33it/s]\n",
      "Epoch 6/10, Training loss: 2.30E+00: 100%|██████████| 27/27 [00:17<00:00,  1.55it/s]\n",
      "Epoch 6/10, Validation loss: 2.30E+00: 100%|██████████| 7/7 [00:04<00:00,  1.66it/s]\n",
      "Epoch 7/10, Training loss: 2.30E+00: 100%|██████████| 27/27 [00:16<00:00,  1.62it/s]\n",
      "Epoch 7/10, Validation loss: 2.30E+00: 100%|██████████| 7/7 [00:04<00:00,  1.64it/s]\n",
      "Epoch 8/10, Training loss: 2.30E+00: 100%|██████████| 27/27 [00:16<00:00,  1.63it/s]\n",
      "Epoch 8/10, Validation loss: 2.30E+00: 100%|██████████| 7/7 [00:04<00:00,  1.66it/s]\n",
      "Epoch 9/10, Training loss: 2.30E+00: 100%|██████████| 27/27 [00:16<00:00,  1.64it/s]\n",
      "Epoch 9/10, Validation loss: 2.30E+00: 100%|██████████| 7/7 [00:04<00:00,  1.65it/s]\n",
      "Epoch 10/10, Training loss: 2.30E+00: 100%|██████████| 27/27 [00:16<00:00,  1.63it/s]\n",
      "Epoch 10/10, Validation loss: 2.30E+00: 100%|██████████| 7/7 [00:04<00:00,  1.65it/s]\n"
     ]
    }
   ],
   "source": [
    "train_batches = len(train_dataloader)\n",
    "val_batches = len(val_dataloader)\n",
    "\n",
    "for epoch in range(NUM_EPOCHS):\n",
    "    running_train_loss = 0.0\n",
    "    running_val_loss = 0.0\n",
    "    \n",
    "    pbar = tqdm(train_dataloader, total=train_batches)\n",
    "    model.train()\n",
    "    for idx, (batch_x, batch_y) in enumerate(pbar):\n",
    "        optimizer.zero_grad()\n",
    "        \n",
    "        batch_x, batch_y = batch_x.to(device), batch_y.to(device)\n",
    "        batch_x = batch_x.permute(0, 2, 1)\n",
    "        train_outputs = model(batch_x)\n",
    "        train_loss = criterion(train_outputs, batch_y)\n",
    "        running_train_loss += train_loss\n",
    "\n",
    "        # Backward pass\n",
    "        train_loss.backward()\n",
    "        optimizer.step()\n",
    "\n",
    "        pbar.set_description(f\"Epoch {epoch + 1}/{NUM_EPOCHS}, Training loss: {running_train_loss / (idx + 1):.2E}\")\n",
    "    scheduler.step()\n",
    "\n",
    "    pbar_val = tqdm(val_dataloader, total=val_batches)\n",
    "    model.eval()\n",
    "    with torch.no_grad():\n",
    "        for idx, (batch_x_val, batch_y_val) in enumerate(pbar_val):\n",
    "            batch_x_val, batch_y_val = batch_x_val.to(device), batch_y_val.to(device)\n",
    "            batch_x_val = batch_x_val.permute(0, 2, 1)\n",
    "            val_outputs = model(batch_x_val)\n",
    "            val_loss = criterion(val_outputs, batch_y_val)\n",
    "            running_val_loss += val_loss\n",
    "            \n",
    "            pbar_val.set_description(f\"Epoch {epoch + 1}/{NUM_EPOCHS}, Validation loss: {running_val_loss / (idx + 1):.2E}\")\n",
    "            \n",
    "    torch.save({\n",
    "        'epoch': epoch,\n",
    "        'model_state_dict': cnn_model.state_dict(),\n",
    "        'optimizer_state_dict': optimizer.state_dict(),\n",
    "        'train_loss': running_train_loss,\n",
    "        'val_loss': running_val_loss,\n",
    "    }, f\"../data/checkpoints/cnn_classifier_{epoch + 1}.pt\")"
   ],
   "metadata": {
    "collapsed": false,
    "ExecuteTime": {
     "end_time": "2024-02-11T22:31:33.077217400Z",
     "start_time": "2024-02-11T22:27:52.454250400Z"
    }
   },
   "id": "afc7321645425ecc",
   "execution_count": 47
  },
  {
   "cell_type": "markdown",
   "source": [
    "### Test"
   ],
   "metadata": {
    "collapsed": false
   },
   "id": "ef491e948e917e3d"
  },
  {
   "cell_type": "code",
   "outputs": [
    {
     "name": "stderr",
     "output_type": "stream",
     "text": [
      "Test loss: 2.30E+00: 100%|██████████| 268/268 [00:07<00:00, 35.03it/s]\n"
     ]
    }
   ],
   "source": [
    "test_batches = len(test_dataloader)\n",
    "y_pred = []\n",
    "running_test_loss = 0.0\n",
    "\n",
    "pbar_test = tqdm(test_dataloader, total=test_batches)\n",
    "model.eval()\n",
    "with torch.no_grad():\n",
    "    for idx, (batch_x_test, batch_y_test) in enumerate(pbar_test):\n",
    "        batch_x_test, batch_y_test = batch_x_test.to(device), batch_y_test.to(device)\n",
    "        batch_x_test = batch_x_test.permute(0, 2, 1)\n",
    "        test_outputs = model(batch_x_test)\n",
    "        test_loss = criterion(test_outputs, batch_y_test)\n",
    "        y_pred.append(torch.argmax(test_outputs).cpu().numpy())\n",
    "        running_test_loss += test_loss\n",
    "        \n",
    "        pbar_test.set_description(f\"Test loss: {running_test_loss / (idx + 1):.2E}\")"
   ],
   "metadata": {
    "collapsed": false,
    "ExecuteTime": {
     "end_time": "2024-02-11T22:31:40.734129700Z",
     "start_time": "2024-02-11T22:31:33.065228500Z"
    }
   },
   "id": "a74fb4fba5791ec5",
   "execution_count": 48
  },
  {
   "cell_type": "markdown",
   "source": [
    "### Confusion matrix"
   ],
   "metadata": {
    "collapsed": false
   },
   "id": "afa4be467a419cc3"
  },
  {
   "cell_type": "code",
   "outputs": [
    {
     "name": "stderr",
     "output_type": "stream",
     "text": [
      "D:\\GitHub Projects\\Surface classification\\surface-classification\\venv\\lib\\site-packages\\sklearn\\metrics\\_classification.py:1497: UndefinedMetricWarning: Precision is ill-defined and being set to 0.0 in labels with no predicted samples. Use `zero_division` parameter to control this behavior.\n",
      "  _warn_prf(average, modifier, f\"{metric.capitalize()} is\", len(result))\n",
      "D:\\GitHub Projects\\Surface classification\\surface-classification\\venv\\lib\\site-packages\\sklearn\\metrics\\_classification.py:1497: UndefinedMetricWarning: Precision is ill-defined and being set to 0.0 in labels with no predicted samples. Use `zero_division` parameter to control this behavior.\n",
      "  _warn_prf(average, modifier, f\"{metric.capitalize()} is\", len(result))\n",
      "D:\\GitHub Projects\\Surface classification\\surface-classification\\venv\\lib\\site-packages\\sklearn\\metrics\\_classification.py:1497: UndefinedMetricWarning: Precision is ill-defined and being set to 0.0 in labels with no predicted samples. Use `zero_division` parameter to control this behavior.\n",
      "  _warn_prf(average, modifier, f\"{metric.capitalize()} is\", len(result))\n"
     ]
    },
    {
     "name": "stdout",
     "output_type": "stream",
     "text": [
      "                     precision    recall  f1-score   support\n",
      "\n",
      "   10_Mata_ukladana       0.00      0.00      0.00        27\n",
      "           1_Panele       0.00      0.00      0.00        28\n",
      "2_Wykladzina_czarna       0.40      0.07      0.12        27\n",
      " 3_Wykladzina_jasna       0.00      0.00      0.00        26\n",
      "            4_Trawa       0.00      0.00      0.00        27\n",
      "    5_Spienione_PCV       0.07      0.50      0.12        26\n",
      "         6_Linoleum       0.00      0.00      0.00        26\n",
      "    7_Plytki_w_sali       0.00      0.00      0.00        27\n",
      "      8_Pusta_plyta       0.00      0.00      0.00        26\n",
      "         9_podklady       0.00      0.00      0.00        28\n",
      "\n",
      "           accuracy                           0.06       268\n",
      "          macro avg       0.05      0.06      0.02       268\n",
      "       weighted avg       0.05      0.06      0.02       268\n"
     ]
    },
    {
     "data": {
      "text/plain": "<Figure size 1000x1000 with 2 Axes>",
      "image/png": "[encoded data removed]"
     },
     "metadata": {},
     "output_type": "display_data"
    }
   ],
   "source": [
    "plt.style.use('default')\n",
    "fig, ax = plt.subplots(figsize=(10, 10))\n",
    "\n",
    "# y_test = lb.inverse_transform(y_test)\n",
    "print(classification_report(y_test, y_pred, target_names=classes))\n",
    "disp = ConfusionMatrixDisplay.from_predictions(y_test, y_pred, display_labels=classes, xticks_rotation='vertical', cmap='Blues', ax=ax)"
   ],
   "metadata": {
    "collapsed": false,
    "ExecuteTime": {
     "end_time": "2024-02-11T22:34:58.659755600Z",
     "start_time": "2024-02-11T22:34:58.109314200Z"
    }
   },
   "id": "68b58d90dc740fc0",
   "execution_count": 50
  },
  {
   "cell_type": "code",
   "outputs": [],
   "source": [],
   "metadata": {
    "collapsed": false
   },
   "id": "c1153beb7a82bb42"
  }
 ],
 "metadata": {
  "kernelspec": {
   "display_name": "Python 3",
   "language": "python",
   "name": "python3"
  },
  "language_info": {
   "codemirror_mode": {
    "name": "ipython",
    "version": 2
   },
   "file_extension": ".py",
   "mimetype": "text/x-python",
   "name": "python",
   "nbconvert_exporter": "python",
   "pygments_lexer": "ipython2",
   "version": "2.7.6"
  }
 },
 "nbformat": 4,
 "nbformat_minor": 5
}
