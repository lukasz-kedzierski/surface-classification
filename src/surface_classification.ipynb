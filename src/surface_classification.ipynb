{
 "cells": [
  {
   "cell_type": "markdown",
   "source": [
    "### Imports"
   ],
   "metadata": {
    "collapsed": false
   },
   "id": "9afebad71082b978"
  },
  {
   "cell_type": "code",
   "outputs": [],
   "source": [
    "import json\n",
    "import matplotlib.pyplot as plt\n",
    "import pandas as pd\n",
    "import random\n",
    "\n",
    "from collections import OrderedDict\n",
    "from pathlib import Path\n",
    "from sklearn.metrics import classification_report, ConfusionMatrixDisplay\n",
    "from sklearn.model_selection import train_test_split\n",
    "from sklearn.preprocessing import LabelEncoder, LabelBinarizer\n",
    "from tqdm import tqdm\n",
    "\n",
    "import torch\n",
    "import torch.nn as nn\n",
    "from torch.optim.lr_scheduler import ExponentialLR\n",
    "from torch.utils.data import DataLoader, Dataset\n",
    "from torchinfo import summary"
   ],
   "metadata": {
    "collapsed": false,
    "ExecuteTime": {
     "end_time": "2024-02-08T16:51:25.759485900Z",
     "start_time": "2024-02-08T16:51:21.023155200Z"
    }
   },
   "id": "7bbbfa68a2c2ad9a",
   "execution_count": 1
  },
  {
   "cell_type": "markdown",
   "source": [
    "### Device"
   ],
   "metadata": {
    "collapsed": false
   },
   "id": "be243189c890a753"
  },
  {
   "cell_type": "code",
   "outputs": [
    {
     "data": {
      "text/plain": "'cuda:0'"
     },
     "execution_count": 2,
     "metadata": {},
     "output_type": "execute_result"
    }
   ],
   "source": [
    "device = \"cuda:0\" if torch.cuda.is_available() else \"cpu\"\n",
    "device"
   ],
   "metadata": {
    "collapsed": false,
    "ExecuteTime": {
     "end_time": "2024-02-08T16:51:29.310031700Z",
     "start_time": "2024-02-08T16:51:29.264154600Z"
    }
   },
   "id": "da0434b42f73b25a",
   "execution_count": 2
  },
  {
   "cell_type": "markdown",
   "source": [
    "### Constants"
   ],
   "metadata": {
    "collapsed": false
   },
   "id": "87b62f1e105bcc84"
  },
  {
   "cell_type": "code",
   "outputs": [],
   "source": [
    "BATCH_SIZE = 32\n",
    "INPUT_SIZE = 12\n",
    "NUM_LAYERS = 3\n",
    "NUM_EPOCHS = 10\n",
    "DATA_DIR = Path('../data/dataset/')\n",
    "LOOKBACK = 2.5\n",
    "LOWEST_FREQUENCY = 50"
   ],
   "metadata": {
    "collapsed": false,
    "ExecuteTime": {
     "end_time": "2024-02-08T16:51:31.045464500Z",
     "start_time": "2024-02-08T16:51:31.015542900Z"
    }
   },
   "id": "66b5555a4fa10241",
   "execution_count": 3
  },
  {
   "cell_type": "markdown",
   "source": [
    "### Load and split data"
   ],
   "metadata": {
    "collapsed": false
   },
   "id": "5529717ff2812af0"
  },
  {
   "cell_type": "code",
   "outputs": [],
   "source": [
    "with open('../data/labels.json') as fp:\n",
    "    labels = json.load(fp)"
   ],
   "metadata": {
    "collapsed": false,
    "ExecuteTime": {
     "end_time": "2024-02-08T16:51:32.223288400Z",
     "start_time": "2024-02-08T16:51:32.184392200Z"
    }
   },
   "id": "503fce34bed6d813",
   "execution_count": 4
  },
  {
   "cell_type": "code",
   "outputs": [],
   "source": [
    "dataset = [(DATA_DIR.joinpath(key + '.csv'), values['surface']) for key, values in labels.items() if values['kinematics'] in ('4W', '6W') and values['spacing'] == 'R1']"
   ],
   "metadata": {
    "collapsed": false,
    "ExecuteTime": {
     "end_time": "2024-02-08T16:51:32.826688400Z",
     "start_time": "2024-02-08T16:51:32.798735300Z"
    }
   },
   "id": "96bb38f00e195362",
   "execution_count": 5
  },
  {
   "cell_type": "code",
   "outputs": [],
   "source": [
    "X = pd.Series([run[0] for run in dataset], name='bag_name')\n",
    "y = [run[1] for run in dataset]"
   ],
   "metadata": {
    "collapsed": false,
    "ExecuteTime": {
     "end_time": "2024-02-08T16:51:33.498939700Z",
     "start_time": "2024-02-08T16:51:33.479990400Z"
    }
   },
   "id": "ac562fc5c93cd196",
   "execution_count": 6
  },
  {
   "cell_type": "code",
   "outputs": [],
   "source": [
    "le = LabelEncoder()\n",
    "le.fit(y)\n",
    "classes = le.classes_\n",
    "num_classes = len(classes)\n",
    "y = le.transform(y)\n",
    "y = y.reshape(-1, 1)\n",
    "lb = LabelBinarizer()\n",
    "lb.fit(y)\n",
    "y = lb.transform(y)"
   ],
   "metadata": {
    "collapsed": false,
    "ExecuteTime": {
     "end_time": "2024-02-08T16:51:34.096608400Z",
     "start_time": "2024-02-08T16:51:34.073667900Z"
    }
   },
   "id": "12c19c5cb6813ca",
   "execution_count": 7
  },
  {
   "cell_type": "code",
   "outputs": [],
   "source": [
    "X_training, X_test, y_training, y_test = train_test_split(X, y, test_size=0.2, stratify=y)\n",
    "X_train, X_val, y_train, y_val = train_test_split(X_training, y_training, test_size=0.2, stratify=y_training)\n",
    "X_train.reset_index(drop=True, inplace=True)\n",
    "X_val.reset_index(drop=True, inplace=True)\n",
    "X_test.reset_index(drop=True, inplace=True)"
   ],
   "metadata": {
    "collapsed": false,
    "ExecuteTime": {
     "end_time": "2024-02-08T16:51:34.729873500Z",
     "start_time": "2024-02-08T16:51:34.669323900Z"
    }
   },
   "id": "eed3b5f73250bcce",
   "execution_count": 8
  },
  {
   "cell_type": "markdown",
   "source": [
    "### Custom dataset"
   ],
   "metadata": {
    "collapsed": false
   },
   "id": "c59200394bfc51d7"
  },
  {
   "cell_type": "code",
   "outputs": [],
   "source": [
    "class SurfaceDataset(Dataset):\n",
    "    def __init__(self, samples, labels, frequency=50, lookback=1):\n",
    "        \"\"\"        \n",
    "        Args:\n",
    "            samples: An array of time series, first dimension is time steps\n",
    "            labels: An array of surface labels\n",
    "            frequency: The lowest frequency of collected data\n",
    "            lookback: Size of window for prediction\n",
    "        \"\"\"\n",
    "\n",
    "        self.samples = samples\n",
    "        self.labels = labels\n",
    "        self.frequency = frequency\n",
    "        self.lookback = int(lookback * self.frequency)\n",
    "        self.stride = int(300 / self.frequency)\n",
    "        self.window_length = self.lookback * self.stride\n",
    "\n",
    "    def __len__(self):\n",
    "        return len(self.labels)\n",
    "\n",
    "    def __getitem__(self, idx):\n",
    "        \"\"\"\n",
    "        Retrieve a single, windowed time series from dataset\n",
    "        \"\"\"\n",
    "\n",
    "        sample = self.samples[idx]\n",
    "        run = pd.read_csv(sample, index_col=[0]).drop('Time', axis=1)\n",
    "        initial_timestep = random.randint(0, (len(run) - 1) - self.window_length)\n",
    "        final_timestep = initial_timestep + self.window_length\n",
    "        timesteps = list(range(initial_timestep, final_timestep + self.stride, self.stride))\n",
    "        \n",
    "        X = run.iloc[timesteps].to_numpy()\n",
    "        y = self.labels[idx]\n",
    "        \n",
    "        return torch.tensor(X, dtype=torch.float), torch.tensor(y, dtype=torch.float)\n",
    "    \n",
    "train_dataloader = DataLoader(SurfaceDataset(X_train, y_train, frequency=LOWEST_FREQUENCY, lookback=LOOKBACK), batch_size=BATCH_SIZE, shuffle=True)\n",
    "val_dataloader = DataLoader(SurfaceDataset(X_val, y_val, frequency=LOWEST_FREQUENCY, lookback=LOOKBACK), batch_size=BATCH_SIZE)\n",
    "test_dataloader = DataLoader(SurfaceDataset(X_test, y_test, frequency=LOWEST_FREQUENCY, lookback=LOOKBACK), batch_size=1)"
   ],
   "metadata": {
    "collapsed": false,
    "ExecuteTime": {
     "end_time": "2024-02-08T16:51:35.905863700Z",
     "start_time": "2024-02-08T16:51:35.868454600Z"
    }
   },
   "id": "18f462da904175a6",
   "execution_count": 9
  },
  {
   "cell_type": "markdown",
   "source": [
    "### Models"
   ],
   "metadata": {
    "collapsed": false
   },
   "id": "96daed4787b63f69"
  },
  {
   "cell_type": "code",
   "outputs": [],
   "source": [
    "class LSTMSurfaceClassifier(nn.Module):\n",
    "    def __init__(self, input_size=None, output_size=None, hidden_size=256, num_layers=3):\n",
    "        super(LSTMSurfaceClassifier, self).__init__()\n",
    "        self.lstm = nn.LSTM(input_size, hidden_size, num_layers, batch_first=True, dropout=0.8)\n",
    "        self.fc = nn.Linear(hidden_size, output_size)\n",
    "\n",
    "    def forward(self, x):\n",
    "        out, _ = self.lstm(x)\n",
    "        out = self.fc(out[:, -1, :])  # Use the last output in the sequence for classification\n",
    "        return out\n",
    "\n",
    "# Define model\n",
    "hidden_size = 100\n",
    "lstm_model = LSTMSurfaceClassifier(input_size=INPUT_SIZE, output_size=num_classes, hidden_size=hidden_size, num_layers=NUM_LAYERS).to(device)"
   ],
   "metadata": {
    "collapsed": false,
    "ExecuteTime": {
     "end_time": "2024-02-08T16:51:37.496352200Z",
     "start_time": "2024-02-08T16:51:37.075593900Z"
    }
   },
   "id": "9fd5bb25deb67831",
   "execution_count": 10
  },
  {
   "cell_type": "code",
   "outputs": [],
   "source": [
    "class CNNSurfaceClassifier(nn.Module):\n",
    "    def __init__(self, input_size=None, output_size=None, kernel_size=3, num_blocks=3):\n",
    "        super().__init__()\n",
    "        self.input_size = input_size\n",
    "        self.output_size = output_size\n",
    "        self.kernel_size = kernel_size\n",
    "        self.num_blocks = num_blocks\n",
    "        \n",
    "        self.model = nn.Sequential(\n",
    "            nn.Conv1d(self.input_size, 128, self.kernel_size, stride=2),\n",
    "            # nn.BatchNorm1d(self.input_size),\n",
    "            # nn.MaxPool1d(self.kernel_size),\n",
    "            nn.ReLU(),\n",
    "            # nn.Dropout(p=0.2),\n",
    "            nn.Conv1d(128, 256, self.kernel_size, stride=2),\n",
    "            # nn.BatchNorm1d(self.input_size),\n",
    "            # nn.MaxPool1d(self.kernel_size),\n",
    "            nn.ReLU(),\n",
    "            # nn.Dropout(p=0.2),\n",
    "            nn.Conv1d(256, 512, self.kernel_size, stride=2),\n",
    "            # nn.BatchNorm1d(self.input_size),\n",
    "            # nn.MaxPool1d(self.kernel_size),\n",
    "            nn.ReLU(),\n",
    "            # nn.Dropout(p=0.2),\n",
    "        )\n",
    "        self.fc = nn.Sequential(\n",
    "            nn.Flatten(),\n",
    "            nn.Linear(3072, self.output_size),\n",
    "        )\n",
    "\n",
    "    def forward(self, x):\n",
    "        x = self.model(x)\n",
    "        return self.fc(x)\n",
    "\n",
    "kernel_size = int(LOOKBACK * LOWEST_FREQUENCY) // 10\n",
    "if not kernel_size % 2:\n",
    "    kernel_size += 1\n",
    "cnn_model = CNNSurfaceClassifier(input_size=INPUT_SIZE, output_size=num_classes, kernel_size=kernel_size, num_blocks=NUM_LAYERS).to(device)"
   ],
   "metadata": {
    "collapsed": false,
    "ExecuteTime": {
     "end_time": "2024-02-08T16:52:14.572602500Z",
     "start_time": "2024-02-08T16:52:14.538692300Z"
    }
   },
   "id": "94fa64fc85b948aa",
   "execution_count": 17
  },
  {
   "cell_type": "code",
   "outputs": [
    {
     "data": {
      "text/plain": "=================================================================\nLayer (type:depth-idx)                   Param #\n=================================================================\nCNNSurfaceClassifier                     --\n├─Sequential: 1-1                        --\n│    └─Conv1d: 2-1                       20,096\n│    └─ReLU: 2-2                         --\n│    └─Conv1d: 2-3                       426,240\n│    └─ReLU: 2-4                         --\n│    └─Conv1d: 2-5                       1,704,448\n│    └─ReLU: 2-6                         --\n├─Sequential: 1-2                        --\n│    └─Flatten: 2-7                      --\n│    └─Linear: 2-8                       30,730\n=================================================================\nTotal params: 2,181,514\nTrainable params: 2,181,514\nNon-trainable params: 0\n================================================================="
     },
     "execution_count": 18,
     "metadata": {},
     "output_type": "execute_result"
    }
   ],
   "source": [
    "summary(cnn_model)"
   ],
   "metadata": {
    "collapsed": false,
    "ExecuteTime": {
     "end_time": "2024-02-08T16:52:15.396422600Z",
     "start_time": "2024-02-08T16:52:15.363941600Z"
    }
   },
   "id": "ba8c50a1e9708d52",
   "execution_count": 18
  },
  {
   "cell_type": "markdown",
   "source": [
    "### Loss function"
   ],
   "metadata": {
    "collapsed": false
   },
   "id": "1eb74cc30ec4f075"
  },
  {
   "cell_type": "code",
   "outputs": [],
   "source": [
    "criterion = nn.CrossEntropyLoss()"
   ],
   "metadata": {
    "collapsed": false,
    "ExecuteTime": {
     "end_time": "2024-02-08T16:52:19.984597700Z",
     "start_time": "2024-02-08T16:52:19.956672200Z"
    }
   },
   "id": "1ec9144e4d480a2d",
   "execution_count": 19
  },
  {
   "cell_type": "markdown",
   "source": [
    "### Optimizer"
   ],
   "metadata": {
    "collapsed": false
   },
   "id": "fa4d99f3eb297adf"
  },
  {
   "cell_type": "code",
   "outputs": [],
   "source": [
    "optimizer = torch.optim.Adam(\n",
    "    cnn_model.parameters(),\n",
    "    lr=1e-3,\n",
    "    eps=1e-6,\n",
    "    weight_decay=1e-3,\n",
    "    )\n",
    "scheduler = ExponentialLR(optimizer, gamma=0.9)"
   ],
   "metadata": {
    "collapsed": false,
    "ExecuteTime": {
     "end_time": "2024-02-08T16:52:20.976742600Z",
     "start_time": "2024-02-08T16:52:20.942323600Z"
    }
   },
   "id": "a7fb9f74376bf1fc",
   "execution_count": 20
  },
  {
   "cell_type": "markdown",
   "source": [
    "### Early stopping"
   ],
   "metadata": {
    "collapsed": false
   },
   "id": "3457623a134ea771"
  },
  {
   "cell_type": "code",
   "outputs": [],
   "source": [
    "class EarlyStopper:\n",
    "    def __init__(self, patience=1, min_delta=0):\n",
    "        self.patience = patience\n",
    "        self.min_delta = min_delta\n",
    "        self.counter = 0\n",
    "        self.min_validation_loss = float('inf')\n",
    "\n",
    "    def early_stop(self, validation_loss):\n",
    "        if validation_loss < self.min_validation_loss:\n",
    "            self.min_validation_loss = validation_loss\n",
    "            self.counter = 0\n",
    "        elif validation_loss > (self.min_validation_loss + self.min_delta):\n",
    "            self.counter += 1\n",
    "            if self.counter >= self.patience:\n",
    "                return True\n",
    "        return False\n",
    "    \n",
    "early_stopper = EarlyStopper(patience=3, min_delta=1e-3)"
   ],
   "metadata": {
    "collapsed": false,
    "ExecuteTime": {
     "end_time": "2024-02-08T16:52:22.124964900Z",
     "start_time": "2024-02-08T16:52:22.110003900Z"
    }
   },
   "id": "99bf1d622f9db277",
   "execution_count": 21
  },
  {
   "cell_type": "markdown",
   "source": [
    "### Training loop"
   ],
   "metadata": {
    "collapsed": false
   },
   "id": "e467a8774a8740fd"
  },
  {
   "cell_type": "code",
   "outputs": [
    {
     "name": "stderr",
     "output_type": "stream",
     "text": [
      "Epoch 1/10, Training loss: 1.17E+00: 100%|██████████| 34/34 [00:24<00:00,  1.40it/s]\n",
      "Epoch 1/10, Validation loss: 1.25E+00: 100%|██████████| 9/9 [00:04<00:00,  1.87it/s]\n",
      "Epoch 2/10, Training loss: 1.13E+00: 100%|██████████| 34/34 [00:20<00:00,  1.67it/s]\n",
      "Epoch 2/10, Validation loss: 1.19E+00: 100%|██████████| 9/9 [00:04<00:00,  1.87it/s]\n",
      "Epoch 3/10, Training loss: 1.09E+00: 100%|██████████| 34/34 [00:20<00:00,  1.65it/s]\n",
      "Epoch 3/10, Validation loss: 1.21E+00: 100%|██████████| 9/9 [00:04<00:00,  1.85it/s]\n",
      "Epoch 4/10, Training loss: 1.09E+00: 100%|██████████| 34/34 [00:19<00:00,  1.71it/s]\n",
      "Epoch 4/10, Validation loss: 1.15E+00: 100%|██████████| 9/9 [00:04<00:00,  1.89it/s]\n",
      "Epoch 5/10, Training loss: 1.05E+00: 100%|██████████| 34/34 [00:20<00:00,  1.69it/s]\n",
      "Epoch 5/10, Validation loss: 1.17E+00: 100%|██████████| 9/9 [00:04<00:00,  1.81it/s]\n",
      "Epoch 6/10, Training loss: 1.03E+00: 100%|██████████| 34/34 [00:20<00:00,  1.62it/s]\n",
      "Epoch 6/10, Validation loss: 1.18E+00: 100%|██████████| 9/9 [00:04<00:00,  1.81it/s]\n",
      "Epoch 7/10, Training loss: 1.06E+00: 100%|██████████| 34/34 [00:21<00:00,  1.61it/s]\n",
      "Epoch 7/10, Validation loss: 1.10E+00: 100%|██████████| 9/9 [00:04<00:00,  1.87it/s]\n",
      "Epoch 8/10, Training loss: 1.01E+00: 100%|██████████| 34/34 [00:20<00:00,  1.69it/s]\n",
      "Epoch 8/10, Validation loss: 1.10E+00: 100%|██████████| 9/9 [00:04<00:00,  1.81it/s]\n",
      "Epoch 9/10, Training loss: 1.04E+00: 100%|██████████| 34/34 [00:20<00:00,  1.70it/s]\n",
      "Epoch 9/10, Validation loss: 1.12E+00: 100%|██████████| 9/9 [00:04<00:00,  1.85it/s]\n",
      "Epoch 10/10, Training loss: 9.83E-01: 100%|██████████| 34/34 [00:20<00:00,  1.69it/s]\n",
      "Epoch 10/10, Validation loss: 1.04E+00: 100%|██████████| 9/9 [00:04<00:00,  1.88it/s]\n"
     ]
    }
   ],
   "source": [
    "train_batches = len(train_dataloader)\n",
    "val_batches = len(val_dataloader)\n",
    "\n",
    "for epoch in range(NUM_EPOCHS):\n",
    "    running_train_loss = 0.0\n",
    "    running_val_loss = 0.0\n",
    "    \n",
    "    pbar = tqdm(train_dataloader, total=train_batches)\n",
    "    cnn_model.train()\n",
    "    for idx, (batch_x, batch_y) in enumerate(pbar):\n",
    "        optimizer.zero_grad()\n",
    "        \n",
    "        batch_x, batch_y = batch_x.to(device), batch_y.to(device)\n",
    "        batch_x = batch_x.permute(0, 2, 1)\n",
    "        train_outputs = cnn_model(batch_x)\n",
    "        train_loss = criterion(train_outputs, batch_y)\n",
    "        running_train_loss += train_loss\n",
    "\n",
    "        # Backward pass\n",
    "        train_loss.backward()\n",
    "        optimizer.step()\n",
    "\n",
    "        pbar.set_description(f\"Epoch {epoch + 1}/{NUM_EPOCHS}, Training loss: {running_train_loss / (idx + 1):.2E}\")\n",
    "    scheduler.step()\n",
    "\n",
    "    pbar_val = tqdm(val_dataloader, total=val_batches)\n",
    "    cnn_model.eval()\n",
    "    with torch.no_grad():\n",
    "        for idx, (batch_x_val, batch_y_val) in enumerate(pbar_val):\n",
    "            batch_x_val, batch_y_val = batch_x_val.to(device), batch_y_val.to(device)\n",
    "            batch_x_val = batch_x_val.permute(0, 2, 1)\n",
    "            val_outputs = cnn_model(batch_x_val)\n",
    "            val_loss = criterion(val_outputs, batch_y_val)\n",
    "            running_val_loss += val_loss\n",
    "            \n",
    "            pbar_val.set_description(f\"Epoch {epoch + 1}/{NUM_EPOCHS}, Validation loss: {running_val_loss / (idx + 1):.2E}\")\n",
    "            \n",
    "    torch.save({\n",
    "        'epoch': epoch,\n",
    "        'model_state_dict': cnn_model.state_dict(),\n",
    "        'optimizer_state_dict': optimizer.state_dict(),\n",
    "        'train_loss': running_train_loss,\n",
    "        'val_loss': running_val_loss,\n",
    "    }, f\"../data/checkpoints/cnn_classifier_{epoch + 1}.pt\")"
   ],
   "metadata": {
    "collapsed": false,
    "ExecuteTime": {
     "end_time": "2024-02-08T17:01:59.667137Z",
     "start_time": "2024-02-08T16:57:42.940397Z"
    }
   },
   "id": "9acb973ef0d7300b",
   "execution_count": 25
  },
  {
   "cell_type": "markdown",
   "source": [
    "### Test"
   ],
   "metadata": {
    "collapsed": false
   },
   "id": "ef491e948e917e3d"
  },
  {
   "cell_type": "code",
   "outputs": [
    {
     "name": "stderr",
     "output_type": "stream",
     "text": [
      "Test loss: 1.11E+00: 100%|██████████| 335/335 [00:09<00:00, 36.08it/s]\n"
     ]
    }
   ],
   "source": [
    "test_batches = len(test_dataloader)\n",
    "y_pred = []\n",
    "running_test_loss = 0.0\n",
    "\n",
    "pbar_test = tqdm(test_dataloader, total=test_batches)\n",
    "cnn_model.eval()\n",
    "with torch.no_grad():\n",
    "    for idx, (batch_x_test, batch_y_test) in enumerate(pbar_test):\n",
    "        batch_x_test, batch_y_test = batch_x_test.to(device), batch_y_test.to(device)\n",
    "        batch_x_test = batch_x_test.permute(0, 2, 1)\n",
    "        test_outputs = cnn_model(batch_x_test)\n",
    "        test_loss = criterion(test_outputs, batch_y_test)\n",
    "        y_pred.append(torch.argmax(test_outputs).cpu().numpy())\n",
    "        running_test_loss += test_loss\n",
    "        \n",
    "        pbar_test.set_description(f\"Test loss: {running_test_loss / (idx + 1):.2E}\")\n"
   ],
   "metadata": {
    "collapsed": false,
    "ExecuteTime": {
     "end_time": "2024-02-08T17:02:08.975010800Z",
     "start_time": "2024-02-08T17:01:59.668135300Z"
    }
   },
   "id": "a74fb4fba5791ec5",
   "execution_count": 26
  },
  {
   "cell_type": "code",
   "outputs": [
    {
     "name": "stdout",
     "output_type": "stream",
     "text": [
      "                     precision    recall  f1-score   support\n",
      "\n",
      "   10_Mata_ukladana       0.33      0.26      0.29        27\n",
      "           1_Panele       0.58      0.84      0.69        95\n",
      "2_Wykladzina_czarna       0.61      0.52      0.56        27\n",
      " 3_Wykladzina_jasna       1.00      0.65      0.79        26\n",
      "            4_Trawa       0.71      1.00      0.83        27\n",
      "    5_Spienione_PCV       0.43      0.46      0.44        26\n",
      "         6_Linoleum       0.67      0.23      0.34        26\n",
      "    7_Plytki_w_sali       0.50      0.26      0.34        27\n",
      "      8_Pusta_plyta       0.39      0.27      0.32        26\n",
      "         9_podklady       0.45      0.46      0.46        28\n",
      "\n",
      "           accuracy                           0.57       335\n",
      "          macro avg       0.57      0.50      0.51       335\n",
      "       weighted avg       0.57      0.57      0.54       335\n"
     ]
    },
    {
     "data": {
      "text/plain": "<Figure size 1000x1000 with 2 Axes>",
      "image/png": "[encoded data removed]"
     },
     "metadata": {},
     "output_type": "display_data"
    }
   ],
   "source": [
    "plt.style.use('default')\n",
    "fig, ax = plt.subplots(figsize=(10, 10))\n",
    "\n",
    "# y_test = lb.inverse_transform(y_test)\n",
    "print(classification_report(y_test, y_pred, target_names=classes))\n",
    "disp = ConfusionMatrixDisplay.from_predictions(y_test, y_pred, display_labels=classes, xticks_rotation='vertical', cmap='Blues', ax=ax)"
   ],
   "metadata": {
    "collapsed": false,
    "ExecuteTime": {
     "end_time": "2024-02-08T17:02:09.396883Z",
     "start_time": "2024-02-08T17:02:08.977007Z"
    }
   },
   "id": "68b58d90dc740fc0",
   "execution_count": 27
  },
  {
   "cell_type": "code",
   "outputs": [],
   "source": [],
   "metadata": {
    "collapsed": false
   },
   "id": "87f8078d4bcfda99"
  }
 ],
 "metadata": {
  "kernelspec": {
   "display_name": "Python 3",
   "language": "python",
   "name": "python3"
  },
  "language_info": {
   "codemirror_mode": {
    "name": "ipython",
    "version": 2
   },
   "file_extension": ".py",
   "mimetype": "text/x-python",
   "name": "python",
   "nbconvert_exporter": "python",
   "pygments_lexer": "ipython2",
   "version": "2.7.6"
  }
 },
 "nbformat": 4,
 "nbformat_minor": 5
}
