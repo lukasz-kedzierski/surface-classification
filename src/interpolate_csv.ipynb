{
 "cells": [
  {
   "cell_type": "code",
   "execution_count": 1,
   "id": "initial_id",
   "metadata": {
    "collapsed": true,
    "ExecuteTime": {
     "end_time": "2024-03-28T14:17:58.038824Z",
     "start_time": "2024-03-28T14:17:57.992713Z"
    }
   },
   "outputs": [],
   "source": [
    "import functools as ft\n",
    "import numpy as np\n",
    "import os\n",
    "import pandas as pd\n",
    "import scipy\n",
    "import yaml\n",
    "\n",
    "from pathlib import Path"
   ]
  },
  {
   "cell_type": "code",
   "outputs": [],
   "source": [
    "FREQ = 200.\n",
    "main_dir = Path('../data/fixed/')\n",
    "target_dir = Path(f'../data/dataset_{int(FREQ)}/')"
   ],
   "metadata": {
    "collapsed": false,
    "ExecuteTime": {
     "end_time": "2024-03-28T16:36:25.070251Z",
     "start_time": "2024-03-28T16:36:25.063268Z"
    }
   },
   "id": "8e7ffca97cee5487",
   "execution_count": 8
  },
  {
   "cell_type": "code",
   "outputs": [],
   "source": [
    "target_dir.mkdir(exist_ok=True)"
   ],
   "metadata": {
    "collapsed": false,
    "ExecuteTime": {
     "end_time": "2024-03-28T16:36:25.477289Z",
     "start_time": "2024-03-28T16:36:25.460335Z"
    }
   },
   "id": "d2aab6f569d8eba0",
   "execution_count": 9
  },
  {
   "cell_type": "code",
   "outputs": [],
   "source": [
    "# get all subfolders containing bags\n",
    "bag_paths = [folder for folder in main_dir.rglob('**/') if any(subfolder in folder.__str__() for subfolder in ('T1\\\\', 'T2\\\\'))]\n",
    "\n",
    "for bag_path in bag_paths:\n",
    "    # split path into chunks\n",
    "    subfolders = os.path.normpath(bag_path).split(os.sep)\n",
    "    key = subfolders[-1]\n",
    "    \n",
    "    # get cmd_vel, imu_data, odom, and servo_data\n",
    "    bag_files = [bag_path.joinpath(bag_file) for bag_file in os.listdir(bag_path) if bag_file in ('cmd_vel.csv', 'imu-data.csv', 'odom.csv', 'Servo_data.csv')]\n",
    "    \n",
    "    # read tables\n",
    "    dataframes = [pd.read_csv(bag_file) for bag_file in bag_files]\n",
    "    \n",
    "    clean_columns = [['Time', 'linear.x', 'linear.y', 'linear.z', 'angular.x', 'angular.y', 'angular.z'],\n",
    "                     ['Time', 'orientation.x', 'orientation.y', 'orientation.z', 'orientation.w',\n",
    "                      'orientation_covariance_0', 'orientation_covariance_1', 'orientation_covariance_2',\n",
    "                      'orientation_covariance_3', 'orientation_covariance_4', 'orientation_covariance_5',\n",
    "                      'orientation_covariance_6', 'orientation_covariance_7', 'orientation_covariance_8',\n",
    "                      'angular_velocity.x', 'angular_velocity.y', 'angular_velocity.z',\n",
    "                      'angular_velocity_covariance_0', 'angular_velocity_covariance_1', 'angular_velocity_covariance_2',\n",
    "                      'angular_velocity_covariance_3', 'angular_velocity_covariance_4', 'angular_velocity_covariance_5',\n",
    "                      'angular_velocity_covariance_6', 'angular_velocity_covariance_7', 'angular_velocity_covariance_8',\n",
    "                      'linear_acceleration.x', 'linear_acceleration.y', 'linear_acceleration.z',\n",
    "                      'linear_acceleration_covariance_0', 'linear_acceleration_covariance_1', 'linear_acceleration_covariance_2',\n",
    "                      'linear_acceleration_covariance_3', 'linear_acceleration_covariance_4', 'linear_acceleration_covariance_5',\n",
    "                      'linear_acceleration_covariance_6', 'linear_acceleration_covariance_7', 'linear_acceleration_covariance_8'],\n",
    "                     ['Time', 'child_frame_id', 'pose.pose.position.x', 'pose.pose.position.y', 'pose.pose.position.z',\n",
    "                      'pose.pose.orientation.x', 'pose.pose.orientation.y', 'pose.pose.orientation.z', 'pose.pose.orientation.w', 'pose.covariance',\n",
    "                      'twist.twist.linear.x', 'twist.twist.linear.y', 'twist.twist.linear.z',\n",
    "                      'twist.twist.angular.x', 'twist.twist.angular.y', 'twist.twist.angular.z', 'twist.covariance'],\n",
    "                     ['Time', 'values']]\n",
    "    selected_columns = [['Time', 'linear.x', 'angular.z'], # cmd_vel\n",
    "                        ['Time', 'linear_acceleration.x', 'linear_acceleration.y', 'linear_acceleration.z',\n",
    "                         'angular_velocity.x', 'angular_velocity.y', 'angular_velocity.z'], # imu\n",
    "                        ['Time', 'pose.pose.position.x', 'pose.pose.position.y', 'twist.twist.linear.x', 'twist.twist.angular.z'], # odom\n",
    "                        ['Time', 'values']] # servo\n",
    "    \n",
    "    # clean columns\n",
    "    clean_dataframes = []\n",
    "    for dataframe, c_cols, s_cols in zip(dataframes, clean_columns, selected_columns):\n",
    "        dataframe = dataframe[dataframe.columns.drop(list(dataframe.filter(regex='header')))]\n",
    "        dataframe.columns = c_cols\n",
    "        clean_dataframes.append(dataframe[s_cols])\n",
    "        \n",
    "    # get power values scaled down by 1e3 factor\n",
    "    data = clean_dataframes[-1]['values'].tolist()\n",
    "    data = [line.replace(', ', '];[') for line in data]\n",
    "    data = [line.replace('[', '') for line in data]\n",
    "    data = [line.replace(']', '') for line in data]\n",
    "    data = [line.split(sep=';') for line in data]\n",
    "    data = [[yaml.safe_load(line) for line in separate_lines] for separate_lines in data]\n",
    "    columns = ['Power_' + str(idx + 1) for idx in range(len(data[0]))]\n",
    "    columns_left = ['Power_' + str(idx + 1) for idx in range(len(data[0])) if idx % 2 == 0]\n",
    "    columns_right = ['Power_' + str(idx + 1) for idx in range(len(data[0])) if idx % 2 != 0]\n",
    "    power = pd.DataFrame([[abs(tuple(dictionary.values())[1] * tuple(dictionary.values())[2]) / 1e3 for dictionary in line] for line in data], columns=columns)\n",
    "    power_left = pd.DataFrame([[abs(tuple(dictionary.values())[1] * tuple(dictionary.values())[2]) / 1e3 for idx, dictionary in enumerate(line) if idx % 2 == 0] for line in data], columns=columns_left)\n",
    "    power_right = pd.DataFrame([[abs(tuple(dictionary.values())[1] * tuple(dictionary.values())[2]) / 1e3 for idx, dictionary in enumerate(line) if idx % 2 != 0] for line in data], columns=columns_right)\n",
    "    power['mean_power'] = power.mean(axis=1)\n",
    "    power['mean_power_left'] = power_left.mean(axis=1)\n",
    "    power['mean_power_right'] = power_right.mean(axis=1)\n",
    "    power['Time'] = clean_dataframes[-1]['Time']\n",
    "    clean_dataframes[-1] = power\n",
    "\n",
    "    # interpolate values for defined frequency\n",
    "    interpolated_dataframes = []\n",
    "    reference_time = clean_dataframes[0]['Time']\n",
    "    min = reference_time.min()\n",
    "    max = reference_time.max()\n",
    "    time_reg_spaced = np.linspace(min, max, int((max - min) * FREQ))\n",
    "    for dataframe in clean_dataframes:\n",
    "        cols = dataframe.columns\n",
    "        fpchip = scipy.interpolate.PchipInterpolator(dataframe['Time'], dataframe)\n",
    "        interpolated_dataframes.append(pd.DataFrame(fpchip(time_reg_spaced), columns=cols))\n",
    "        \n",
    "    # merge tables\n",
    "    dataframe = ft.reduce(lambda left, right: pd.merge(left, right, how='outer', on='Time'), interpolated_dataframes)\n",
    "        \n",
    "    # trim first and last rows for more coherent data\n",
    "    clip_var = int(len(dataframe) * .1)\n",
    "    dataframe = dataframe.iloc[clip_var:-clip_var].reset_index(drop=True)\n",
    "\n",
    "    # set initial timestep at 0\n",
    "    dataframe['Time'] -= dataframe['Time'].min()\n",
    "\n",
    "    # remove gravity from acceleration wrt z axis\n",
    "    dataframe['linear_acceleration.z'] -= dataframe['linear_acceleration.z'].mean()\n",
    "\n",
    "    # write dataframe to csv\n",
    "    dataframe.to_csv(target_dir.joinpath(key + '.csv'))\n"
   ],
   "metadata": {
    "collapsed": false,
    "ExecuteTime": {
     "end_time": "2024-03-28T17:51:09.774921Z",
     "start_time": "2024-03-28T16:36:26.319337Z"
    }
   },
   "id": "e3cab1f50ed47354",
   "execution_count": 10
  },
  {
   "cell_type": "code",
   "outputs": [],
   "source": [],
   "metadata": {
    "collapsed": false
   },
   "id": "f01d180fad91d6ea"
  }
 ],
 "metadata": {
  "kernelspec": {
   "display_name": "Python 3",
   "language": "python",
   "name": "python3"
  },
  "language_info": {
   "codemirror_mode": {
    "name": "ipython",
    "version": 2
   },
   "file_extension": ".py",
   "mimetype": "text/x-python",
   "name": "python",
   "nbconvert_exporter": "python",
   "pygments_lexer": "ipython2",
   "version": "2.7.6"
  }
 },
 "nbformat": 4,
 "nbformat_minor": 5
}
