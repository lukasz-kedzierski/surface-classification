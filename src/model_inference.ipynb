{
 "cells": [
  {
   "cell_type": "code",
   "id": "initial_id",
   "metadata": {
    "collapsed": true,
    "ExecuteTime": {
     "end_time": "2024-05-09T20:54:06.368214Z",
     "start_time": "2024-05-09T20:54:04.134520Z"
    }
   },
   "source": [
    "import json\n",
    "import matplotlib.pyplot as plt\n",
    "import numpy as np\n",
    "import pandas as pd\n",
    "import random\n",
    "import time\n",
    "\n",
    "from pathlib import Path\n",
    "from sklearn.metrics import accuracy_score, f1_score\n",
    "from sklearn.model_selection import train_test_split, StratifiedShuffleSplit\n",
    "from sklearn.preprocessing import LabelBinarizer\n",
    "from tqdm import tqdm\n",
    "\n",
    "import torch\n",
    "import torch.nn as nn\n",
    "from torch.optim.lr_scheduler import ExponentialLR\n",
    "from torch.utils.data import DataLoader, Subset\n",
    "\n",
    "from datasets import SurfaceDataset, InferenceDataset\n",
    "from helpers import EarlyStopper\n",
    "from models import CNNSurfaceClassifier\n",
    "\n",
    "from torchinfo import summary"
   ],
   "outputs": [],
   "execution_count": 1
  },
  {
   "metadata": {
    "ExecuteTime": {
     "end_time": "2024-05-09T20:54:06.431043Z",
     "start_time": "2024-05-09T20:54:06.372200Z"
    }
   },
   "cell_type": "code",
   "source": [
    "device = \"cuda:0\" if torch.cuda.is_available() else \"cpu\"\n",
    "device"
   ],
   "id": "2281fb07f30bb37f",
   "outputs": [
    {
     "data": {
      "text/plain": [
       "'cuda:0'"
      ]
     },
     "execution_count": 2,
     "metadata": {},
     "output_type": "execute_result"
    }
   ],
   "execution_count": 2
  },
  {
   "metadata": {
    "ExecuteTime": {
     "end_time": "2024-05-09T20:54:16.348350Z",
     "start_time": "2024-05-09T20:54:16.325408Z"
    }
   },
   "cell_type": "code",
   "source": [
    "BATCH_SIZE = 32\n",
    "INPUT_SIZE = 8\n",
    "NUM_EPOCHS = 100\n",
    "DATA_DIR = Path('../data/dataset/')\n",
    "HISTORY_DIR = Path('../results/tuning/')\n",
    "LOOKBACK = 2.\n",
    "SAMPLING_FREQUENCY = 100.\n",
    "DATASET_FREQUENCY = 200.\n",
    "SUBSET = ('imu', 'servo')\n",
    "CONFIGURATIONS = ('4W',)"
   ],
   "id": "b4728e81afa14a0a",
   "outputs": [],
   "execution_count": 3
  },
  {
   "metadata": {
    "ExecuteTime": {
     "end_time": "2024-05-09T20:54:19.735357Z",
     "start_time": "2024-05-09T20:54:19.535005Z"
    }
   },
   "cell_type": "code",
   "source": [
    "cnn_model = CNNSurfaceClassifier(input_size=INPUT_SIZE, output_size=10).to(device)\n",
    "cnn_model.load_state_dict(torch.load('../data/checkpoints/cnn_classifier_imu_servo_4W_2024-05-08-22-15-06.pt')['model_state_dict'])\n",
    "# cnn_model.load_state_dict(torch.load('../data/checkpoints/cnn_classifier_imu_4W_2024-05-09-08-24-17.pt'))\n",
    "cnn_model.eval()"
   ],
   "id": "840190fdb60985de",
   "outputs": [
    {
     "data": {
      "text/plain": [
       "CNNSurfaceClassifier(\n",
       "  (conv_pre): Sequential(\n",
       "    (0): Conv1d(8, 32, kernel_size=(7,), stride=(2,), padding=(3,))\n",
       "    (1): BatchNorm1d(32, eps=1e-05, momentum=0.1, affine=True, track_running_stats=True)\n",
       "    (2): ReLU(inplace=True)\n",
       "    (3): MaxPool1d(kernel_size=3, stride=2, padding=1, dilation=1, ceil_mode=False)\n",
       "  )\n",
       "  (block1): Block(\n",
       "    (mapping): Conv1d(32, 64, kernel_size=(1,), stride=(2,))\n",
       "    (bblock1): BasicBlock(\n",
       "      (conv): Conv1d(32, 64, kernel_size=(3,), stride=(2,), padding=(1,))\n",
       "      (bn): BatchNorm1d(64, eps=1e-05, momentum=0.1, affine=True, track_running_stats=True)\n",
       "    )\n",
       "    (bblock2): BasicBlock(\n",
       "      (conv): Conv1d(64, 64, kernel_size=(3,), stride=(1,), padding=(1,))\n",
       "      (bn): BatchNorm1d(64, eps=1e-05, momentum=0.1, affine=True, track_running_stats=True)\n",
       "    )\n",
       "    (relu): ReLU(inplace=True)\n",
       "  )\n",
       "  (block2): Block(\n",
       "    (mapping): Conv1d(64, 128, kernel_size=(1,), stride=(2,))\n",
       "    (bblock1): BasicBlock(\n",
       "      (conv): Conv1d(64, 128, kernel_size=(3,), stride=(2,), padding=(1,))\n",
       "      (bn): BatchNorm1d(128, eps=1e-05, momentum=0.1, affine=True, track_running_stats=True)\n",
       "    )\n",
       "    (bblock2): BasicBlock(\n",
       "      (conv): Conv1d(128, 128, kernel_size=(3,), stride=(1,), padding=(1,))\n",
       "      (bn): BatchNorm1d(128, eps=1e-05, momentum=0.1, affine=True, track_running_stats=True)\n",
       "    )\n",
       "    (relu): ReLU(inplace=True)\n",
       "  )\n",
       "  (block3): Block(\n",
       "    (mapping): Conv1d(128, 256, kernel_size=(1,), stride=(2,))\n",
       "    (bblock1): BasicBlock(\n",
       "      (conv): Conv1d(128, 256, kernel_size=(3,), stride=(2,), padding=(1,))\n",
       "      (bn): BatchNorm1d(256, eps=1e-05, momentum=0.1, affine=True, track_running_stats=True)\n",
       "    )\n",
       "    (bblock2): BasicBlock(\n",
       "      (conv): Conv1d(256, 256, kernel_size=(3,), stride=(1,), padding=(1,))\n",
       "      (bn): BatchNorm1d(256, eps=1e-05, momentum=0.1, affine=True, track_running_stats=True)\n",
       "    )\n",
       "    (relu): ReLU(inplace=True)\n",
       "  )\n",
       "  (fc_post): Sequential(\n",
       "    (0): AdaptiveAvgPool1d(output_size=1)\n",
       "    (1): Flatten(start_dim=1, end_dim=-1)\n",
       "  )\n",
       "  (classification): Sequential(\n",
       "    (0): Linear(in_features=256, out_features=10, bias=True)\n",
       "  )\n",
       ")"
      ]
     },
     "execution_count": 4,
     "metadata": {},
     "output_type": "execute_result"
    }
   ],
   "execution_count": 4
  },
  {
   "metadata": {
    "ExecuteTime": {
     "end_time": "2024-05-09T21:00:27.813914Z",
     "start_time": "2024-05-09T21:00:27.796448Z"
    }
   },
   "cell_type": "code",
   "source": [
    "file1 = '../data/test_set/csv/07-05-4-kola-3-podloza-25-cm_CCW_3.csv'\n",
    "file2 = '../data/train_set/csv/gray_23_2023-07-13-18-27-45.csv'"
   ],
   "id": "fcd08763de3e3700",
   "outputs": [],
   "execution_count": 41
  },
  {
   "metadata": {
    "ExecuteTime": {
     "end_time": "2024-05-09T21:00:28.264707Z",
     "start_time": "2024-05-09T21:00:28.084192Z"
    }
   },
   "cell_type": "code",
   "source": [
    "dataset = InferenceDataset(file2, sample_freq=SAMPLING_FREQUENCY, data_freq=DATASET_FREQUENCY, lookback=LOOKBACK, subset=SUBSET)\n",
    "dataloader = DataLoader(dataset, batch_size=BATCH_SIZE)"
   ],
   "id": "976a440c1ca7a6ef",
   "outputs": [],
   "execution_count": 42
  },
  {
   "metadata": {
    "ExecuteTime": {
     "end_time": "2024-05-09T21:00:29.145530Z",
     "start_time": "2024-05-09T21:00:28.400653Z"
    }
   },
   "cell_type": "code",
   "source": [
    "batches = len(dataloader)\n",
    "y_pred = []\n",
    "\n",
    "pbar = tqdm(dataloader, total=batches)\n",
    "cnn_model.eval()\n",
    "with torch.no_grad():\n",
    "    for idx, batch_x in enumerate(pbar):\n",
    "        batch_x = batch_x.to(device)\n",
    "        batch_x = batch_x.permute(0, 2, 1)\n",
    "        outputs = cnn_model(batch_x)\n",
    "        \n",
    "        # y_true.extend(torch.argmax(batch_y, dim=1).cpu().numpy())\n",
    "        y_pred.extend(torch.argmax(outputs, dim=1).cpu().numpy())"
   ],
   "id": "593752b76fe5cce6",
   "outputs": [
    {
     "name": "stderr",
     "output_type": "stream",
     "text": [
      "100%|██████████| 157/157 [00:00<00:00, 213.92it/s]\n"
     ]
    }
   ],
   "execution_count": 43
  },
  {
   "metadata": {
    "ExecuteTime": {
     "end_time": "2024-05-09T21:00:29.468178Z",
     "start_time": "2024-05-09T21:00:29.147526Z"
    }
   },
   "cell_type": "code",
   "source": [
    "plt.scatter(x=range(len(y_pred)), y=y_pred)\n",
    "plt.ylim(0, 9)"
   ],
   "id": "1978c4d671ddacf5",
   "outputs": [
    {
     "data": {
      "text/plain": [
       "(0.0, 9.0)"
      ]
     },
     "execution_count": 44,
     "metadata": {},
     "output_type": "execute_result"
    },
    {
     "data": {
      "text/plain": [
       "<Figure size 640x480 with 1 Axes>"
      ],
      "image/png": "[encoded data removed]"
     },
     "metadata": {},
     "output_type": "display_data"
    }
   ],
   "execution_count": 44
  },
  {
   "metadata": {},
   "cell_type": "code",
   "outputs": [],
   "execution_count": null,
   "source": "",
   "id": "637ea414885ff934"
  },
  {
   "metadata": {},
   "cell_type": "code",
   "outputs": [],
   "execution_count": null,
   "source": "",
   "id": "1a46fb968fd743f9"
  },
  {
   "metadata": {},
   "cell_type": "code",
   "outputs": [],
   "execution_count": null,
   "source": "",
   "id": "204c6290fa6fdc0"
  },
  {
   "metadata": {},
   "cell_type": "code",
   "outputs": [],
   "execution_count": null,
   "source": "",
   "id": "36ba8a6db3fd12a8"
  },
  {
   "metadata": {},
   "cell_type": "code",
   "outputs": [],
   "execution_count": null,
   "source": "",
   "id": "638f03e91a852d52"
  }
 ],
 "metadata": {
  "kernelspec": {
   "display_name": "Python 3",
   "language": "python",
   "name": "python3"
  },
  "language_info": {
   "codemirror_mode": {
    "name": "ipython",
    "version": 2
   },
   "file_extension": ".py",
   "mimetype": "text/x-python",
   "name": "python",
   "nbconvert_exporter": "python",
   "pygments_lexer": "ipython2",
   "version": "2.7.6"
  }
 },
 "nbformat": 4,
 "nbformat_minor": 5
}
