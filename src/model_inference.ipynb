{
 "cells": [
  {
   "cell_type": "code",
   "id": "initial_id",
   "metadata": {
    "collapsed": true,
    "ExecuteTime": {
     "end_time": "2024-05-13T14:24:13.546340Z",
     "start_time": "2024-05-13T14:24:09.915553Z"
    }
   },
   "source": [
    "import matplotlib.pyplot as plt\n",
    "\n",
    "from pathlib import Path\n",
    "from tqdm import tqdm\n",
    "\n",
    "import torch\n",
    "from torch.utils.data import DataLoader, Subset\n",
    "\n",
    "from datasets import InferenceDataset\n",
    "from models import CNNSurfaceClassifier"
   ],
   "outputs": [],
   "execution_count": 1
  },
  {
   "metadata": {
    "ExecuteTime": {
     "end_time": "2024-05-13T14:24:13.607173Z",
     "start_time": "2024-05-13T14:24:13.551323Z"
    }
   },
   "cell_type": "code",
   "source": [
    "device = \"cuda:0\" if torch.cuda.is_available() else \"cpu\"\n",
    "device"
   ],
   "id": "2281fb07f30bb37f",
   "outputs": [
    {
     "data": {
      "text/plain": [
       "'cuda:0'"
      ]
     },
     "execution_count": 2,
     "metadata": {},
     "output_type": "execute_result"
    }
   ],
   "execution_count": 2
  },
  {
   "metadata": {
    "ExecuteTime": {
     "end_time": "2024-05-13T14:24:33.751369Z",
     "start_time": "2024-05-13T14:24:33.740399Z"
    }
   },
   "cell_type": "code",
   "source": [
    "BATCH_SIZE = 32\n",
    "INPUT_SIZE = 6\n",
    "NUM_EPOCHS = 100\n",
    "DATA_DIR = Path('../data/train_set/csv/')\n",
    "HISTORY_DIR = Path('../results/tuning/')\n",
    "CHECKPOINT = '../data/checkpoints/cnn_classifier_imu_4W_6W_2024-05-13-16-23-44.pt'\n",
    "LOOKBACK = 8/3\n",
    "SAMPLING_FREQUENCY = 75.\n",
    "DATASET_FREQUENCY = 150.\n",
    "SUBSET = ('imu',)\n",
    "CONFIGURATIONS = ('4W', '6W')"
   ],
   "id": "b4728e81afa14a0a",
   "outputs": [],
   "execution_count": 4
  },
  {
   "metadata": {
    "ExecuteTime": {
     "end_time": "2024-05-13T14:24:34.283192Z",
     "start_time": "2024-05-13T14:24:34.120118Z"
    }
   },
   "cell_type": "code",
   "source": [
    "cnn_model = CNNSurfaceClassifier(input_size=INPUT_SIZE, output_size=10).to(device)\n",
    "cnn_model.load_state_dict(torch.load(CHECKPOINT))\n",
    "cnn_model.eval()"
   ],
   "id": "840190fdb60985de",
   "outputs": [
    {
     "data": {
      "text/plain": [
       "CNNSurfaceClassifier(\n",
       "  (conv_pre): Sequential(\n",
       "    (0): Conv1d(6, 32, kernel_size=(7,), stride=(2,), padding=(3,))\n",
       "    (1): BatchNorm1d(32, eps=1e-05, momentum=0.1, affine=True, track_running_stats=True)\n",
       "    (2): ReLU(inplace=True)\n",
       "    (3): MaxPool1d(kernel_size=3, stride=2, padding=1, dilation=1, ceil_mode=False)\n",
       "  )\n",
       "  (block1): Block(\n",
       "    (mapping): Conv1d(32, 64, kernel_size=(1,), stride=(2,))\n",
       "    (bblock1): BasicBlock(\n",
       "      (conv): Conv1d(32, 64, kernel_size=(3,), stride=(2,), padding=(1,))\n",
       "      (bn): BatchNorm1d(64, eps=1e-05, momentum=0.1, affine=True, track_running_stats=True)\n",
       "    )\n",
       "    (bblock2): BasicBlock(\n",
       "      (conv): Conv1d(64, 64, kernel_size=(3,), stride=(1,), padding=(1,))\n",
       "      (bn): BatchNorm1d(64, eps=1e-05, momentum=0.1, affine=True, track_running_stats=True)\n",
       "    )\n",
       "    (relu): ReLU(inplace=True)\n",
       "  )\n",
       "  (block2): Block(\n",
       "    (mapping): Conv1d(64, 128, kernel_size=(1,), stride=(2,))\n",
       "    (bblock1): BasicBlock(\n",
       "      (conv): Conv1d(64, 128, kernel_size=(3,), stride=(2,), padding=(1,))\n",
       "      (bn): BatchNorm1d(128, eps=1e-05, momentum=0.1, affine=True, track_running_stats=True)\n",
       "    )\n",
       "    (bblock2): BasicBlock(\n",
       "      (conv): Conv1d(128, 128, kernel_size=(3,), stride=(1,), padding=(1,))\n",
       "      (bn): BatchNorm1d(128, eps=1e-05, momentum=0.1, affine=True, track_running_stats=True)\n",
       "    )\n",
       "    (relu): ReLU(inplace=True)\n",
       "  )\n",
       "  (block3): Block(\n",
       "    (mapping): Conv1d(128, 256, kernel_size=(1,), stride=(2,))\n",
       "    (bblock1): BasicBlock(\n",
       "      (conv): Conv1d(128, 256, kernel_size=(3,), stride=(2,), padding=(1,))\n",
       "      (bn): BatchNorm1d(256, eps=1e-05, momentum=0.1, affine=True, track_running_stats=True)\n",
       "    )\n",
       "    (bblock2): BasicBlock(\n",
       "      (conv): Conv1d(256, 256, kernel_size=(3,), stride=(1,), padding=(1,))\n",
       "      (bn): BatchNorm1d(256, eps=1e-05, momentum=0.1, affine=True, track_running_stats=True)\n",
       "    )\n",
       "    (relu): ReLU(inplace=True)\n",
       "  )\n",
       "  (fc_post): Sequential(\n",
       "    (0): AdaptiveAvgPool1d(output_size=1)\n",
       "    (1): Flatten(start_dim=1, end_dim=-1)\n",
       "  )\n",
       "  (classification): Sequential(\n",
       "    (0): Linear(in_features=256, out_features=10, bias=True)\n",
       "  )\n",
       ")"
      ]
     },
     "execution_count": 5,
     "metadata": {},
     "output_type": "execute_result"
    }
   ],
   "execution_count": 5
  },
  {
   "metadata": {
    "ExecuteTime": {
     "end_time": "2024-05-13T14:25:43.783945Z",
     "start_time": "2024-05-13T14:25:43.774942Z"
    }
   },
   "cell_type": "code",
   "source": [
    "file1 = '../data/test_set/csv/07-05-4-kola-3-podloza-25-cm_CCW_1.csv'\n",
    "file2 = '../data/train_set/csv/2023-01-15-14-44-54.csv'"
   ],
   "id": "fcd08763de3e3700",
   "outputs": [],
   "execution_count": 33
  },
  {
   "metadata": {
    "ExecuteTime": {
     "end_time": "2024-05-13T14:25:44.293377Z",
     "start_time": "2024-05-13T14:25:44.061990Z"
    }
   },
   "cell_type": "code",
   "source": [
    "dataset = InferenceDataset(file1, sample_freq=SAMPLING_FREQUENCY, data_freq=DATASET_FREQUENCY, lookback=LOOKBACK, subset=SUBSET)\n",
    "dataloader = DataLoader(dataset, batch_size=BATCH_SIZE)"
   ],
   "id": "976a440c1ca7a6ef",
   "outputs": [],
   "execution_count": 34
  },
  {
   "metadata": {
    "ExecuteTime": {
     "end_time": "2024-05-13T14:25:45.338420Z",
     "start_time": "2024-05-13T14:25:44.403199Z"
    }
   },
   "cell_type": "code",
   "source": [
    "batches = len(dataloader)\n",
    "y_pred = []\n",
    "\n",
    "pbar = tqdm(dataloader, total=batches)\n",
    "cnn_model.eval()\n",
    "with torch.no_grad():\n",
    "    for idx, batch_x in enumerate(pbar):\n",
    "        batch_x = batch_x.to(device)\n",
    "        batch_x = batch_x.permute(0, 2, 1)\n",
    "        outputs = cnn_model(batch_x)\n",
    "        \n",
    "        # y_true.extend(torch.argmax(batch_y, dim=1).cpu().numpy())\n",
    "        y_pred.extend(torch.argmax(outputs, dim=1).cpu().numpy())"
   ],
   "id": "593752b76fe5cce6",
   "outputs": [
    {
     "name": "stderr",
     "output_type": "stream",
     "text": [
      "100%|██████████| 234/234 [00:00<00:00, 254.00it/s]\n"
     ]
    }
   ],
   "execution_count": 35
  },
  {
   "metadata": {
    "ExecuteTime": {
     "end_time": "2024-05-13T14:25:45.554842Z",
     "start_time": "2024-05-13T14:25:45.340415Z"
    }
   },
   "cell_type": "code",
   "source": [
    "plt.scatter(x=range(len(y_pred)), y=y_pred)\n",
    "plt.ylim(0, 9)\n",
    "plt.grid()"
   ],
   "id": "1978c4d671ddacf5",
   "outputs": [
    {
     "data": {
      "text/plain": [
       "<Figure size 640x480 with 1 Axes>"
      ],
      "image/png": "[encoded data removed]"
     },
     "metadata": {},
     "output_type": "display_data"
    }
   ],
   "execution_count": 36
  },
  {
   "metadata": {},
   "cell_type": "code",
   "outputs": [],
   "execution_count": null,
   "source": "",
   "id": "638f03e91a852d52"
  }
 ],
 "metadata": {
  "kernelspec": {
   "display_name": "Python 3",
   "language": "python",
   "name": "python3"
  },
  "language_info": {
   "codemirror_mode": {
    "name": "ipython",
    "version": 2
   },
   "file_extension": ".py",
   "mimetype": "text/x-python",
   "name": "python",
   "nbconvert_exporter": "python",
   "pygments_lexer": "ipython2",
   "version": "2.7.6"
  }
 },
 "nbformat": 4,
 "nbformat_minor": 5
}
