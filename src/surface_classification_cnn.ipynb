{
 "cells": [
  {
   "cell_type": "markdown",
   "source": [
    "### Imports"
   ],
   "metadata": {
    "collapsed": false
   },
   "id": "9afebad71082b978"
  },
  {
   "cell_type": "code",
   "outputs": [],
   "source": [
    "import json\n",
    "import matplotlib.pyplot as plt\n",
    "import pandas as pd\n",
    "import random\n",
    "\n",
    "from pathlib import Path\n",
    "from sklearn.metrics import classification_report, ConfusionMatrixDisplay\n",
    "from sklearn.model_selection import train_test_split\n",
    "from sklearn.preprocessing import LabelEncoder, LabelBinarizer\n",
    "from tqdm import tqdm\n",
    "\n",
    "import torch\n",
    "import torch.nn as nn\n",
    "from torch.optim.lr_scheduler import ExponentialLR\n",
    "from torch.utils.data import DataLoader, Dataset\n",
    "from torchinfo import summary"
   ],
   "metadata": {
    "collapsed": false,
    "ExecuteTime": {
     "end_time": "2024-02-25T17:17:43.606199Z",
     "start_time": "2024-02-25T17:17:41.547112700Z"
    }
   },
   "id": "7bbbfa68a2c2ad9a",
   "execution_count": 1
  },
  {
   "cell_type": "markdown",
   "source": [
    "### Device"
   ],
   "metadata": {
    "collapsed": false
   },
   "id": "be243189c890a753"
  },
  {
   "cell_type": "code",
   "outputs": [
    {
     "data": {
      "text/plain": "'cuda:0'"
     },
     "execution_count": 2,
     "metadata": {},
     "output_type": "execute_result"
    }
   ],
   "source": [
    "device = \"cuda:0\" if torch.cuda.is_available() else \"cpu\"\n",
    "device"
   ],
   "metadata": {
    "collapsed": false,
    "ExecuteTime": {
     "end_time": "2024-02-25T17:17:44.386720Z",
     "start_time": "2024-02-25T17:17:44.335855700Z"
    }
   },
   "id": "da0434b42f73b25a",
   "execution_count": 2
  },
  {
   "cell_type": "markdown",
   "source": [
    "### Constants"
   ],
   "metadata": {
    "collapsed": false
   },
   "id": "87b62f1e105bcc84"
  },
  {
   "cell_type": "code",
   "outputs": [],
   "source": [
    "BATCH_SIZE = 32\n",
    "INPUT_SIZE = 12\n",
    "NUM_EPOCHS = 30\n",
    "DATA_DIR = Path('../data/dataset/')\n",
    "LOOKBACK = 2.5\n",
    "LOWEST_FREQUENCY = 50\n",
    "KERNEL_SIZE = 3\n",
    "SUBSET = ['imu', 'cmd_vel', 'odom']"
   ],
   "metadata": {
    "collapsed": false,
    "ExecuteTime": {
     "end_time": "2024-02-25T17:17:45.350638700Z",
     "start_time": "2024-02-25T17:17:45.320718700Z"
    }
   },
   "id": "66b5555a4fa10241",
   "execution_count": 3
  },
  {
   "cell_type": "markdown",
   "source": [
    "### Load and split data"
   ],
   "metadata": {
    "collapsed": false
   },
   "id": "5529717ff2812af0"
  },
  {
   "cell_type": "code",
   "outputs": [],
   "source": [
    "with open('../data/labels.json') as fp:\n",
    "    labels = json.load(fp)"
   ],
   "metadata": {
    "collapsed": false,
    "ExecuteTime": {
     "end_time": "2024-02-25T17:17:46.399748200Z",
     "start_time": "2024-02-25T17:17:46.375897900Z"
    }
   },
   "id": "503fce34bed6d813",
   "execution_count": 4
  },
  {
   "cell_type": "code",
   "outputs": [],
   "source": [
    "dataset = [(DATA_DIR.joinpath(key + '.csv'), values['surface']) for key, values in labels.items() if values['kinematics'] in ('4W', '6W') and values['spacing'] == 'R1']"
   ],
   "metadata": {
    "collapsed": false,
    "ExecuteTime": {
     "end_time": "2024-02-25T17:17:46.933916900Z",
     "start_time": "2024-02-25T17:17:46.913970100Z"
    }
   },
   "id": "96bb38f00e195362",
   "execution_count": 5
  },
  {
   "cell_type": "code",
   "outputs": [],
   "source": [
    "X = pd.Series([run[0] for run in dataset], name='bag_name')\n",
    "y_primary = [run[1] for run in dataset]"
   ],
   "metadata": {
    "collapsed": false,
    "ExecuteTime": {
     "end_time": "2024-02-25T17:17:47.502396800Z",
     "start_time": "2024-02-25T17:17:47.475468400Z"
    }
   },
   "id": "ac562fc5c93cd196",
   "execution_count": 6
  },
  {
   "cell_type": "code",
   "outputs": [],
   "source": [
    "y_secondary = ['slippery' if label in ('1_Panele', '5_Spienione_PCV', '6_Linoleum')\n",
    "               else 'grippy' if label in ('3_Wykladzina_jasna', '8_Pusta_plyta', '9_podklady')\n",
    "               else 'neutral' for label in y_primary]\n",
    "# y_secondary = ['slippery' if label in ('3_Wykladzina_jasna', '4_Trawa')\n",
    "#                else 'grippy' if label in ('5_Spienione_PCV', '8_Pusta_plyta', '9_podklady', '10_Mata_ukladana')\n",
    "#                else 'neutral' for label in y_primary] # Pawel set\n",
    "# y_secondary = ['slippery' if label in ('3_Wykladzina_jasna', '4_Trawa')\n",
    "#                else 'grippy' if label in ('2_Wykladzina_czarna', '5_Spienione_PCV', '9_podklady', '10_Mata_ukladana')\n",
    "#                else 'neutral' for label in y_primary] # Clustering set"
   ],
   "metadata": {
    "collapsed": false,
    "ExecuteTime": {
     "end_time": "2024-02-25T17:17:47.987099900Z",
     "start_time": "2024-02-25T17:17:47.965159500Z"
    }
   },
   "id": "bce103ccb3fe0581",
   "execution_count": 7
  },
  {
   "cell_type": "code",
   "outputs": [],
   "source": [
    "le = LabelEncoder()\n",
    "le.fit(y_primary)\n",
    "classes = le.classes_\n",
    "num_classes = len(classes)\n",
    "y = le.transform(y_primary)\n",
    "y = y.reshape(-1, 1)"
   ],
   "metadata": {
    "collapsed": false,
    "ExecuteTime": {
     "end_time": "2024-02-25T17:17:48.559236500Z",
     "start_time": "2024-02-25T17:17:48.531311400Z"
    }
   },
   "id": "28cd1c677f86f806",
   "execution_count": 8
  },
  {
   "cell_type": "code",
   "outputs": [],
   "source": [
    "lb = LabelBinarizer()\n",
    "lb.fit(y)\n",
    "y = lb.transform(y)"
   ],
   "metadata": {
    "collapsed": false,
    "ExecuteTime": {
     "end_time": "2024-02-25T17:17:48.965669700Z",
     "start_time": "2024-02-25T17:17:48.935751Z"
    }
   },
   "id": "12c19c5cb6813ca",
   "execution_count": 9
  },
  {
   "cell_type": "code",
   "outputs": [],
   "source": [
    "X_training, X_test, y_training, y_test = train_test_split(X, y, test_size=0.2, stratify=y)\n",
    "original_indexing = X_test.index\n",
    "X_train, X_val, y_train, y_val = train_test_split(X_training, y_training, test_size=0.2, stratify=y_training)\n",
    "X_train.reset_index(drop=True, inplace=True)\n",
    "X_val.reset_index(drop=True, inplace=True)\n",
    "X_test.reset_index(drop=True, inplace=True)"
   ],
   "metadata": {
    "collapsed": false,
    "ExecuteTime": {
     "end_time": "2024-02-25T17:17:49.405494300Z",
     "start_time": "2024-02-25T17:17:49.356625600Z"
    }
   },
   "id": "eed3b5f73250bcce",
   "execution_count": 10
  },
  {
   "cell_type": "markdown",
   "source": [
    "### Custom datasets"
   ],
   "metadata": {
    "collapsed": false
   },
   "id": "c59200394bfc51d7"
  },
  {
   "cell_type": "code",
   "outputs": [],
   "source": [
    "def select_sequence(series, selected_columns, window_length, stride):\n",
    "    series = series[selected_columns]\n",
    "    initial_timestep = random.randint(0, (len(series) - 1) - window_length)\n",
    "    final_timestep = initial_timestep + window_length\n",
    "    timesteps = list(range(initial_timestep, final_timestep + stride, stride))\n",
    "    return series.iloc[timesteps].to_numpy()"
   ],
   "metadata": {
    "collapsed": false,
    "ExecuteTime": {
     "end_time": "2024-02-25T17:17:50.310541900Z",
     "start_time": "2024-02-25T17:17:50.276631300Z"
    }
   },
   "id": "7c8ac183cadc0d56",
   "execution_count": 11
  },
  {
   "cell_type": "code",
   "outputs": [],
   "source": [
    "class SurfaceDataset(Dataset):\n",
    "    def __init__(self, samples, labels, frequency=50, lookback=1, subset=None):\n",
    "        \"\"\"        \n",
    "        Args:\n",
    "            samples: An array of time series, first dimension is time steps\n",
    "            labels: An array of surface labels\n",
    "            frequency: The lowest frequency of collected data\n",
    "            lookback: Size of window for prediction\n",
    "        \"\"\"\n",
    "\n",
    "        self.samples = samples\n",
    "        self.labels = labels\n",
    "        self.frequency = frequency\n",
    "        self.lookback = int(lookback * self.frequency)\n",
    "        self.stride = int(300 / self.frequency)\n",
    "        self.window_length = self.lookback * self.stride\n",
    "        if subset:\n",
    "            self.subset = set(subset)\n",
    "        else:\n",
    "            self.subset = ('cmd_vel', 'imu', 'odom', 'servo')\n",
    "        measurements = {\n",
    "            'cmd_vel': ['linear.x', 'angular.z'],\n",
    "            'imu': ['linear_acceleration.x', 'linear_acceleration.y', 'linear_acceleration.z', 'angular_velocity.x', 'angular_velocity.y', 'angular_velocity.z'],\n",
    "            'odom': ['pose.pose.position.x', 'pose.pose.position.y', 'twist.twist.linear.x', 'twist.twist.angular.z'],\n",
    "            'servo': ['values'],\n",
    "        }\n",
    "        self.selected_columns = []\n",
    "        for measurement in self.subset:\n",
    "            self.selected_columns.extend(measurements[measurement])\n",
    "\n",
    "    def __len__(self):\n",
    "        return len(self.labels)\n",
    "\n",
    "    def __getitem__(self, idx):\n",
    "        \"\"\"\n",
    "        Retrieve a single, windowed time series from dataset\n",
    "        \"\"\"\n",
    "\n",
    "        sample = self.samples[idx]\n",
    "        run = pd.read_csv(sample, index_col=[0]).drop('Time', axis=1)\n",
    "        \n",
    "        X = select_sequence(run, self.selected_columns, self.window_length, self.stride)\n",
    "        y = self.labels[idx]\n",
    "        \n",
    "        return torch.tensor(X, dtype=torch.float), torch.tensor(y, dtype=torch.float)\n",
    "    \n",
    "train_dataloader = DataLoader(SurfaceDataset(X_train, y_train, frequency=LOWEST_FREQUENCY, lookback=LOOKBACK, subset=SUBSET), batch_size=BATCH_SIZE, shuffle=True)\n",
    "val_dataloader = DataLoader(SurfaceDataset(X_val, y_val, frequency=LOWEST_FREQUENCY, lookback=LOOKBACK, subset=SUBSET), batch_size=BATCH_SIZE)\n",
    "test_dataloader = DataLoader(SurfaceDataset(X_test, y_test, frequency=LOWEST_FREQUENCY, lookback=LOOKBACK, subset=SUBSET), batch_size=1)"
   ],
   "metadata": {
    "collapsed": false,
    "ExecuteTime": {
     "end_time": "2024-02-25T17:17:50.798130500Z",
     "start_time": "2024-02-25T17:17:50.776188600Z"
    }
   },
   "id": "18f462da904175a6",
   "execution_count": 12
  },
  {
   "cell_type": "markdown",
   "source": [
    "### Models"
   ],
   "metadata": {
    "collapsed": false
   },
   "id": "96daed4787b63f69"
  },
  {
   "cell_type": "code",
   "outputs": [],
   "source": [
    "class CNNSurfaceClassifier(nn.Module):\n",
    "    def __init__(self, input_size=None, output_size=None, kernel_size=3):\n",
    "        super().__init__()\n",
    "        self.input_size = input_size\n",
    "        self.output_size = output_size\n",
    "        self.kernel_size = kernel_size\n",
    "        \n",
    "        self.conv_pre = nn.Sequential(\n",
    "            nn.Conv1d(self.input_size, 32, kernel_size=7, stride=2, padding=3),\n",
    "            nn.BatchNorm1d(32),\n",
    "            nn.ReLU(),\n",
    "            nn.MaxPool1d(kernel_size=3, stride=2, padding=1),\n",
    "        )\n",
    "        self.blocks = nn.Sequential(\n",
    "            nn.Conv1d(32, 64, self.kernel_size, stride=2, padding=1), \n",
    "            nn.BatchNorm1d(64),\n",
    "            nn.ReLU(),\n",
    "            nn.Conv1d(64, 128, self.kernel_size, stride=2, padding=1),\n",
    "            nn.BatchNorm1d(128),\n",
    "            nn.ReLU(),\n",
    "            nn.Conv1d(128, 256, self.kernel_size, stride=2, padding=1),\n",
    "            nn.BatchNorm1d(256),\n",
    "            nn.ReLU(),\n",
    "            nn.Conv1d(256, 512, self.kernel_size, stride=2, padding=1),\n",
    "            nn.BatchNorm1d(512),\n",
    "            nn.ReLU(),\n",
    "        )\n",
    "        self.fc_post = nn.Sequential(\n",
    "            nn.AdaptiveAvgPool1d(1),\n",
    "            nn.Flatten(),\n",
    "            nn.Linear(512, 384),\n",
    "            nn.ReLU(),\n",
    "            nn.Linear(384, self.output_size),\n",
    "        )\n",
    "\n",
    "    def forward(self, x):\n",
    "        x = self.conv_pre(x)\n",
    "        x = self.blocks(x)\n",
    "        return self.fc_post(x)\n",
    "\n",
    "cnn_model = CNNSurfaceClassifier(input_size=INPUT_SIZE, output_size=num_classes, kernel_size=KERNEL_SIZE).to(device)"
   ],
   "metadata": {
    "collapsed": false,
    "ExecuteTime": {
     "end_time": "2024-02-25T17:17:51.872419800Z",
     "start_time": "2024-02-25T17:17:51.713844100Z"
    }
   },
   "id": "94fa64fc85b948aa",
   "execution_count": 13
  },
  {
   "cell_type": "code",
   "outputs": [
    {
     "data": {
      "text/plain": "=================================================================\nLayer (type:depth-idx)                   Param #\n=================================================================\nCNNSurfaceClassifier                     --\n├─Sequential: 1-1                        --\n│    └─Conv1d: 2-1                       2,720\n│    └─BatchNorm1d: 2-2                  64\n│    └─ReLU: 2-3                         --\n│    └─MaxPool1d: 2-4                    --\n├─Sequential: 1-2                        --\n│    └─Conv1d: 2-5                       6,208\n│    └─BatchNorm1d: 2-6                  128\n│    └─ReLU: 2-7                         --\n│    └─Conv1d: 2-8                       24,704\n│    └─BatchNorm1d: 2-9                  256\n│    └─ReLU: 2-10                        --\n│    └─Conv1d: 2-11                      98,560\n│    └─BatchNorm1d: 2-12                 512\n│    └─ReLU: 2-13                        --\n│    └─Conv1d: 2-14                      393,728\n│    └─BatchNorm1d: 2-15                 1,024\n│    └─ReLU: 2-16                        --\n├─Sequential: 1-3                        --\n│    └─AdaptiveAvgPool1d: 2-17           --\n│    └─Flatten: 2-18                     --\n│    └─Linear: 2-19                      196,992\n│    └─ReLU: 2-20                        --\n│    └─Linear: 2-21                      3,850\n=================================================================\nTotal params: 728,746\nTrainable params: 728,746\nNon-trainable params: 0\n================================================================="
     },
     "execution_count": 14,
     "metadata": {},
     "output_type": "execute_result"
    }
   ],
   "source": [
    "summary(cnn_model)"
   ],
   "metadata": {
    "collapsed": false,
    "ExecuteTime": {
     "end_time": "2024-02-25T17:17:52.250042600Z",
     "start_time": "2024-02-25T17:17:52.220123200Z"
    }
   },
   "id": "ba8c50a1e9708d52",
   "execution_count": 14
  },
  {
   "cell_type": "markdown",
   "source": [
    "### Loss function"
   ],
   "metadata": {
    "collapsed": false
   },
   "id": "1eb74cc30ec4f075"
  },
  {
   "cell_type": "code",
   "outputs": [],
   "source": [
    "criterion = nn.CrossEntropyLoss()"
   ],
   "metadata": {
    "collapsed": false,
    "ExecuteTime": {
     "end_time": "2024-02-25T17:17:53.445059500Z",
     "start_time": "2024-02-25T17:17:53.422122100Z"
    }
   },
   "id": "1ec9144e4d480a2d",
   "execution_count": 15
  },
  {
   "cell_type": "markdown",
   "source": [
    "### Optimizer"
   ],
   "metadata": {
    "collapsed": false
   },
   "id": "fa4d99f3eb297adf"
  },
  {
   "cell_type": "code",
   "outputs": [],
   "source": [
    "optimizer = torch.optim.Adam(\n",
    "    cnn_model.parameters(),\n",
    "    lr=1e-3,\n",
    "    eps=1e-6,\n",
    "    weight_decay=1e-3,\n",
    "    )"
   ],
   "metadata": {
    "collapsed": false,
    "ExecuteTime": {
     "end_time": "2024-02-25T17:17:56.077409400Z",
     "start_time": "2024-02-25T17:17:54.775794900Z"
    }
   },
   "id": "a7fb9f74376bf1fc",
   "execution_count": 16
  },
  {
   "cell_type": "markdown",
   "source": [
    "### Scheduler"
   ],
   "metadata": {
    "collapsed": false
   },
   "id": "8189ce4256cef7aa"
  },
  {
   "cell_type": "code",
   "outputs": [],
   "source": [
    "scheduler = ExponentialLR(optimizer, gamma=0.99)"
   ],
   "metadata": {
    "collapsed": false,
    "ExecuteTime": {
     "end_time": "2024-02-25T17:17:56.094364800Z",
     "start_time": "2024-02-25T17:17:56.079403900Z"
    }
   },
   "id": "543d5776cbc9ab8e",
   "execution_count": 17
  },
  {
   "cell_type": "markdown",
   "source": [
    "### Early stopping"
   ],
   "metadata": {
    "collapsed": false
   },
   "id": "3457623a134ea771"
  },
  {
   "cell_type": "code",
   "outputs": [],
   "source": [
    "class EarlyStopper:\n",
    "    def __init__(self, patience=1, min_delta=0):\n",
    "        self.patience = patience\n",
    "        self.min_delta = min_delta\n",
    "        self.counter = 0\n",
    "        self.min_validation_loss = float('inf')\n",
    "\n",
    "    def early_stop(self, validation_loss):\n",
    "        if validation_loss < self.min_validation_loss:\n",
    "            self.min_validation_loss = validation_loss\n",
    "            self.counter = 0\n",
    "        elif validation_loss > (self.min_validation_loss + self.min_delta):\n",
    "            self.counter += 1\n",
    "            if self.counter >= self.patience:\n",
    "                return True\n",
    "        return False\n",
    "    \n",
    "early_stopper = EarlyStopper(patience=3, min_delta=1e-3)"
   ],
   "metadata": {
    "collapsed": false,
    "ExecuteTime": {
     "end_time": "2024-02-25T17:17:56.855334100Z",
     "start_time": "2024-02-25T17:17:56.826406700Z"
    }
   },
   "id": "99bf1d622f9db277",
   "execution_count": 18
  },
  {
   "cell_type": "markdown",
   "source": [
    "### Training loop"
   ],
   "metadata": {
    "collapsed": false
   },
   "id": "e467a8774a8740fd"
  },
  {
   "cell_type": "code",
   "outputs": [
    {
     "name": "stderr",
     "output_type": "stream",
     "text": [
      "Epoch 1/30, Training loss: 1.94E+00: 100%|██████████| 27/27 [00:21<00:00,  1.26it/s]\n",
      "Epoch 1/30, Validation loss: 2.49E+00: 100%|██████████| 7/7 [00:04<00:00,  1.52it/s]\n",
      "Epoch 2/30, Training loss: 1.70E+00: 100%|██████████| 27/27 [00:18<00:00,  1.43it/s]\n",
      "Epoch 2/30, Validation loss: 1.52E+00: 100%|██████████| 7/7 [00:04<00:00,  1.44it/s]\n",
      "Epoch 3/30, Training loss: 1.61E+00: 100%|██████████| 27/27 [00:19<00:00,  1.40it/s]\n",
      "Epoch 3/30, Validation loss: 1.56E+00: 100%|██████████| 7/7 [00:04<00:00,  1.41it/s]\n",
      "Epoch 4/30, Training loss: 1.57E+00: 100%|██████████| 27/27 [00:18<00:00,  1.43it/s]\n",
      "Epoch 4/30, Validation loss: 1.47E+00: 100%|██████████| 7/7 [00:04<00:00,  1.53it/s]\n",
      "Epoch 5/30, Training loss: 1.57E+00: 100%|██████████| 27/27 [00:18<00:00,  1.44it/s]\n",
      "Epoch 5/30, Validation loss: 1.45E+00: 100%|██████████| 7/7 [00:04<00:00,  1.52it/s]\n",
      "Epoch 6/30, Training loss: 1.45E+00: 100%|██████████| 27/27 [00:18<00:00,  1.44it/s]\n",
      "Epoch 6/30, Validation loss: 1.42E+00: 100%|██████████| 7/7 [00:04<00:00,  1.54it/s]\n",
      "Epoch 7/30, Training loss: 1.42E+00: 100%|██████████| 27/27 [00:18<00:00,  1.44it/s]\n",
      "Epoch 7/30, Validation loss: 1.30E+00: 100%|██████████| 7/7 [00:04<00:00,  1.53it/s]\n",
      "Epoch 8/30, Training loss: 1.42E+00: 100%|██████████| 27/27 [00:18<00:00,  1.44it/s]\n",
      "Epoch 8/30, Validation loss: 1.38E+00: 100%|██████████| 7/7 [00:04<00:00,  1.53it/s]\n",
      "Epoch 9/30, Training loss: 1.38E+00: 100%|██████████| 27/27 [00:18<00:00,  1.43it/s]\n",
      "Epoch 9/30, Validation loss: 1.29E+00: 100%|██████████| 7/7 [00:04<00:00,  1.53it/s]\n",
      "Epoch 10/30, Training loss: 1.39E+00: 100%|██████████| 27/27 [00:18<00:00,  1.43it/s]\n",
      "Epoch 10/30, Validation loss: 1.33E+00: 100%|██████████| 7/7 [00:04<00:00,  1.54it/s]\n",
      "Epoch 11/30, Training loss: 1.40E+00: 100%|██████████| 27/27 [00:19<00:00,  1.41it/s]\n",
      "Epoch 11/30, Validation loss: 1.43E+00: 100%|██████████| 7/7 [00:04<00:00,  1.52it/s]\n",
      "Epoch 12/30, Training loss: 1.34E+00: 100%|██████████| 27/27 [00:18<00:00,  1.43it/s]\n",
      "Epoch 12/30, Validation loss: 1.28E+00: 100%|██████████| 7/7 [00:04<00:00,  1.49it/s]\n",
      "Epoch 13/30, Training loss: 1.36E+00: 100%|██████████| 27/27 [00:18<00:00,  1.43it/s]\n",
      "Epoch 13/30, Validation loss: 1.33E+00: 100%|██████████| 7/7 [00:04<00:00,  1.50it/s]\n",
      "Epoch 14/30, Training loss: 1.24E+00: 100%|██████████| 27/27 [00:18<00:00,  1.43it/s]\n",
      "Epoch 14/30, Validation loss: 1.28E+00: 100%|██████████| 7/7 [00:04<00:00,  1.53it/s]\n",
      "Epoch 15/30, Training loss: 1.29E+00: 100%|██████████| 27/27 [00:18<00:00,  1.44it/s]\n",
      "Epoch 15/30, Validation loss: 1.18E+00: 100%|██████████| 7/7 [00:04<00:00,  1.48it/s]\n",
      "Epoch 16/30, Training loss: 1.26E+00: 100%|██████████| 27/27 [00:18<00:00,  1.43it/s]\n",
      "Epoch 16/30, Validation loss: 1.30E+00: 100%|██████████| 7/7 [00:04<00:00,  1.50it/s]\n",
      "Epoch 17/30, Training loss: 1.28E+00: 100%|██████████| 27/27 [00:18<00:00,  1.43it/s]\n",
      "Epoch 17/30, Validation loss: 1.26E+00: 100%|██████████| 7/7 [00:04<00:00,  1.52it/s]\n",
      "Epoch 18/30, Training loss: 1.22E+00: 100%|██████████| 27/27 [00:18<00:00,  1.44it/s]\n",
      "Epoch 18/30, Validation loss: 1.31E+00: 100%|██████████| 7/7 [00:04<00:00,  1.52it/s]\n",
      "Epoch 19/30, Training loss: 1.22E+00: 100%|██████████| 27/27 [00:19<00:00,  1.37it/s]\n",
      "Epoch 19/30, Validation loss: 1.22E+00: 100%|██████████| 7/7 [00:05<00:00,  1.37it/s]\n",
      "Epoch 20/30, Training loss: 1.15E+00: 100%|██████████| 27/27 [00:19<00:00,  1.37it/s]\n",
      "Epoch 20/30, Validation loss: 1.19E+00: 100%|██████████| 7/7 [00:04<00:00,  1.52it/s]\n",
      "Epoch 21/30, Training loss: 1.25E+00: 100%|██████████| 27/27 [00:18<00:00,  1.42it/s]\n",
      "Epoch 21/30, Validation loss: 1.20E+00: 100%|██████████| 7/7 [00:04<00:00,  1.49it/s]\n",
      "Epoch 22/30, Training loss: 1.17E+00: 100%|██████████| 27/27 [00:18<00:00,  1.43it/s]\n",
      "Epoch 22/30, Validation loss: 1.03E+00: 100%|██████████| 7/7 [00:04<00:00,  1.47it/s]\n",
      "Epoch 23/30, Training loss: 1.19E+00: 100%|██████████| 27/27 [00:18<00:00,  1.43it/s]\n",
      "Epoch 23/30, Validation loss: 1.08E+00: 100%|██████████| 7/7 [00:04<00:00,  1.50it/s]\n",
      "Epoch 24/30, Training loss: 1.13E+00: 100%|██████████| 27/27 [00:19<00:00,  1.40it/s]\n",
      "Epoch 24/30, Validation loss: 1.09E+00: 100%|██████████| 7/7 [00:04<00:00,  1.51it/s]\n",
      "Epoch 25/30, Training loss: 1.16E+00: 100%|██████████| 27/27 [00:19<00:00,  1.41it/s]\n",
      "Epoch 25/30, Validation loss: 1.12E+00: 100%|██████████| 7/7 [00:04<00:00,  1.52it/s]\n",
      "Epoch 26/30, Training loss: 1.11E+00: 100%|██████████| 27/27 [00:20<00:00,  1.31it/s]\n",
      "Epoch 26/30, Validation loss: 1.05E+00: 100%|██████████| 7/7 [00:04<00:00,  1.48it/s]\n",
      "Epoch 27/30, Training loss: 1.08E+00: 100%|██████████| 27/27 [00:19<00:00,  1.39it/s]\n",
      "Epoch 27/30, Validation loss: 1.04E+00: 100%|██████████| 7/7 [00:04<00:00,  1.49it/s]\n",
      "Epoch 28/30, Training loss: 1.20E+00: 100%|██████████| 27/27 [00:19<00:00,  1.40it/s]\n",
      "Epoch 28/30, Validation loss: 1.17E+00: 100%|██████████| 7/7 [00:04<00:00,  1.49it/s]\n",
      "Epoch 29/30, Training loss: 1.14E+00: 100%|██████████| 27/27 [00:19<00:00,  1.39it/s]\n",
      "Epoch 29/30, Validation loss: 1.10E+00: 100%|██████████| 7/7 [00:04<00:00,  1.48it/s]\n",
      "Epoch 30/30, Training loss: 1.14E+00: 100%|██████████| 27/27 [00:19<00:00,  1.41it/s]\n",
      "Epoch 30/30, Validation loss: 1.10E+00: 100%|██████████| 7/7 [00:04<00:00,  1.51it/s]\n"
     ]
    }
   ],
   "source": [
    "train_batches = len(train_dataloader)\n",
    "val_batches = len(val_dataloader)\n",
    "\n",
    "for epoch in range(NUM_EPOCHS):\n",
    "    running_train_loss = 0.0\n",
    "    running_val_loss = 0.0\n",
    "    \n",
    "    pbar = tqdm(train_dataloader, total=train_batches)\n",
    "    cnn_model.train()\n",
    "    for idx, (batch_x, batch_y) in enumerate(pbar):\n",
    "        optimizer.zero_grad()\n",
    "        \n",
    "        batch_x, batch_y = batch_x.to(device), batch_y.to(device)\n",
    "        batch_x = batch_x.permute(0, 2, 1)\n",
    "        train_outputs = cnn_model(batch_x)\n",
    "        train_loss = criterion(train_outputs, batch_y)\n",
    "        running_train_loss += train_loss\n",
    "\n",
    "        # Backward pass\n",
    "        train_loss.backward()\n",
    "        optimizer.step()\n",
    "\n",
    "        pbar.set_description(f\"Epoch {epoch + 1}/{NUM_EPOCHS}, Training loss: {running_train_loss / (idx + 1):.2E}\")\n",
    "    # scheduler.step()\n",
    "\n",
    "    pbar_val = tqdm(val_dataloader, total=val_batches)\n",
    "    cnn_model.eval()\n",
    "    with torch.no_grad():\n",
    "        for idx, (batch_x_val, batch_y_val) in enumerate(pbar_val):\n",
    "            batch_x_val, batch_y_val = batch_x_val.to(device), batch_y_val.to(device)\n",
    "            batch_x_val = batch_x_val.permute(0, 2, 1)\n",
    "            val_outputs = cnn_model(batch_x_val)\n",
    "            val_loss = criterion(val_outputs, batch_y_val)\n",
    "            running_val_loss += val_loss\n",
    "            \n",
    "            pbar_val.set_description(f\"Epoch {epoch + 1}/{NUM_EPOCHS}, Validation loss: {running_val_loss / (idx + 1):.2E}\")\n",
    "            \n",
    "    torch.save({\n",
    "        'epoch': epoch,\n",
    "        'model_state_dict': cnn_model.state_dict(),\n",
    "        'optimizer_state_dict': optimizer.state_dict(),\n",
    "        'train_loss': running_train_loss,\n",
    "        'val_loss': running_val_loss,\n",
    "    }, f\"../data/checkpoints/cnn_classifier_{epoch + 1}.pt\")"
   ],
   "metadata": {
    "collapsed": false,
    "ExecuteTime": {
     "end_time": "2024-02-25T17:29:53.799405700Z",
     "start_time": "2024-02-25T17:17:57.758418700Z"
    }
   },
   "id": "9acb973ef0d7300b",
   "execution_count": 19
  },
  {
   "cell_type": "markdown",
   "source": [
    "### Test"
   ],
   "metadata": {
    "collapsed": false
   },
   "id": "ef491e948e917e3d"
  },
  {
   "cell_type": "code",
   "outputs": [
    {
     "name": "stderr",
     "output_type": "stream",
     "text": [
      "Test loss: 1.08E+00: 100%|██████████| 268/268 [00:08<00:00, 32.84it/s]\n"
     ]
    }
   ],
   "source": [
    "test_batches = len(test_dataloader)\n",
    "y_pred = []\n",
    "running_test_loss = 0.0\n",
    "misclassified = []\n",
    "\n",
    "pbar_test = tqdm(test_dataloader, total=test_batches)\n",
    "cnn_model.eval()\n",
    "with torch.no_grad():\n",
    "    for idx, (batch_x_test, batch_y_test) in enumerate(pbar_test):\n",
    "        batch_x_test, batch_y_test = batch_x_test.to(device), batch_y_test.to(device)\n",
    "        batch_x_test = batch_x_test.permute(0, 2, 1)\n",
    "        test_outputs = cnn_model(batch_x_test)\n",
    "        test_loss = criterion(test_outputs, batch_y_test)\n",
    "        pred = torch.argmax(test_outputs).cpu().numpy()\n",
    "        true = torch.argmax(batch_y_test).cpu().numpy()\n",
    "        y_pred.append(pred)\n",
    "        if pred != true:\n",
    "            misclassified.append(original_indexing[idx])\n",
    "        running_test_loss += test_loss\n",
    "        \n",
    "        pbar_test.set_description(f\"Test loss: {running_test_loss / (idx + 1):.2E}\")\n",
    "\n",
    "misclassified_original = [y_primary[idx] for idx in misclassified]"
   ],
   "metadata": {
    "collapsed": false,
    "ExecuteTime": {
     "end_time": "2024-02-25T17:30:01.980319100Z",
     "start_time": "2024-02-25T17:29:53.800402900Z"
    }
   },
   "id": "a74fb4fba5791ec5",
   "execution_count": 20
  },
  {
   "cell_type": "markdown",
   "source": [
    "### Confusion matrix"
   ],
   "metadata": {
    "collapsed": false
   },
   "id": "86a0969893d4f8f0"
  },
  {
   "cell_type": "code",
   "outputs": [
    {
     "name": "stdout",
     "output_type": "stream",
     "text": [
      "                     precision    recall  f1-score   support\n",
      "\n",
      "   10_Mata_ukladana       0.63      0.63      0.63        27\n",
      "           1_Panele       0.59      0.57      0.58        28\n",
      "2_Wykladzina_czarna       0.53      0.67      0.59        27\n",
      " 3_Wykladzina_jasna       0.93      0.54      0.68        26\n",
      "            4_Trawa       0.73      1.00      0.84        27\n",
      "    5_Spienione_PCV       0.81      0.65      0.72        26\n",
      "         6_Linoleum       0.36      0.50      0.42        26\n",
      "    7_Plytki_w_sali       0.54      0.78      0.64        27\n",
      "      8_Pusta_plyta       0.57      0.15      0.24        26\n",
      "         9_podklady       0.56      0.50      0.53        28\n",
      "\n",
      "           accuracy                           0.60       268\n",
      "          macro avg       0.63      0.60      0.59       268\n",
      "       weighted avg       0.62      0.60      0.59       268\n"
     ]
    },
    {
     "data": {
      "text/plain": "<Figure size 1000x1000 with 2 Axes>",
      "image/png": "[encoded data removed]"
     },
     "metadata": {},
     "output_type": "display_data"
    }
   ],
   "source": [
    "plt.style.use('default')\n",
    "fig, ax = plt.subplots(figsize=(10, 10))\n",
    "\n",
    "y_test = lb.inverse_transform(y_test)\n",
    "print(classification_report(y_test, y_pred, target_names=classes))\n",
    "disp = ConfusionMatrixDisplay.from_predictions(y_test, y_pred, display_labels=classes, xticks_rotation='vertical', cmap='Blues', ax=ax)"
   ],
   "metadata": {
    "collapsed": false,
    "ExecuteTime": {
     "end_time": "2024-02-25T17:30:02.472016100Z",
     "start_time": "2024-02-25T17:30:01.976329500Z"
    }
   },
   "id": "68b58d90dc740fc0",
   "execution_count": 21
  },
  {
   "cell_type": "code",
   "outputs": [
    {
     "data": {
      "text/plain": "<Figure size 640x480 with 1 Axes>",
      "image/png": "[encoded data removed]"
     },
     "metadata": {},
     "output_type": "display_data"
    }
   ],
   "source": [
    "pd.Series(misclassified_original).value_counts().plot.bar()\n",
    "plt.yticks(range(0, 21, 2))\n",
    "plt.grid(axis='y')"
   ],
   "metadata": {
    "collapsed": false,
    "ExecuteTime": {
     "end_time": "2024-02-25T17:30:02.666576800Z",
     "start_time": "2024-02-25T17:30:02.471018500Z"
    }
   },
   "id": "54efe743b9459b39",
   "execution_count": 22
  },
  {
   "cell_type": "code",
   "outputs": [],
   "source": [
    "              "
   ],
   "metadata": {
    "collapsed": false
   },
   "id": "67b8db2062e70536"
  }
 ],
 "metadata": {
  "kernelspec": {
   "display_name": "Python 3",
   "language": "python",
   "name": "python3"
  },
  "language_info": {
   "codemirror_mode": {
    "name": "ipython",
    "version": 2
   },
   "file_extension": ".py",
   "mimetype": "text/x-python",
   "name": "python",
   "nbconvert_exporter": "python",
   "pygments_lexer": "ipython2",
   "version": "2.7.6"
  }
 },
 "nbformat": 4,
 "nbformat_minor": 5
}
