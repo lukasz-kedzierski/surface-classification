{
 "cells": [
  {
   "cell_type": "markdown",
   "source": [
    "\n",
    "### Imports"
   ],
   "metadata": {
    "collapsed": false
   },
   "id": "9afebad71082b978"
  },
  {
   "cell_type": "code",
   "source": [
    "import json\n",
    "import matplotlib.pyplot as plt\n",
    "import pandas as pd\n",
    "\n",
    "from pathlib import Path\n",
    "from sklearn.metrics import classification_report, ConfusionMatrixDisplay\n",
    "from sklearn.model_selection import train_test_split\n",
    "from sklearn.preprocessing import LabelEncoder, LabelBinarizer\n",
    "from tqdm import tqdm\n",
    "\n",
    "import torch\n",
    "import torch.nn as nn\n",
    "from torch.optim.lr_scheduler import ExponentialLR\n",
    "from torch.utils.data import DataLoader, Dataset\n",
    "from torchinfo import summary\n",
    "\n",
    "from utils import select_sequence"
   ],
   "metadata": {
    "collapsed": false,
    "ExecuteTime": {
     "end_time": "2024-04-26T08:57:40.178876Z",
     "start_time": "2024-04-26T08:57:37.663599Z"
    }
   },
   "id": "7bbbfa68a2c2ad9a",
   "outputs": [],
   "execution_count": 1
  },
  {
   "cell_type": "markdown",
   "source": [
    "### Device"
   ],
   "metadata": {
    "collapsed": false
   },
   "id": "be243189c890a753"
  },
  {
   "cell_type": "code",
   "source": [
    "device = \"cuda:0\" if torch.cuda.is_available() else \"cpu\"\n",
    "device"
   ],
   "metadata": {
    "collapsed": false,
    "ExecuteTime": {
     "end_time": "2024-04-26T08:57:40.223756Z",
     "start_time": "2024-04-26T08:57:40.180872Z"
    }
   },
   "id": "da0434b42f73b25a",
   "outputs": [
    {
     "data": {
      "text/plain": [
       "'cuda:0'"
      ]
     },
     "execution_count": 2,
     "metadata": {},
     "output_type": "execute_result"
    }
   ],
   "execution_count": 2
  },
  {
   "cell_type": "markdown",
   "source": [
    "### Constants"
   ],
   "metadata": {
    "collapsed": false
   },
   "id": "87b62f1e105bcc84"
  },
  {
   "cell_type": "code",
   "source": [
    "BATCH_SIZE = 32\n",
    "INPUT_SIZE = 8\n",
    "NUM_EPOCHS = 10\n",
    "DATA_DIR = Path('../data/dataset/')\n",
    "LOOKBACK = 2.\n",
    "SAMPLING_FREQUENCY = 100.\n",
    "DATASET_FREQUENCY = 200.\n",
    "SUBSET = ['imu', 'servo']"
   ],
   "metadata": {
    "collapsed": false,
    "ExecuteTime": {
     "end_time": "2024-04-26T08:57:40.238715Z",
     "start_time": "2024-04-26T08:57:40.225751Z"
    }
   },
   "id": "66b5555a4fa10241",
   "outputs": [],
   "execution_count": 3
  },
  {
   "cell_type": "markdown",
   "source": [
    "### Load and split data"
   ],
   "metadata": {
    "collapsed": false
   },
   "id": "5529717ff2812af0"
  },
  {
   "cell_type": "code",
   "source": [
    "with open('../data/labels.json') as fp:\n",
    "    labels = json.load(fp)"
   ],
   "metadata": {
    "collapsed": false,
    "ExecuteTime": {
     "end_time": "2024-04-26T08:57:40.253676Z",
     "start_time": "2024-04-26T08:57:40.240711Z"
    }
   },
   "id": "503fce34bed6d813",
   "outputs": [],
   "execution_count": 4
  },
  {
   "cell_type": "code",
   "source": "dataset = [(DATA_DIR.joinpath(key + '.csv'), values['surface']) for key, values in labels.items() if values['kinematics'] in ('4W',) and values['spacing'] == 'R1' and 'T1' in values['trajectory']]",
   "metadata": {
    "collapsed": false,
    "ExecuteTime": {
     "end_time": "2024-04-26T08:57:40.269636Z",
     "start_time": "2024-04-26T08:57:40.255671Z"
    }
   },
   "id": "96bb38f00e195362",
   "outputs": [],
   "execution_count": 5
  },
  {
   "cell_type": "code",
   "source": [
    "X = pd.Series([run[0] for run in dataset], name='bag_name')\n",
    "y_primary = [run[1] for run in dataset]"
   ],
   "metadata": {
    "collapsed": false,
    "ExecuteTime": {
     "end_time": "2024-04-26T08:57:40.285592Z",
     "start_time": "2024-04-26T08:57:40.271630Z"
    }
   },
   "id": "ac562fc5c93cd196",
   "outputs": [],
   "execution_count": 6
  },
  {
   "cell_type": "code",
   "source": [
    "# y_secondary = ['slippery' if label in ('1_Panele', '5_Spienione_PCV', '6_Linoleum')\n",
    "#                else 'grippy' if label in ('3_Wykladzina_jasna', '8_Pusta_plyta', '9_podklady')\n",
    "#                else 'neutral' for label in y_primary]\n",
    "y_secondary = ['slippery' if label in ('3_Wykladzina_jasna', '4_Trawa')\n",
    "               else 'grippy' if label in ('5_Spienione_PCV', '8_Pusta_plyta', '9_podklady', '10_Mata_ukladana')\n",
    "               else 'neutral' for label in y_primary] # Pawel set\n",
    "# y_secondary = ['slippery' if label in ('3_Wykladzina_jasna', '4_Trawa')\n",
    "#                else 'grippy' if label in ('2_Wykladzina_czarna', '5_Spienione_PCV', '9_podklady', '10_Mata_ukladana')\n",
    "#                else 'neutral' for label in y_primary] # Clustering set"
   ],
   "metadata": {
    "collapsed": false,
    "ExecuteTime": {
     "end_time": "2024-04-26T08:57:40.301549Z",
     "start_time": "2024-04-26T08:57:40.287586Z"
    }
   },
   "id": "bce103ccb3fe0581",
   "outputs": [],
   "execution_count": 7
  },
  {
   "cell_type": "code",
   "source": [
    "le = LabelEncoder()\n",
    "le.fit(y_primary)\n",
    "classes = le.classes_\n",
    "num_classes = len(classes)\n",
    "y = le.transform(y_primary)\n",
    "y = y.reshape(-1, 1)"
   ],
   "metadata": {
    "collapsed": false,
    "ExecuteTime": {
     "end_time": "2024-04-26T08:57:40.317506Z",
     "start_time": "2024-04-26T08:57:40.304541Z"
    }
   },
   "id": "28cd1c677f86f806",
   "outputs": [],
   "execution_count": 8
  },
  {
   "cell_type": "code",
   "source": [
    "lb = LabelBinarizer()\n",
    "lb.fit(y)\n",
    "y = lb.transform(y)"
   ],
   "metadata": {
    "collapsed": false,
    "ExecuteTime": {
     "end_time": "2024-04-26T08:57:40.332465Z",
     "start_time": "2024-04-26T08:57:40.319500Z"
    }
   },
   "id": "12c19c5cb6813ca",
   "outputs": [],
   "execution_count": 9
  },
  {
   "cell_type": "code",
   "source": [
    "X_training, X_test, y_training, y_test = train_test_split(X, y, test_size=0.2, stratify=y)\n",
    "original_indexing = X_test.index\n",
    "X_train, X_val, y_train, y_val = train_test_split(X_training, y_training, test_size=0.2, stratify=y_training)\n",
    "X_train.reset_index(drop=True, inplace=True)\n",
    "X_val.reset_index(drop=True, inplace=True)\n",
    "X_test.reset_index(drop=True, inplace=True)"
   ],
   "metadata": {
    "collapsed": false,
    "ExecuteTime": {
     "end_time": "2024-04-26T08:57:40.363382Z",
     "start_time": "2024-04-26T08:57:40.334461Z"
    }
   },
   "id": "eed3b5f73250bcce",
   "outputs": [],
   "execution_count": 10
  },
  {
   "cell_type": "markdown",
   "source": [
    "### Custom datasets"
   ],
   "metadata": {
    "collapsed": false
   },
   "id": "c59200394bfc51d7"
  },
  {
   "cell_type": "code",
   "source": [
    "class SurfaceDataset(Dataset):\n",
    "    def __init__(self, samples, labels, sample_freq=20., data_freq=100., lookback=1., subset=None):\n",
    "        \"\"\"        \n",
    "        Args:\n",
    "            samples: array of time series, first dimension is time steps\n",
    "            labels: array of surface labels\n",
    "            sample_freq: lowest frequency of collected data\n",
    "            data_freq: highest frequency of collected data\n",
    "            lookback: size of window for prediction\n",
    "            subset: list containing data categories\n",
    "        \"\"\"\n",
    "\n",
    "        self.samples = samples\n",
    "        self.labels = labels\n",
    "        self.sampling_frequency = sample_freq\n",
    "        self.dataset_frequency = data_freq\n",
    "        self.lookback = int(lookback * self.sampling_frequency)\n",
    "        self.stride = int(self.dataset_frequency / self.sampling_frequency)\n",
    "        self.window_length = self.lookback * self.stride\n",
    "        if subset:\n",
    "            self.subset = set(subset)\n",
    "        else:\n",
    "            self.subset = ('cmd_vel', 'imu', 'odom', 'servo')\n",
    "        measurements = {\n",
    "            'cmd_vel': ['linear.x', 'angular.z'],\n",
    "            'imu': ['linear_acceleration.x', 'linear_acceleration.y', 'linear_acceleration.z', 'angular_velocity.x', 'angular_velocity.y', 'angular_velocity.z'],\n",
    "            'odom': ['pose.pose.position.x', 'pose.pose.position.y', 'twist.twist.linear.x', 'twist.twist.angular.z'],\n",
    "            # 'servo': ['mean_power'],\n",
    "            'servo': ['mean_power_left', 'mean_power_right'],\n",
    "        }\n",
    "        self.selected_columns = []\n",
    "        for measurement in self.subset:\n",
    "            self.selected_columns.extend(measurements[measurement])\n",
    "\n",
    "    def __len__(self):\n",
    "        return len(self.labels)\n",
    "\n",
    "    def __getitem__(self, idx):\n",
    "        \"\"\"\n",
    "        Retrieve a single, windowed time series from dataset\n",
    "        \"\"\"\n",
    "\n",
    "        sample = self.samples[idx]\n",
    "        run = pd.read_csv(sample, index_col=[0]).drop('Time', axis=1)\n",
    "        \n",
    "        X = select_sequence(run, self.selected_columns, self.window_length, self.stride)\n",
    "        y = self.labels[idx]\n",
    "        \n",
    "        return torch.tensor(X, dtype=torch.float), torch.tensor(y, dtype=torch.float)\n",
    "    \n",
    "train_dataloader = DataLoader(SurfaceDataset(X_train, y_train, sample_freq=SAMPLING_FREQUENCY, data_freq=DATASET_FREQUENCY, lookback=LOOKBACK, subset=SUBSET), batch_size=BATCH_SIZE, shuffle=True)\n",
    "val_dataloader = DataLoader(SurfaceDataset(X_val, y_val, sample_freq=SAMPLING_FREQUENCY, data_freq=DATASET_FREQUENCY, lookback=LOOKBACK, subset=SUBSET), batch_size=BATCH_SIZE)\n",
    "test_dataloader = DataLoader(SurfaceDataset(X_test, y_test, sample_freq=SAMPLING_FREQUENCY, data_freq=DATASET_FREQUENCY, lookback=LOOKBACK, subset=SUBSET), batch_size=1)"
   ],
   "metadata": {
    "collapsed": false,
    "ExecuteTime": {
     "end_time": "2024-04-26T08:57:40.395300Z",
     "start_time": "2024-04-26T08:57:40.366376Z"
    }
   },
   "id": "18f462da904175a6",
   "outputs": [],
   "execution_count": 11
  },
  {
   "cell_type": "markdown",
   "source": [
    "### Models"
   ],
   "metadata": {
    "collapsed": false
   },
   "id": "96daed4787b63f69"
  },
  {
   "cell_type": "code",
   "source": [
    "class BasicBlock(nn.Module):\n",
    "    def __init__(self, inplanes, planes, stride):\n",
    "        super(BasicBlock, self).__init__()\n",
    "        self.conv = nn.Conv1d(inplanes, planes, kernel_size=3, stride=stride, padding=1)\n",
    "        self.bn = nn.BatchNorm1d(planes)\n",
    "\n",
    "    def forward(self, x):\n",
    "        out = self.conv(x)\n",
    "        out = self.bn(out)\n",
    "        return out\n",
    "    \n",
    "class Block(nn.Module):\n",
    "    def __init__(self, inplanes, planes):\n",
    "        super(Block, self).__init__()\n",
    "        self.mapping = nn.Conv1d(inplanes, planes, kernel_size=1, stride=2, padding=0)\n",
    "        self.bblock1 = BasicBlock(inplanes, planes, stride=2)\n",
    "        self.bblock2 = BasicBlock(planes, planes, stride=1)\n",
    "        self.relu = nn.ReLU(inplace=True)\n",
    "\n",
    "    def forward(self, x):\n",
    "        identity = self.mapping(x)\n",
    "\n",
    "        out = self.bblock1(x)\n",
    "        out = self.relu(out)\n",
    "\n",
    "        out = self.bblock2(out)\n",
    "\n",
    "        out += identity\n",
    "        out = self.relu(out)\n",
    "\n",
    "        return out\n",
    "    \n",
    "class CNNSurfaceClassifier(nn.Module):\n",
    "    def __init__(self, input_size=None, output_size=None):\n",
    "        super().__init__()\n",
    "        self.input_size = input_size\n",
    "        self.output_size = output_size\n",
    "                \n",
    "        self.conv_pre = nn.Sequential(\n",
    "            nn.Conv1d(self.input_size, 32, kernel_size=7, stride=2, padding=3),\n",
    "            nn.BatchNorm1d(32),\n",
    "            nn.ReLU(),\n",
    "            nn.MaxPool1d(kernel_size=3, stride=2, padding=1),\n",
    "        )\n",
    "        self.block1 = Block(32, 64)\n",
    "        self.block2 = Block(64, 128)\n",
    "        self.block3 = Block(128, 256)\n",
    "        self.block4 = Block(256, 512)\n",
    "        self.fc_post = nn.Sequential(\n",
    "            nn.AdaptiveAvgPool1d(1),\n",
    "            nn.Flatten(),\n",
    "            nn.Linear(512, 384),\n",
    "            nn.ReLU(),\n",
    "        )\n",
    "        self.classification = nn.Sequential(\n",
    "            nn.Linear(384, self.output_size),\n",
    "        )\n",
    "\n",
    "    def forward(self, x):\n",
    "        x = self.conv_pre(x)\n",
    "        x = self.block1(x)\n",
    "        x = self.block2(x)\n",
    "        x = self.block3(x)\n",
    "        x = self.block4(x)\n",
    "        x = self.fc_post(x)\n",
    "        return self.classification(x)\n",
    "\n",
    "cnn_model = CNNSurfaceClassifier(input_size=INPUT_SIZE, output_size=num_classes).to(device)"
   ],
   "metadata": {
    "collapsed": false,
    "ExecuteTime": {
     "end_time": "2024-04-26T08:57:40.987719Z",
     "start_time": "2024-04-26T08:57:40.821160Z"
    }
   },
   "id": "94fa64fc85b948aa",
   "outputs": [],
   "execution_count": 12
  },
  {
   "cell_type": "code",
   "source": [
    "# class CNNSurfaceClassifier(nn.Module):\n",
    "#     def __init__(self, input_size=None, output_size=None, kernel_size=3):\n",
    "#         super().__init__()\n",
    "#         self.input_size = input_size\n",
    "#         self.output_size = output_size\n",
    "#         self.kernel_size = kernel_size\n",
    "#         \n",
    "#         self.relu = nn.ReLU(inplace=True)\n",
    "#         \n",
    "#         self.conv_pre = nn.Sequential(\n",
    "#             nn.Conv1d(self.input_size, 32, kernel_size=7, stride=2, padding=3),\n",
    "#             nn.BatchNorm1d(32),\n",
    "#             nn.ReLU(),\n",
    "#             nn.MaxPool1d(kernel_size=3, stride=2, padding=1),\n",
    "#         )\n",
    "#         self.block = nn.Sequential(\n",
    "#             nn.Conv1d(32, 64, self.kernel_size, stride=2, padding=1), \n",
    "#             nn.BatchNorm1d(64),\n",
    "#             nn.ReLU(),\n",
    "#             nn.Conv1d(64, 128, self.kernel_size, stride=2, padding=1),\n",
    "#             nn.BatchNorm1d(128),\n",
    "#             nn.ReLU(),\n",
    "#             nn.Conv1d(128, 256, self.kernel_size, stride=2, padding=1),\n",
    "#             nn.BatchNorm1d(256),\n",
    "#             nn.ReLU(),\n",
    "#             nn.Conv1d(256, 512, self.kernel_size, stride=2, padding=1),\n",
    "#             nn.BatchNorm1d(512),\n",
    "#             nn.ReLU(),\n",
    "#         )\n",
    "#         self.fc_post = nn.Sequential(\n",
    "#             nn.AdaptiveAvgPool1d(1),\n",
    "#             nn.Flatten(),\n",
    "#             nn.Linear(512, 384),\n",
    "#             nn.ReLU(),\n",
    "#         )\n",
    "#         self.classification = nn.Sequential(\n",
    "#             nn.Linear(384, self.output_size),\n",
    "#         )\n",
    "# \n",
    "#     def forward(self, x):\n",
    "#         x = self.conv_pre(x)\n",
    "#         x = self.block(x)\n",
    "#         x = self.fc_post(x)\n",
    "#         return self.classification(x)\n",
    "# cnn_model = CNNSurfaceClassifier(input_size=INPUT_SIZE, output_size=num_classes).to(device)"
   ],
   "metadata": {
    "collapsed": false,
    "ExecuteTime": {
     "end_time": "2024-04-26T08:57:41.003676Z",
     "start_time": "2024-04-26T08:57:40.988712Z"
    }
   },
   "id": "e821e261c401efa6",
   "outputs": [],
   "execution_count": 13
  },
  {
   "cell_type": "code",
   "source": [
    "summary(cnn_model)"
   ],
   "metadata": {
    "collapsed": false,
    "ExecuteTime": {
     "end_time": "2024-04-26T08:57:41.095426Z",
     "start_time": "2024-04-26T08:57:41.075480Z"
    }
   },
   "id": "ba8c50a1e9708d52",
   "outputs": [
    {
     "data": {
      "text/plain": [
       "=================================================================\n",
       "Layer (type:depth-idx)                   Param #\n",
       "=================================================================\n",
       "CNNSurfaceClassifier                     --\n",
       "├─Sequential: 1-1                        --\n",
       "│    └─Conv1d: 2-1                       1,824\n",
       "│    └─BatchNorm1d: 2-2                  64\n",
       "│    └─ReLU: 2-3                         --\n",
       "│    └─MaxPool1d: 2-4                    --\n",
       "├─Block: 1-2                             --\n",
       "│    └─Conv1d: 2-5                       2,112\n",
       "│    └─BasicBlock: 2-6                   --\n",
       "│    │    └─Conv1d: 3-1                  6,208\n",
       "│    │    └─BatchNorm1d: 3-2             128\n",
       "│    └─BasicBlock: 2-7                   --\n",
       "│    │    └─Conv1d: 3-3                  12,352\n",
       "│    │    └─BatchNorm1d: 3-4             128\n",
       "│    └─ReLU: 2-8                         --\n",
       "├─Block: 1-3                             --\n",
       "│    └─Conv1d: 2-9                       8,320\n",
       "│    └─BasicBlock: 2-10                  --\n",
       "│    │    └─Conv1d: 3-5                  24,704\n",
       "│    │    └─BatchNorm1d: 3-6             256\n",
       "│    └─BasicBlock: 2-11                  --\n",
       "│    │    └─Conv1d: 3-7                  49,280\n",
       "│    │    └─BatchNorm1d: 3-8             256\n",
       "│    └─ReLU: 2-12                        --\n",
       "├─Block: 1-4                             --\n",
       "│    └─Conv1d: 2-13                      33,024\n",
       "│    └─BasicBlock: 2-14                  --\n",
       "│    │    └─Conv1d: 3-9                  98,560\n",
       "│    │    └─BatchNorm1d: 3-10            512\n",
       "│    └─BasicBlock: 2-15                  --\n",
       "│    │    └─Conv1d: 3-11                 196,864\n",
       "│    │    └─BatchNorm1d: 3-12            512\n",
       "│    └─ReLU: 2-16                        --\n",
       "├─Block: 1-5                             --\n",
       "│    └─Conv1d: 2-17                      131,584\n",
       "│    └─BasicBlock: 2-18                  --\n",
       "│    │    └─Conv1d: 3-13                 393,728\n",
       "│    │    └─BatchNorm1d: 3-14            1,024\n",
       "│    └─BasicBlock: 2-19                  --\n",
       "│    │    └─Conv1d: 3-15                 786,944\n",
       "│    │    └─BatchNorm1d: 3-16            1,024\n",
       "│    └─ReLU: 2-20                        --\n",
       "├─Sequential: 1-6                        --\n",
       "│    └─AdaptiveAvgPool1d: 2-21           --\n",
       "│    └─Flatten: 2-22                     --\n",
       "│    └─Linear: 2-23                      196,992\n",
       "│    └─ReLU: 2-24                        --\n",
       "├─Sequential: 1-7                        --\n",
       "│    └─Linear: 2-25                      3,850\n",
       "=================================================================\n",
       "Total params: 1,950,250\n",
       "Trainable params: 1,950,250\n",
       "Non-trainable params: 0\n",
       "================================================================="
      ]
     },
     "execution_count": 14,
     "metadata": {},
     "output_type": "execute_result"
    }
   ],
   "execution_count": 14
  },
  {
   "cell_type": "markdown",
   "source": [
    "### Loss function"
   ],
   "metadata": {
    "collapsed": false
   },
   "id": "1eb74cc30ec4f075"
  },
  {
   "cell_type": "code",
   "source": [
    "criterion = nn.CrossEntropyLoss()"
   ],
   "metadata": {
    "collapsed": false,
    "ExecuteTime": {
     "end_time": "2024-04-26T08:57:41.549215Z",
     "start_time": "2024-04-26T08:57:41.543230Z"
    }
   },
   "id": "1ec9144e4d480a2d",
   "outputs": [],
   "execution_count": 15
  },
  {
   "cell_type": "markdown",
   "source": [
    "### Optimizer"
   ],
   "metadata": {
    "collapsed": false
   },
   "id": "fa4d99f3eb297adf"
  },
  {
   "cell_type": "code",
   "source": [
    "optimizer = torch.optim.Adam(\n",
    "    cnn_model.parameters(),\n",
    "    lr=1e-3,\n",
    "    eps=1e-6,\n",
    "    weight_decay=1e-3,\n",
    "    )"
   ],
   "metadata": {
    "collapsed": false,
    "ExecuteTime": {
     "end_time": "2024-04-26T08:57:43.028260Z",
     "start_time": "2024-04-26T08:57:42.020954Z"
    }
   },
   "id": "a7fb9f74376bf1fc",
   "outputs": [],
   "execution_count": 16
  },
  {
   "cell_type": "markdown",
   "source": [
    "### Scheduler"
   ],
   "metadata": {
    "collapsed": false
   },
   "id": "8189ce4256cef7aa"
  },
  {
   "cell_type": "code",
   "source": [
    "scheduler = ExponentialLR(optimizer, gamma=0.9)"
   ],
   "metadata": {
    "collapsed": false,
    "ExecuteTime": {
     "end_time": "2024-04-26T08:57:43.044218Z",
     "start_time": "2024-04-26T08:57:43.030256Z"
    }
   },
   "id": "543d5776cbc9ab8e",
   "outputs": [],
   "execution_count": 17
  },
  {
   "cell_type": "markdown",
   "source": [
    "### Early stopping"
   ],
   "metadata": {
    "collapsed": false
   },
   "id": "3457623a134ea771"
  },
  {
   "cell_type": "code",
   "source": [
    "class EarlyStopper:\n",
    "    def __init__(self, patience=1, min_delta=0):\n",
    "        self.patience = patience\n",
    "        self.min_delta = min_delta\n",
    "        self.counter = 0\n",
    "        self.min_validation_loss = float('inf')\n",
    "\n",
    "    def early_stop(self, validation_loss):\n",
    "        if validation_loss < self.min_validation_loss:\n",
    "            self.min_validation_loss = validation_loss\n",
    "            self.counter = 0\n",
    "        elif validation_loss > (self.min_validation_loss + self.min_delta):\n",
    "            self.counter += 1\n",
    "            if self.counter >= self.patience:\n",
    "                return True\n",
    "        return False\n",
    "    \n",
    "early_stopper = EarlyStopper(patience=3, min_delta=1e-3)"
   ],
   "metadata": {
    "collapsed": false,
    "ExecuteTime": {
     "end_time": "2024-04-26T08:57:43.060176Z",
     "start_time": "2024-04-26T08:57:43.046214Z"
    }
   },
   "id": "99bf1d622f9db277",
   "outputs": [],
   "execution_count": 18
  },
  {
   "cell_type": "markdown",
   "source": [
    "### Training loop"
   ],
   "metadata": {
    "collapsed": false
   },
   "id": "e467a8774a8740fd"
  },
  {
   "cell_type": "code",
   "source": [
    "train_batches = len(train_dataloader)\n",
    "val_batches = len(val_dataloader)\n",
    "\n",
    "for epoch in range(NUM_EPOCHS):\n",
    "    running_train_loss = 0.0\n",
    "    running_val_loss = 0.0\n",
    "    \n",
    "    pbar = tqdm(train_dataloader, total=train_batches)\n",
    "    cnn_model.train()\n",
    "    for idx, (batch_x, batch_y) in enumerate(pbar):\n",
    "        optimizer.zero_grad()\n",
    "        \n",
    "        batch_x, batch_y = batch_x.to(device), batch_y.to(device)\n",
    "        batch_x = batch_x.permute(0, 2, 1)\n",
    "        train_outputs = cnn_model(batch_x)\n",
    "        train_loss = criterion(train_outputs, batch_y)\n",
    "        running_train_loss += train_loss\n",
    "\n",
    "        # Backward pass\n",
    "        train_loss.backward()\n",
    "        optimizer.step()\n",
    "\n",
    "        pbar.set_description(f\"Epoch {epoch + 1}/{NUM_EPOCHS}, Training loss: {running_train_loss / (idx + 1):.2E}\")\n",
    "    scheduler.step()\n",
    "\n",
    "    pbar_val = tqdm(val_dataloader, total=val_batches)\n",
    "    cnn_model.eval()\n",
    "    with torch.no_grad():\n",
    "        for idx, (batch_x_val, batch_y_val) in enumerate(pbar_val):\n",
    "            batch_x_val, batch_y_val = batch_x_val.to(device), batch_y_val.to(device)\n",
    "            batch_x_val = batch_x_val.permute(0, 2, 1)\n",
    "            val_outputs = cnn_model(batch_x_val)\n",
    "            val_loss = criterion(val_outputs, batch_y_val)\n",
    "            running_val_loss += val_loss\n",
    "            \n",
    "            pbar_val.set_description(f\"Epoch {epoch + 1}/{NUM_EPOCHS}, Validation loss: {running_val_loss / (idx + 1):.2E}\")\n",
    "            \n",
    "    torch.save({\n",
    "        'epoch': epoch,\n",
    "        'model_state_dict': cnn_model.state_dict(),\n",
    "        'optimizer_state_dict': optimizer.state_dict(),\n",
    "        'train_loss': running_train_loss,\n",
    "        'val_loss': running_val_loss,\n",
    "    }, f\"../data/checkpoints/cnn_classifier_{epoch + 1}.pt\")"
   ],
   "metadata": {
    "collapsed": false,
    "ExecuteTime": {
     "end_time": "2024-04-26T09:03:14.155468Z",
     "start_time": "2024-04-26T09:02:11.099134Z"
    }
   },
   "id": "9acb973ef0d7300b",
   "outputs": [
    {
     "name": "stderr",
     "output_type": "stream",
     "text": [
      "Epoch 1/10, Training loss: 6.46E-01: 100%|██████████| 7/7 [00:06<00:00,  1.03it/s]\n",
      "Epoch 1/10, Validation loss: 5.84E-01: 100%|██████████| 2/2 [00:01<00:00,  1.64it/s]\n",
      "Epoch 2/10, Training loss: 6.65E-01: 100%|██████████| 7/7 [00:04<00:00,  1.48it/s]\n",
      "Epoch 2/10, Validation loss: 4.28E-01: 100%|██████████| 2/2 [00:01<00:00,  1.73it/s]\n",
      "Epoch 3/10, Training loss: 7.26E-01: 100%|██████████| 7/7 [00:04<00:00,  1.44it/s]\n",
      "Epoch 3/10, Validation loss: 4.59E-01: 100%|██████████| 2/2 [00:01<00:00,  1.73it/s]\n",
      "Epoch 4/10, Training loss: 5.59E-01: 100%|██████████| 7/7 [00:04<00:00,  1.45it/s]\n",
      "Epoch 4/10, Validation loss: 5.65E-01: 100%|██████████| 2/2 [00:01<00:00,  1.75it/s]\n",
      "Epoch 5/10, Training loss: 6.73E-01: 100%|██████████| 7/7 [00:04<00:00,  1.44it/s]\n",
      "Epoch 5/10, Validation loss: 5.34E-01: 100%|██████████| 2/2 [00:01<00:00,  1.75it/s]\n",
      "Epoch 6/10, Training loss: 6.27E-01: 100%|██████████| 7/7 [00:05<00:00,  1.39it/s]\n",
      "Epoch 6/10, Validation loss: 5.70E-01: 100%|██████████| 2/2 [00:01<00:00,  1.70it/s]\n",
      "Epoch 7/10, Training loss: 5.86E-01: 100%|██████████| 7/7 [00:04<00:00,  1.43it/s]\n",
      "Epoch 7/10, Validation loss: 4.63E-01: 100%|██████████| 2/2 [00:01<00:00,  1.77it/s]\n",
      "Epoch 8/10, Training loss: 6.21E-01: 100%|██████████| 7/7 [00:04<00:00,  1.40it/s]\n",
      "Epoch 8/10, Validation loss: 5.46E-01: 100%|██████████| 2/2 [00:01<00:00,  1.73it/s]\n",
      "Epoch 9/10, Training loss: 6.52E-01: 100%|██████████| 7/7 [00:04<00:00,  1.41it/s]\n",
      "Epoch 9/10, Validation loss: 4.97E-01: 100%|██████████| 2/2 [00:01<00:00,  1.58it/s]\n",
      "Epoch 10/10, Training loss: 6.97E-01: 100%|██████████| 7/7 [00:04<00:00,  1.45it/s]\n",
      "Epoch 10/10, Validation loss: 5.81E-01: 100%|██████████| 2/2 [00:01<00:00,  1.68it/s]\n"
     ]
    }
   ],
   "execution_count": 28
  },
  {
   "cell_type": "markdown",
   "source": [
    "\n",
    "### Test"
   ],
   "metadata": {
    "collapsed": false
   },
   "id": "ef491e948e917e3d"
  },
  {
   "cell_type": "code",
   "source": [
    "test_batches = len(test_dataloader)\n",
    "y_pred = []\n",
    "running_test_loss = 0.0\n",
    "misclassified = []\n",
    "\n",
    "pbar_test = tqdm(test_dataloader, total=test_batches)\n",
    "cnn_model.eval()\n",
    "with torch.no_grad():\n",
    "    for idx, (batch_x_test, batch_y_test) in enumerate(pbar_test):\n",
    "        batch_x_test, batch_y_test = batch_x_test.to(device), batch_y_test.to(device)\n",
    "        batch_x_test = batch_x_test.permute(0, 2, 1)\n",
    "        test_outputs = cnn_model(batch_x_test)\n",
    "        test_loss = criterion(test_outputs, batch_y_test)\n",
    "        pred = torch.argmax(test_outputs).cpu().numpy()\n",
    "        true = torch.argmax(batch_y_test).cpu().numpy()\n",
    "        y_pred.append(pred)\n",
    "        if pred != true:\n",
    "            misclassified.append(original_indexing[idx])\n",
    "        running_test_loss += test_loss\n",
    "        \n",
    "        pbar_test.set_description(f\"Test loss: {running_test_loss / (idx + 1):.2E}\")\n",
    "\n",
    "misclassified_original = [y_primary[idx] for idx in misclassified]"
   ],
   "metadata": {
    "collapsed": false,
    "ExecuteTime": {
     "end_time": "2024-04-26T09:03:16.675018Z",
     "start_time": "2024-04-26T09:03:14.157458Z"
    }
   },
   "id": "a74fb4fba5791ec5",
   "outputs": [
    {
     "name": "stderr",
     "output_type": "stream",
     "text": [
      "Test loss: 5.05E-01: 100%|██████████| 70/70 [00:02<00:00, 28.08it/s]\n"
     ]
    }
   ],
   "execution_count": 29
  },
  {
   "cell_type": "markdown",
   "source": [
    "### Confusion matrix"
   ],
   "metadata": {
    "collapsed": false
   },
   "id": "86a0969893d4f8f0"
  },
  {
   "cell_type": "code",
   "source": [
    "plt.style.use('default')\n",
    "fig, ax = plt.subplots(figsize=(10, 10))\n",
    "\n",
    "# y_test = lb.inverse_transform(y_test)\n",
    "print(classification_report(y_test, y_pred, target_names=classes))\n",
    "disp = ConfusionMatrixDisplay.from_predictions(y_test, y_pred, display_labels=classes, xticks_rotation='vertical', cmap='Blues', ax=ax)"
   ],
   "metadata": {
    "collapsed": false,
    "ExecuteTime": {
     "end_time": "2024-04-26T09:03:17.095979Z",
     "start_time": "2024-04-26T09:03:16.677013Z"
    }
   },
   "id": "68b58d90dc740fc0",
   "outputs": [
    {
     "name": "stdout",
     "output_type": "stream",
     "text": [
      "                     precision    recall  f1-score   support\n",
      "\n",
      "   10_Mata_ukladana       1.00      0.86      0.92         7\n",
      "           1_Panele       0.67      0.67      0.67         6\n",
      "2_Wykladzina_czarna       0.70      0.88      0.78         8\n",
      " 3_Wykladzina_jasna       1.00      1.00      1.00         7\n",
      "            4_Trawa       0.88      1.00      0.93         7\n",
      "    5_Spienione_PCV       1.00      0.86      0.92         7\n",
      "         6_Linoleum       0.75      0.86      0.80         7\n",
      "    7_Plytki_w_sali       1.00      0.86      0.92         7\n",
      "      8_Pusta_plyta       0.33      0.33      0.33         6\n",
      "         9_podklady       0.71      0.62      0.67         8\n",
      "\n",
      "           accuracy                           0.80        70\n",
      "          macro avg       0.80      0.79      0.79        70\n",
      "       weighted avg       0.81      0.80      0.80        70\n",
      "\n"
     ]
    },
    {
     "data": {
      "text/plain": [
       "<Figure size 1000x1000 with 2 Axes>"
      ],
      "image/png": "[encoded data removed]"
     },
     "metadata": {},
     "output_type": "display_data"
    }
   ],
   "execution_count": 30
  },
  {
   "cell_type": "code",
   "source": [
    "pd.Series(misclassified_original).value_counts().plot.bar()\n",
    "plt.yticks(range(0, 21, 2))\n",
    "plt.grid(axis='y')"
   ],
   "metadata": {
    "collapsed": false,
    "ExecuteTime": {
     "end_time": "2024-04-26T08:53:57.094197Z",
     "start_time": "2024-04-26T08:53:56.863341Z"
    }
   },
   "id": "54efe743b9459b39",
   "outputs": [
    {
     "data": {
      "text/plain": [
       "<Figure size 640x480 with 1 Axes>"
      ],
      "image/png": "[encoded data removed]"
     },
     "metadata": {},
     "output_type": "display_data"
    }
   ],
   "execution_count": 31
  },
  {
   "cell_type": "code",
   "outputs": [],
   "source": "81 89 88 / 76 83 86",
   "metadata": {
    "collapsed": false
   },
   "id": "67b8db2062e70536",
   "execution_count": null
  }
 ],
 "metadata": {
  "kernelspec": {
   "display_name": "Python 3",
   "language": "python",
   "name": "python3"
  },
  "language_info": {
   "codemirror_mode": {
    "name": "ipython",
    "version": 2
   },
   "file_extension": ".py",
   "mimetype": "text/x-python",
   "name": "python",
   "nbconvert_exporter": "python",
   "pygments_lexer": "ipython2",
   "version": "2.7.6"
  }
 },
 "nbformat": 4,
 "nbformat_minor": 5
}
